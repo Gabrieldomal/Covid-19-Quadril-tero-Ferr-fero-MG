{
 "cells": [
  {
   "cell_type": "code",
   "execution_count": 64,
   "metadata": {},
   "outputs": [
    {
     "data": {
      "text/html": [
       "<script>\n",
       "code_show=true; \n",
       "function code_toggle() {\n",
       " if (code_show){\n",
       " $('div.input').hide();\n",
       " } else {\n",
       " $('div.input').show();\n",
       " }\n",
       " code_show = !code_show\n",
       "} \n",
       "$( document ).ready(code_toggle);\n",
       "</script>\n",
       "<form action=\"javascript:code_toggle()\"><input type=\"submit\" value=\"Mostrar código.\"></form>"
      ],
      "text/plain": [
       "<IPython.core.display.HTML object>"
      ]
     },
     "execution_count": 64,
     "metadata": {},
     "output_type": "execute_result"
    }
   ],
   "source": [
    "from IPython.display import HTML\n",
    "\n",
    "HTML('''<script>\n",
    "code_show=true; \n",
    "function code_toggle() {\n",
    " if (code_show){\n",
    " $('div.input').hide();\n",
    " } else {\n",
    " $('div.input').show();\n",
    " }\n",
    " code_show = !code_show\n",
    "} \n",
    "$( document ).ready(code_toggle);\n",
    "</script>\n",
    "<form action=\"javascript:code_toggle()\"><input type=\"submit\" value=\"Mostrar código.\"></form>''')"
   ]
  },
  {
   "cell_type": "markdown",
   "metadata": {},
   "source": [
    "BOLETIM EPIDEMIOLóGICO DO QUADRILÀTERO FERRÌFERO"
   ]
  },
  {
   "cell_type": "code",
   "execution_count": 12,
   "metadata": {
    "scrolled": true
   },
   "outputs": [],
   "source": [
    "import pandas as pd\n",
    "import numpy as np\n",
    "import warnings\n",
    "warnings.filterwarnings('ignore')\n",
    "\n",
    "#importamos o banco de dado\n",
    "base_out = pd.read_csv('csv_sistemas(47).csv',sep=',', encoding='latin-1')\n",
    "base_out['contador'] = 1\n",
    "\n",
    "#segundo banco de dado com o restante dos confirmados.\n",
    "base_lab = pd.read_csv('csv_laboratorios(9).csv',sep=',', encoding='latin-1')\n",
    "base_lab['contador'] = 1\n",
    "\n",
    "base = pd.concat([base_lab, base_out], ignore_index=False)\n",
    "\n",
    "#Limpeza e oredanção dos dados\n",
    "from datetime import datetime\n",
    "base['DATA_NOTIFICACAO'] = pd.to_datetime(base['DATA_NOTIFICACAO'], format='%m/%d/%Y')\n",
    "\n",
    "base.sort_values('DATA_NOTIFICACAO', inplace=True)"
   ]
  },
  {
   "cell_type": "code",
   "execution_count": 98,
   "metadata": {},
   "outputs": [],
   "source": [
    "#quadrilátero_ferrifero.groupby([\"EVOLUCAO\"]).contador.sum()"
   ]
  },
  {
   "cell_type": "code",
   "execution_count": 15,
   "metadata": {
    "scrolled": false
   },
   "outputs": [],
   "source": [
    "#seleciono a regiao com a qual vou trabalhar e extrair os dados.\n",
    "#Definindo municipios interesse\n",
    "municipios_interesse = ['NOVA LIMA','BELO VALE', 'BETIM', 'BRUMADINHO', 'CONSELHEIRO LAFAIETE', 'CATAS ALTAS', 'BRUMADINHO', 'ALVINOPOLIS', 'BARAO DE COCAIS', 'CAETE','CONGONHAS', 'IBIRITE','IGARAPE', 'ITABIRA','ITABIRITO', 'ITATIAIUÇU','ITAÚNA','JECEABA', 'JOAO MONLEVADE', 'MARIANA', 'MATEUS LEME', 'MOEDA', 'OURO PRETO', 'OURO BRANCO', 'RAPOSOS', 'SAO GONÇALO DO RIO ABAIXO', 'RIO ACIMA', 'RIO MANSO', 'RIO PIRACICABA', 'SABARA', 'SANTA BARBARA', 'SANTA LUZIA', 'SAO JOAQUIM DE BICAS', 'SARZEDO']\n",
    "\n",
    "#selecionando com isin\n",
    "quadrilátero_ferrifero = base[base['MUNICIPIO_RESIDENCIA'].isin(municipios_interesse) == True]"
   ]
  },
  {
   "cell_type": "code",
   "execution_count": 17,
   "metadata": {},
   "outputs": [
    {
     "name": "stdout",
     "output_type": "stream",
     "text": [
      "Confirmados nas ultimas 24hrs:  17\n"
     ]
    }
   ],
   "source": [
    "confirmados_24h = quadrilátero_ferrifero.loc[quadrilátero_ferrifero['DATA_NOTIFICACAO'] == '2020-07-22']\n",
    "print(\"Confirmados nas ultimas 24hrs: \",int(confirmados_24h.contador.sum()))"
   ]
  },
  {
   "cell_type": "code",
   "execution_count": 18,
   "metadata": {
    "scrolled": true
   },
   "outputs": [
    {
     "name": "stdout",
     "output_type": "stream",
     "text": [
      "Casos confirmados:  8448\n"
     ]
    }
   ],
   "source": [
    "Casos_confirmados = quadrilátero_ferrifero.contador.sum()\n",
    "print('Casos confirmados: ', int(Casos_confirmados))"
   ]
  },
  {
   "cell_type": "code",
   "execution_count": 22,
   "metadata": {},
   "outputs": [
    {
     "name": "stdout",
     "output_type": "stream",
     "text": [
      "Casos em acompanhamento:  Não informado\n"
     ]
    }
   ],
   "source": [
    "em_acompanhamento = quadrilátero_ferrifero.loc[quadrilátero_ferrifero['EVOLUCAO'] == 'EM ACOMPANHAMENTO']\n",
    "em_acompanhamento = em_acompanhamento['contador'].sum()\n",
    "print('Casos em acompanhamento: ', 'Não informado')"
   ]
  },
  {
   "cell_type": "code",
   "execution_count": 21,
   "metadata": {},
   "outputs": [
    {
     "name": "stdout",
     "output_type": "stream",
     "text": [
      "Casos recuperados:  2766\n"
     ]
    }
   ],
   "source": [
    "recuperados = quadrilátero_ferrifero.loc[quadrilátero_ferrifero['EVOLUCAO'] == 'RECUPERADO']\n",
    "Casos_recuperados = recuperados['contador'].sum()\n",
    "print('Casos recuperados: ', int(Casos_recuperados))"
   ]
  },
  {
   "cell_type": "code",
   "execution_count": 23,
   "metadata": {
    "scrolled": true
   },
   "outputs": [
    {
     "name": "stdout",
     "output_type": "stream",
     "text": [
      "Óbitos:  179\n"
     ]
    }
   ],
   "source": [
    "obitos = quadrilátero_ferrifero.loc[quadrilátero_ferrifero['EVOLUCAO'] == 'OBITO']\n",
    "obitos_OP = obitos['contador'].sum()\n",
    "print('Óbitos: ', int(obitos_OP))"
   ]
  },
  {
   "cell_type": "code",
   "execution_count": 24,
   "metadata": {},
   "outputs": [
    {
     "name": "stdout",
     "output_type": "stream",
     "text": [
      "\n"
     ]
    }
   ],
   "source": [
    "print('')"
   ]
  },
  {
   "cell_type": "markdown",
   "metadata": {},
   "source": [
    "1_ PERFIL EPIDEMIOLOGICO DOS CONFIRMADOS:"
   ]
  },
  {
   "cell_type": "markdown",
   "metadata": {},
   "source": [
    "POR SEXO:"
   ]
  },
  {
   "cell_type": "code",
   "execution_count": 25,
   "metadata": {},
   "outputs": [],
   "source": [
    "#quadrilátero_ferrifero.groupby(['SEXO']).contador.sum()"
   ]
  },
  {
   "cell_type": "code",
   "execution_count": 26,
   "metadata": {},
   "outputs": [
    {
     "name": "stdout",
     "output_type": "stream",
     "text": [
      "Homens confirmados:  4729\n"
     ]
    }
   ],
   "source": [
    "Homens_confirmados = quadrilátero_ferrifero.loc[(quadrilátero_ferrifero['SEXO'] == 'MASCULINO')]\n",
    "Homens_confirmados_vivos = Homens_confirmados[(Homens_confirmados.EVOLUCAO != 'OBITO')]\n",
    "Homens_confirmados_vivos = Homens_confirmados_vivos['contador'].sum()\n",
    "print('Homens confirmados: ', int(Homens_confirmados_vivos))"
   ]
  },
  {
   "cell_type": "code",
   "execution_count": 27,
   "metadata": {},
   "outputs": [
    {
     "name": "stdout",
     "output_type": "stream",
     "text": [
      "Mulheres confirmadas:  3402\n"
     ]
    }
   ],
   "source": [
    "Mulheres_confirmadas = quadrilátero_ferrifero.loc[(quadrilátero_ferrifero['SEXO'] == 'FEMININO')]\n",
    "Mulheres_confirmadas_vivas = Mulheres_confirmadas[(Mulheres_confirmadas.EVOLUCAO != 'OBITO')]\n",
    "Mulheres_confirmadas_vivas = Mulheres_confirmadas_vivas['contador'].sum()\n",
    "print('Mulheres confirmadas: ', int(Mulheres_confirmadas_vivas))"
   ]
  },
  {
   "cell_type": "code",
   "execution_count": 28,
   "metadata": {},
   "outputs": [
    {
     "name": "stdout",
     "output_type": "stream",
     "text": [
      "Sem informação do sexo:  138\n"
     ]
    }
   ],
   "source": [
    "sem_informacao_sexo = quadrilátero_ferrifero.loc[quadrilátero_ferrifero['SEXO'] == 'NAO INFORMADO']\n",
    "print('Sem informação do sexo: ', int(sem_informacao_sexo.contador.sum()))"
   ]
  },
  {
   "cell_type": "code",
   "execution_count": 29,
   "metadata": {},
   "outputs": [
    {
     "name": "stdout",
     "output_type": "stream",
     "text": [
      "Porcentagem homens:  58%\n"
     ]
    }
   ],
   "source": [
    "perct_por_sexo_H_vivos = Homens_confirmados_vivos/(Homens_confirmados_vivos+Mulheres_confirmadas_vivas)\n",
    "print(\"Porcentagem homens: \",\"{:.0%}\".format(perct_por_sexo_H_vivos));"
   ]
  },
  {
   "cell_type": "code",
   "execution_count": 30,
   "metadata": {},
   "outputs": [
    {
     "name": "stdout",
     "output_type": "stream",
     "text": [
      "Porcentagem mulheres:  42%\n"
     ]
    }
   ],
   "source": [
    "perct_por_sexo_M_vivos = Mulheres_confirmadas_vivas/(Homens_confirmados_vivos+Mulheres_confirmadas_vivas)\n",
    "print(\"Porcentagem mulheres: \",\"{:.0%}\".format(perct_por_sexo_M_vivos));"
   ]
  },
  {
   "cell_type": "code",
   "execution_count": 31,
   "metadata": {},
   "outputs": [
    {
     "name": "stdout",
     "output_type": "stream",
     "text": [
      "N total:  8131\n"
     ]
    }
   ],
   "source": [
    "N_vivo = Mulheres_confirmadas_vivas + Homens_confirmados_vivos\n",
    "print(\"N total: \",int(N_vivo))"
   ]
  },
  {
   "cell_type": "code",
   "execution_count": 32,
   "metadata": {},
   "outputs": [
    {
     "name": "stdout",
     "output_type": "stream",
     "text": [
      "\n"
     ]
    }
   ],
   "source": [
    "print('')"
   ]
  },
  {
   "cell_type": "markdown",
   "metadata": {},
   "source": [
    "COMORBIDADE:"
   ]
  },
  {
   "cell_type": "code",
   "execution_count": 33,
   "metadata": {},
   "outputs": [
    {
     "name": "stdout",
     "output_type": "stream",
     "text": [
      "Com comorbidade:  369\n"
     ]
    }
   ],
   "source": [
    "com_comorbidade = quadrilátero_ferrifero.loc[(quadrilátero_ferrifero['COMORBIDADE'] == 'SIM')]\n",
    "Com_comorbidade_vivos = com_comorbidade[(com_comorbidade.EVOLUCAO != 'OBITO')]\n",
    "Com_comorbidade_vivos = Com_comorbidade_vivos['contador'].sum()\n",
    "print(\"Com comorbidade: \", int(Com_comorbidade_vivos))"
   ]
  },
  {
   "cell_type": "code",
   "execution_count": 34,
   "metadata": {},
   "outputs": [
    {
     "name": "stdout",
     "output_type": "stream",
     "text": [
      "Sem comorbidade:  1127\n"
     ]
    }
   ],
   "source": [
    "sem_comorbidade = quadrilátero_ferrifero.loc[(quadrilátero_ferrifero['COMORBIDADE'] == 'NAO')]\n",
    "Sem_comorbidade_vivos = sem_comorbidade[(sem_comorbidade.EVOLUCAO != 'OBITO')]\n",
    "Sem_comorbidade_vivos = Sem_comorbidade_vivos['contador'].sum() \n",
    "print (\"Sem comorbidade: \", int(Sem_comorbidade_vivos))"
   ]
  },
  {
   "cell_type": "code",
   "execution_count": 35,
   "metadata": {},
   "outputs": [
    {
     "name": "stdout",
     "output_type": "stream",
     "text": [
      "Comorbidade não informada:  6784\n"
     ]
    }
   ],
   "source": [
    "comorbidade_nao_informada = quadrilátero_ferrifero.loc[(quadrilátero_ferrifero['COMORBIDADE'] == 'NAO INFORMADO')]\n",
    "Comorbidade_nao_informada = comorbidade_nao_informada['contador'].sum()\n",
    "print(\"Comorbidade não informada: \", int(Comorbidade_nao_informada))"
   ]
  },
  {
   "cell_type": "code",
   "execution_count": 36,
   "metadata": {},
   "outputs": [
    {
     "name": "stdout",
     "output_type": "stream",
     "text": [
      "\n"
     ]
    }
   ],
   "source": [
    "print('')"
   ]
  },
  {
   "cell_type": "code",
   "execution_count": 37,
   "metadata": {},
   "outputs": [
    {
     "name": "stdout",
     "output_type": "stream",
     "text": [
      "Média de idade entre os vivos:  42\n",
      "Prevalência: 0.05\n"
     ]
    }
   ],
   "source": [
    "Media_idade_confirmados = quadrilátero_ferrifero.loc[(quadrilátero_ferrifero.EVOLUCAO != 'OBITO')]\n",
    "Media_idade_confirmados = Media_idade_confirmados['IDADE'].mean()\n",
    "print (\"Média de idade entre os vivos: \", round(Media_idade_confirmados))\n",
    "populacao_total = 51875+60724+74281\n",
    "print(\"Prevalência:\", \"{:.0}\".format(Casos_confirmados/populacao_total))"
   ]
  },
  {
   "cell_type": "code",
   "execution_count": 38,
   "metadata": {},
   "outputs": [
    {
     "name": "stdout",
     "output_type": "stream",
     "text": [
      "\n"
     ]
    }
   ],
   "source": [
    "print('')"
   ]
  },
  {
   "cell_type": "code",
   "execution_count": 39,
   "metadata": {
    "scrolled": false
   },
   "outputs": [
    {
     "data": {
      "text/html": [
       "<div>\n",
       "<style scoped>\n",
       "    .dataframe tbody tr th:only-of-type {\n",
       "        vertical-align: middle;\n",
       "    }\n",
       "\n",
       "    .dataframe tbody tr th {\n",
       "        vertical-align: top;\n",
       "    }\n",
       "\n",
       "    .dataframe thead th {\n",
       "        text-align: right;\n",
       "    }\n",
       "</style>\n",
       "<table border=\"1\" class=\"dataframe\">\n",
       "  <thead>\n",
       "    <tr style=\"text-align: right;\">\n",
       "      <th></th>\n",
       "      <th>FAIXA_ETARIA</th>\n",
       "      <th>Confirmados</th>\n",
       "    </tr>\n",
       "  </thead>\n",
       "  <tbody>\n",
       "    <tr>\n",
       "      <td>0</td>\n",
       "      <td>1 A 9 ANOS</td>\n",
       "      <td>118</td>\n",
       "    </tr>\n",
       "    <tr>\n",
       "      <td>1</td>\n",
       "      <td>10 A 19 ANOS</td>\n",
       "      <td>163</td>\n",
       "    </tr>\n",
       "    <tr>\n",
       "      <td>2</td>\n",
       "      <td>20 A 29 ANOS</td>\n",
       "      <td>1165</td>\n",
       "    </tr>\n",
       "    <tr>\n",
       "      <td>3</td>\n",
       "      <td>30 A 39 ANOS</td>\n",
       "      <td>2270</td>\n",
       "    </tr>\n",
       "    <tr>\n",
       "      <td>4</td>\n",
       "      <td>40 A 49 ANOS</td>\n",
       "      <td>1602</td>\n",
       "    </tr>\n",
       "    <tr>\n",
       "      <td>5</td>\n",
       "      <td>50 A 59 ANOS</td>\n",
       "      <td>1049</td>\n",
       "    </tr>\n",
       "    <tr>\n",
       "      <td>7</td>\n",
       "      <td>&gt;= 60 ANOS</td>\n",
       "      <td>1053</td>\n",
       "    </tr>\n",
       "  </tbody>\n",
       "</table>\n",
       "</div>"
      ],
      "text/plain": [
       "   FAIXA_ETARIA  Confirmados\n",
       "0    1 A 9 ANOS          118\n",
       "1  10 A 19 ANOS          163\n",
       "2  20 A 29 ANOS         1165\n",
       "3  30 A 39 ANOS         2270\n",
       "4  40 A 49 ANOS         1602\n",
       "5  50 A 59 ANOS         1049\n",
       "7    >= 60 ANOS         1053"
      ]
     },
     "execution_count": 39,
     "metadata": {},
     "output_type": "execute_result"
    }
   ],
   "source": [
    "quadrilátero_ferrifero['FAIXA_ETARIA'] = quadrilátero_ferrifero['FAIXA_ETARIA'].replace(['60 A 69 ANOS', '70 A 79 ANOS', '80 A 89 ANOS', '90 OU MAIS'], '>= 60 ANOS')\n",
    "quadrilátero_ferrifero['FAIXA_ETARIA'] = quadrilátero_ferrifero['FAIXA_ETARIA'].replace(['0'], 'Nao informado')\n",
    "\n",
    "grafico_faixa_etaria = quadrilátero_ferrifero.groupby(['FAIXA_ETARIA']).contador.sum()\n",
    "grafico_faixa_etaria = pd.DataFrame({'Confirmados': grafico_faixa_etaria}).reset_index()\n",
    "grafico_faixa_etaria = (grafico_faixa_etaria.drop([6]))\n",
    "grafico_faixa_etaria"
   ]
  },
  {
   "cell_type": "code",
   "execution_count": 40,
   "metadata": {},
   "outputs": [
    {
     "name": "stdout",
     "output_type": "stream",
     "text": [
      "Porcentagem de confirmados entre 20 e 59 anos:  82%\n"
     ]
    }
   ],
   "source": [
    "denominador_20_59 = grafico_faixa_etaria['Confirmados'].sum()\n",
    "numerador_20_59 = grafico_faixa_etaria.iloc[[2,3,4,5],1].sum(axis=0)\n",
    "\n",
    "percent_entre_20_59 = (numerador_20_59/denominador_20_59)\n",
    "print(\"Porcentagem de confirmados entre 20 e 59 anos: \",\"{:.0%}\".format(percent_entre_20_59));"
   ]
  },
  {
   "cell_type": "code",
   "execution_count": 41,
   "metadata": {},
   "outputs": [
    {
     "name": "stdout",
     "output_type": "stream",
     "text": [
      "\n"
     ]
    }
   ],
   "source": [
    "print('')"
   ]
  },
  {
   "cell_type": "markdown",
   "metadata": {},
   "source": [
    "Por Raça:"
   ]
  },
  {
   "cell_type": "code",
   "execution_count": 42,
   "metadata": {},
   "outputs": [
    {
     "name": "stdout",
     "output_type": "stream",
     "text": [
      "Não informado:  6079\n"
     ]
    }
   ],
   "source": [
    "raca = quadrilátero_ferrifero.groupby(['RACA']).contador.sum()\n",
    "raca = pd.DataFrame({'Quantidade': raca}).reset_index()\n",
    "print('Não informado: ', int(raca.iloc[3,1]))\n",
    "raca = raca.drop([3])"
   ]
  },
  {
   "cell_type": "code",
   "execution_count": 43,
   "metadata": {},
   "outputs": [
    {
     "name": "stdout",
     "output_type": "stream",
     "text": [
      "\n"
     ]
    }
   ],
   "source": [
    "print('')"
   ]
  },
  {
   "cell_type": "markdown",
   "metadata": {},
   "source": [
    "2_ PERFIL EPIDEMIOLOGICO DOS OBITOS"
   ]
  },
  {
   "cell_type": "markdown",
   "metadata": {},
   "source": [
    "POR SEXO:"
   ]
  },
  {
   "cell_type": "code",
   "execution_count": 44,
   "metadata": {},
   "outputs": [
    {
     "name": "stdout",
     "output_type": "stream",
     "text": [
      "Homens mortos:  99\n"
     ]
    }
   ],
   "source": [
    "Homens_mortos = quadrilátero_ferrifero.loc[(quadrilátero_ferrifero['SEXO'] == 'MASCULINO')]\n",
    "Homens_mortos = Homens_mortos.loc[Homens_mortos['EVOLUCAO'] == 'OBITO']\n",
    "Homens_mortos = Homens_mortos['contador'].sum()\n",
    "print(\"Homens mortos: \", int(Homens_mortos))"
   ]
  },
  {
   "cell_type": "code",
   "execution_count": 45,
   "metadata": {},
   "outputs": [
    {
     "name": "stdout",
     "output_type": "stream",
     "text": [
      "Mulheres mortas:  80\n"
     ]
    }
   ],
   "source": [
    "Mulheres_mortas = quadrilátero_ferrifero.loc[(quadrilátero_ferrifero['SEXO'] == 'FEMININO')]\n",
    "Mulheres_mortas = Mulheres_mortas.loc[Mulheres_mortas['EVOLUCAO'] == 'OBITO']\n",
    "Mulheres_mortas = Mulheres_mortas['contador'].sum()\n",
    "print(\"Mulheres mortas: \", int(Mulheres_mortas))"
   ]
  },
  {
   "cell_type": "code",
   "execution_count": 46,
   "metadata": {},
   "outputs": [
    {
     "name": "stdout",
     "output_type": "stream",
     "text": [
      "Procentagem de homens mortos:  55%\n"
     ]
    }
   ],
   "source": [
    "perct_por_sexo_H_mortos = Homens_mortos/(Homens_mortos+Mulheres_mortas)\n",
    "print(\"Procentagem de homens mortos: \",\"{:.0%}\".format(perct_por_sexo_H_mortos));"
   ]
  },
  {
   "cell_type": "code",
   "execution_count": 47,
   "metadata": {},
   "outputs": [
    {
     "name": "stdout",
     "output_type": "stream",
     "text": [
      "Porcentagem de mulheres mortas:  45%\n"
     ]
    }
   ],
   "source": [
    "perct_por_sexo_M_mortos = Mulheres_mortas/(Homens_mortos+Mulheres_mortas)\n",
    "print(\"Porcentagem de mulheres mortas: \",\"{:.0%}\".format(perct_por_sexo_M_mortos));"
   ]
  },
  {
   "cell_type": "code",
   "execution_count": 48,
   "metadata": {},
   "outputs": [
    {
     "name": "stdout",
     "output_type": "stream",
     "text": [
      "N total:  179\n"
     ]
    }
   ],
   "source": [
    "print(\"N total: \",int(Homens_mortos+Mulheres_mortas))"
   ]
  },
  {
   "cell_type": "code",
   "execution_count": 49,
   "metadata": {},
   "outputs": [
    {
     "name": "stdout",
     "output_type": "stream",
     "text": [
      "Letalidade:  2.12%\n"
     ]
    }
   ],
   "source": [
    "Letalidade = obitos_OP/Casos_confirmados\n",
    "print(\"Letalidade: \",\"{:.2%}\".format(Letalidade));"
   ]
  },
  {
   "cell_type": "code",
   "execution_count": 50,
   "metadata": {},
   "outputs": [
    {
     "name": "stdout",
     "output_type": "stream",
     "text": [
      "Media de idade dos óbitos:  66\n"
     ]
    }
   ],
   "source": [
    "Media_idade_obitos = obitos['IDADE'].mean()\n",
    "print(\"Media de idade dos óbitos: \",round(Media_idade_obitos))"
   ]
  },
  {
   "cell_type": "code",
   "execution_count": 51,
   "metadata": {},
   "outputs": [
    {
     "name": "stdout",
     "output_type": "stream",
     "text": [
      "\n"
     ]
    }
   ],
   "source": [
    "print('')"
   ]
  },
  {
   "cell_type": "markdown",
   "metadata": {},
   "source": [
    "Tabela Obitos por idade:"
   ]
  },
  {
   "cell_type": "code",
   "execution_count": 52,
   "metadata": {},
   "outputs": [
    {
     "data": {
      "text/html": [
       "<div>\n",
       "<style scoped>\n",
       "    .dataframe tbody tr th:only-of-type {\n",
       "        vertical-align: middle;\n",
       "    }\n",
       "\n",
       "    .dataframe tbody tr th {\n",
       "        vertical-align: top;\n",
       "    }\n",
       "\n",
       "    .dataframe thead th {\n",
       "        text-align: right;\n",
       "    }\n",
       "</style>\n",
       "<table border=\"1\" class=\"dataframe\">\n",
       "  <thead>\n",
       "    <tr style=\"text-align: right;\">\n",
       "      <th></th>\n",
       "      <th>FAIXA_ETARIA</th>\n",
       "      <th>Obitos</th>\n",
       "    </tr>\n",
       "  </thead>\n",
       "  <tbody>\n",
       "    <tr>\n",
       "      <td>0</td>\n",
       "      <td>10 A 19 ANOS</td>\n",
       "      <td>1</td>\n",
       "    </tr>\n",
       "    <tr>\n",
       "      <td>1</td>\n",
       "      <td>20 A 29 ANOS</td>\n",
       "      <td>4</td>\n",
       "    </tr>\n",
       "    <tr>\n",
       "      <td>2</td>\n",
       "      <td>30 A 39 ANOS</td>\n",
       "      <td>9</td>\n",
       "    </tr>\n",
       "    <tr>\n",
       "      <td>3</td>\n",
       "      <td>40 A 49 ANOS</td>\n",
       "      <td>11</td>\n",
       "    </tr>\n",
       "    <tr>\n",
       "      <td>4</td>\n",
       "      <td>50 A 59 ANOS</td>\n",
       "      <td>27</td>\n",
       "    </tr>\n",
       "    <tr>\n",
       "      <td>5</td>\n",
       "      <td>60 A 69 ANOS</td>\n",
       "      <td>47</td>\n",
       "    </tr>\n",
       "    <tr>\n",
       "      <td>6</td>\n",
       "      <td>70 A 79 ANOS</td>\n",
       "      <td>34</td>\n",
       "    </tr>\n",
       "    <tr>\n",
       "      <td>7</td>\n",
       "      <td>80 A 89 ANOS</td>\n",
       "      <td>39</td>\n",
       "    </tr>\n",
       "    <tr>\n",
       "      <td>8</td>\n",
       "      <td>90 OU MAIS</td>\n",
       "      <td>6</td>\n",
       "    </tr>\n",
       "    <tr>\n",
       "      <td>9</td>\n",
       "      <td>&lt;1ANO</td>\n",
       "      <td>1</td>\n",
       "    </tr>\n",
       "  </tbody>\n",
       "</table>\n",
       "</div>"
      ],
      "text/plain": [
       "   FAIXA_ETARIA  Obitos\n",
       "0  10 A 19 ANOS       1\n",
       "1  20 A 29 ANOS       4\n",
       "2  30 A 39 ANOS       9\n",
       "3  40 A 49 ANOS      11\n",
       "4  50 A 59 ANOS      27\n",
       "5  60 A 69 ANOS      47\n",
       "6  70 A 79 ANOS      34\n",
       "7  80 A 89 ANOS      39\n",
       "8    90 OU MAIS       6\n",
       "9         <1ANO       1"
      ]
     },
     "execution_count": 52,
     "metadata": {},
     "output_type": "execute_result"
    }
   ],
   "source": [
    "grafico_faixa_etaria_mortos = obitos.groupby(['FAIXA_ETARIA']).contador.sum()\n",
    "grafico_faixa_etaria_mortos = pd.DataFrame({'Obitos': grafico_faixa_etaria_mortos}).reset_index()\n",
    "grafico_faixa_etaria_mortos"
   ]
  },
  {
   "cell_type": "code",
   "execution_count": 53,
   "metadata": {},
   "outputs": [
    {
     "name": "stdout",
     "output_type": "stream",
     "text": [
      "Obitos acima de 60 anos:  66%\n"
     ]
    }
   ],
   "source": [
    "obitos60 = grafico_faixa_etaria_mortos.iloc[[3,4,5,6],1].sum(axis=0)\n",
    "percent_obitos_60 = obitos60/obitos_OP\n",
    "print(\"Obitos acima de 60 anos: \",\"{:.0%}\".format(percent_obitos_60))"
   ]
  },
  {
   "cell_type": "code",
   "execution_count": 54,
   "metadata": {},
   "outputs": [
    {
     "name": "stdout",
     "output_type": "stream",
     "text": [
      "\n"
     ]
    }
   ],
   "source": [
    "print('')"
   ]
  },
  {
   "cell_type": "markdown",
   "metadata": {},
   "source": [
    "RACA Obitos:"
   ]
  },
  {
   "cell_type": "code",
   "execution_count": 96,
   "metadata": {},
   "outputs": [],
   "source": [
    "raca_obitos = quadrilátero_ferrifero.loc[quadrilátero_ferrifero['EVOLUCAO'] == 'OBITO']\n",
    "raca_obitos = raca_obitos.groupby(['RACA']).contador.sum()\n",
    "raca_obitos = pd.DataFrame({'Quantidade': raca_obitos}).reset_index()\n",
    "#print('Não informado: ', raca_obitos.iloc[1,1])\n",
    "#raca_obitos = raca_obitos.drop([2])\n",
    "#raca_obitos"
   ]
  },
  {
   "cell_type": "markdown",
   "metadata": {},
   "source": [
    "3_ DADOS HOSPITALARES:"
   ]
  },
  {
   "cell_type": "code",
   "execution_count": 59,
   "metadata": {},
   "outputs": [],
   "source": [
    "#quadrilátero_ferrifero.groupby(['SEXO']).contador.sum()"
   ]
  },
  {
   "cell_type": "code",
   "execution_count": 60,
   "metadata": {},
   "outputs": [],
   "source": [
    "#quadrilátero_ferrifero['INTERNACAO'].fillna('NAO', inplace = True)"
   ]
  },
  {
   "cell_type": "code",
   "execution_count": 61,
   "metadata": {},
   "outputs": [
    {
     "name": "stdout",
     "output_type": "stream",
     "text": [
      "Internados:  512\n"
     ]
    }
   ],
   "source": [
    "internados = quadrilátero_ferrifero.loc[quadrilátero_ferrifero['INTERNACAO'] == 'SIM']\n",
    "internados = internados['contador'].sum()\n",
    "print(\"Internados: \", int(internados))"
   ]
  },
  {
   "cell_type": "code",
   "execution_count": 63,
   "metadata": {},
   "outputs": [
    {
     "name": "stdout",
     "output_type": "stream",
     "text": [
      "Em isolamento_domiciliar:  96\n"
     ]
    }
   ],
   "source": [
    "isolamento_domiciliar = quadrilátero_ferrifero.loc[quadrilátero_ferrifero['EVOLUCAO'] == 'EM TRATAMENTO DOMICILIAR']\n",
    "print(\"Em isolamento_domiciliar: \", isolamento_domiciliar.contador.sum())"
   ]
  },
  {
   "cell_type": "code",
   "execution_count": 64,
   "metadata": {},
   "outputs": [
    {
     "name": "stdout",
     "output_type": "stream",
     "text": [
      "\n"
     ]
    }
   ],
   "source": [
    "print('')"
   ]
  },
  {
   "cell_type": "markdown",
   "metadata": {},
   "source": [
    "4_ PAINEL DA SRAG"
   ]
  },
  {
   "cell_type": "code",
   "execution_count": 55,
   "metadata": {},
   "outputs": [],
   "source": [
    "#importando os bancos de dados sobre SRAG.\n",
    "SRAG_base_20 = pd.read_csv('SRAG_data_20.csv',sep=';', encoding='latin-1')\n",
    "SRAG_base_19 = pd.read_csv('SRAG_data_19.csv',sep=';', encoding='latin-1')"
   ]
  },
  {
   "cell_type": "code",
   "execution_count": 70,
   "metadata": {},
   "outputs": [],
   "source": [
    "#limpando e organizando os dados sobre SRAG em 2020\n",
    "SRAG_base_20['contador'] = 1\n",
    "a = range(0,29)\n",
    "\n",
    "municipios_interesse = ['NOVA LIMA','BELO VALE', 'BETIM', 'BRUMADINHO', 'CONSELHEIRO LAFAIETE', 'CATAS ALTAS', 'BRUMADINHO', 'ALVINOPOLIS', 'BARAO DE COCAIS', 'CAETE','CONGONHAS', 'IBIRITE','IGARAPE', 'ITABIRA','ITABIRITO', 'ITATIAIUÇU','ITAÚNA','JECEABA', 'JOAO MONLEVADE', 'MARIANA', 'MATEUS LEME', 'MOEDA', 'OURO PRETO', 'OURO BRANCO', 'RAPOSOS', 'SAO GONÇALO DO RIO ABAIXO', 'RIO ACIMA', 'RIO MANSO', 'RIO PIRACICABA', 'SABARA', 'SANTA BARBARA', 'SANTA LUZIA', 'SAO JOAQUIM DE BICAS', 'SARZEDO']\n",
    "\n",
    "#selecionando com isin\n",
    "SRAG_Micro_OP_20 = SRAG_base_20[SRAG_base_20['ID_MUNICIP'].isin(municipios_interesse) == True]\n",
    "\n",
    "X_20 = SRAG_Micro_OP_20.groupby(['SEM_PRI']).contador.sum()\n",
    "X_20 = pd.DataFrame({\"Hospitalizados\": X_20}).reset_index()\n",
    "df = pd.DataFrame({\"SEM_PRI\":a})\n",
    "X_20 = pd.merge(X_20, df, how = 'right', on='SEM_PRI')\n",
    "X_20 = X_20.fillna('0')\n",
    "X_20 = X_20.set_index('SEM_PRI')\n",
    "X_20 = X_20.sort_index()\n",
    "X_20['index'] = X_20.index\n",
    "X_20['Hospitalizados'] = X_20['Hospitalizados'].astype('int')"
   ]
  },
  {
   "cell_type": "code",
   "execution_count": 72,
   "metadata": {
    "scrolled": true
   },
   "outputs": [],
   "source": [
    "#limpando e organizando os dados sobre SRAG 2019\n",
    "SRAG_base_19['contador'] = 1\n",
    "\n",
    "municipios_interesse = ['NOVA LIMA','BELO VALE', 'BETIM', 'BRUMADINHO', 'CONSELHEIRO LAFAIETE', 'CATAS ALTAS', 'BRUMADINHO', 'ALVINOPOLIS', 'BARAO DE COCAIS', 'CAETE','CONGONHAS', 'IBIRITE','IGARAPE', 'ITABIRA','ITABIRITO', 'ITATIAIUÇU','ITAÚNA','JECEABA', 'JOAO MONLEVADE', 'MARIANA', 'MATEUS LEME', 'MOEDA', 'OURO PRETO', 'OURO BRANCO', 'RAPOSOS', 'SAO GONÇALO DO RIO ABAIXO', 'RIO ACIMA', 'RIO MANSO', 'RIO PIRACICABA', 'SABARA', 'SANTA BARBARA', 'SANTA LUZIA', 'SAO JOAQUIM DE BICAS', 'SARZEDO']\n",
    "\n",
    "#selecionando com isin\n",
    "SRAG_Micro_OP_19 = SRAG_base_19[SRAG_base_19['ID_MUNICIP'].isin(municipios_interesse) == True]\n",
    "\n",
    "X_19 = SRAG_Micro_OP_19.groupby(['SEM_PRI']).contador.sum()\n",
    "X_19 = pd.DataFrame({\"Hospitalizados\": X_19}).reset_index()\n",
    "df = pd.DataFrame({\"SEM_PRI\":a})\n",
    "X_19 = pd.merge(X_19, df, how = 'right', on='SEM_PRI')\n",
    "X_19 = X_19.fillna('0')\n",
    "X_19 = X_19.set_index('SEM_PRI')\n",
    "X_19 = X_19.sort_index()\n",
    "X_19['index'] = X_19.index\n",
    "X_19['Hospitalizados'] = X_19['Hospitalizados'].astype('int')"
   ]
  },
  {
   "cell_type": "code",
   "execution_count": 73,
   "metadata": {},
   "outputs": [
    {
     "name": "stdout",
     "output_type": "stream",
     "text": [
      "2020 N =  2386\n",
      "2019 N =  187\n"
     ]
    }
   ],
   "source": [
    "print(\"2020 N = \", SRAG_Micro_OP_20.contador.sum())\n",
    "print(\"2019 N = \", SRAG_Micro_OP_19.contador.sum())"
   ]
  },
  {
   "cell_type": "markdown",
   "metadata": {},
   "source": [
    "5_ DISTRIBUIÇÃO DOS CASOS"
   ]
  },
  {
   "cell_type": "code",
   "execution_count": 65,
   "metadata": {},
   "outputs": [
    {
     "name": "stdout",
     "output_type": "stream",
     "text": [
      "Casos sem obito: 8269\n"
     ]
    }
   ],
   "source": [
    "confirmados_sem_obito = quadrilátero_ferrifero.loc[(quadrilátero_ferrifero['EVOLUCAO'] != 'OBITO')]\n",
    "confirmados_sem_obito = confirmados_sem_obito['contador'].sum()\n",
    "print(\"Casos sem obito:\", int(confirmados_sem_obito))"
   ]
  },
  {
   "cell_type": "code",
   "execution_count": 66,
   "metadata": {},
   "outputs": [
    {
     "name": "stdout",
     "output_type": "stream",
     "text": [
      "Obitos:  179\n"
     ]
    }
   ],
   "source": [
    "print(\"Obitos: \",int(obitos['contador'].sum()))"
   ]
  },
  {
   "cell_type": "code",
   "execution_count": 67,
   "metadata": {},
   "outputs": [
    {
     "name": "stdout",
     "output_type": "stream",
     "text": [
      "Casos confirmados totais:  8448\n"
     ]
    }
   ],
   "source": [
    "print(\"Casos confirmados totais: \",int(Casos_confirmados))"
   ]
  },
  {
   "cell_type": "code",
   "execution_count": 68,
   "metadata": {},
   "outputs": [
    {
     "name": "stdout",
     "output_type": "stream",
     "text": [
      "\n"
     ]
    }
   ],
   "source": [
    "print('')"
   ]
  },
  {
   "cell_type": "code",
   "execution_count": 62,
   "metadata": {},
   "outputs": [],
   "source": [
    "#brasil = pd.read_excel('HIST_PAINEL_COVIDBR_17jul2020.xlsx',sep=';', encoding='latin-1')"
   ]
  },
  {
   "cell_type": "code",
   "execution_count": 63,
   "metadata": {},
   "outputs": [],
   "source": [
    "#brasil.tail()"
   ]
  },
  {
   "cell_type": "code",
   "execution_count": 64,
   "metadata": {},
   "outputs": [],
   "source": [
    "evadidos1.columns = evadidos1.columns.str.upper()\n",
    "\n",
    "municipios_interesse = ['NOVA LIMA','BELO VALE', 'BETIM', 'BRUMADINHO', 'CONSELHEIRO LAFAIETE', 'CATAS ALTAS', 'BRUMADINHO', 'ALVINOPOLIS', 'BARAO DE COCAIS', 'CAETE','CONGONHAS', 'IBIRITE','IGARAPE', 'ITABIRA','ITABIRITO', 'ITATIAIUÇU','ITAÚNA','JECEABA', 'JOAO MONLEVADE', 'MARIANA', 'MATEUS LEME', 'MOEDA', 'OURO PRETO', 'OURO BRANCO', 'RAPOSOS', 'SAO GONÇALO DO RIO ABAIXO', 'RIO ACIMA', 'RIO MANSO', 'RIO PIRACICABA', 'SABARA', 'SANTA BARBARA', 'SANTA LUZIA', 'SAO JOAQUIM DE BICAS', 'SARZEDO']\n",
    "\n",
    "#selecionando com isin\n",
    "populacao = brasil[brasil['MUNICIPIO_RESIDENCIA'].isin(municipios_interesse) == True]\n",
    "\n",
    "#pdList = pd.concat([select1,select2,select3,select4,select5,select6,select7,select8,select9,select10,select11,select12,select13,select14,select15,select16,select17,select18,select19,select20,select21,select22,select23,select24,select25,select26,select27,select28,select29,select30,select31,select32,select33])\n",
    "#pop_cidade = pd.concat(pdList)\n",
    "\n",
    "#pop_cidade['populacaoTCU2019'] = pop_cidade['populacaoTCU2019'].astype('int')\n",
    "#pop_cidade = pop_cidade.groupby(['municipio']).mean()['populacaoTCU2019']\n",
    "#pop_cidade.loc['NÃO INFORMADO'] = '-'\n",
    "#pop_cidade = pd.DataFrame({'População': pop_cidade}).reset_index\n",
    "#pop_cidade"
   ]
  },
  {
   "cell_type": "code",
   "execution_count": 69,
   "metadata": {},
   "outputs": [],
   "source": [
    "#pd.set_option('display.max_rows', None)\n",
    "lista_confirmados = quadrilátero_ferrifero.groupby(['MUNICIPIO_RESIDENCIA']).contador.sum()\n",
    "lista_confirmados = pd.DataFrame({\"Total de confirmados\": lista_confirmados}).reset_index()\n",
    "\n",
    "obitos_OP = quadrilátero_ferrifero.loc[quadrilátero_ferrifero['EVOLUCAO'] == 'OBITO']\n",
    "obitos_OP = obitos_OP.groupby(['MUNICIPIO_RESIDENCIA']).contador.sum()\n",
    "obitos_OP = pd.DataFrame({'Total de obitos': obitos_OP}).reset_index()\n",
    "\n",
    "tabela2 = lista_confirmados.join(obitos_OP.set_index('MUNICIPIO_RESIDENCIA'), on = 'MUNICIPIO_RESIDENCIA')\n",
    "tabela2 = tabela2.fillna(0)\n",
    "\n",
    "#tabela2 = lista_confirmados.join(obitos_OP.set_index('MUNICIPIO_RESIDENCIA'), on = 'MUNICIPIO_RESIDENCIA')\n",
    "#tabela2 = tabela2.assign(Populaçao=[51875,60724,74281])\n",
    "#tabela2['Prevalencia'] = round((tabela2['Total de confirmados']/tabela2['Populaçao']),4)\n",
    "#tabela2['Taxa de mortalidade'] = round((tabela2['Total de obitos']/tabela2['Populaçao']),5)\n",
    "#tabela2['Letalidade'] =  round((tabela2['Total de obitos']/tabela2['Total de confirmados']),3)\n",
    "#tabela2['Prevalencia'] = tabela2['Prevalencia'].replace(['inf'],'NaN')\n",
    "#tabela2 = tabela2.reindex([2,1,0])\n",
    "#tabela2.iloc[3,4] = 'NaN'\n",
    "#tabela2 = tabela2.drop(['Populaçao'], axis=1)\n",
    "#tabela2 = tabela2.reset_index()\n",
    "#tabela2 = tabela2.drop(['index'], axis=1)\n",
    "#tabela2"
   ]
  },
  {
   "cell_type": "markdown",
   "metadata": {},
   "source": [
    "Prevalência Micro Ouro Preto:"
   ]
  },
  {
   "cell_type": "code",
   "execution_count": 70,
   "metadata": {
    "scrolled": true
   },
   "outputs": [
    {
     "name": "stdout",
     "output_type": "stream",
     "text": [
      "ALVINOPOLIS\n",
      "BARAO DE COCAIS\n",
      "BELO VALE\n",
      "BETIM\n",
      "BRUMADINHO\n",
      "CAETE\n",
      "CATAS ALTAS\n",
      "CONGONHAS\n",
      "CONSELHEIRO LAFAIETE\n",
      "IBIRITE\n",
      "IGARAPE\n",
      "ITABIRA\n",
      "ITABIRITO\n",
      "JECEABA\n",
      "JOAO MONLEVADE\n",
      "MARIANA\n",
      "MATEUS LEME\n",
      "MOEDA\n",
      "NOVA LIMA\n",
      "OURO BRANCO\n",
      "OURO PRETO\n",
      "RAPOSOS\n",
      "RIO ACIMA\n",
      "RIO MANSO\n",
      "RIO PIRACICABA\n",
      "SABARA\n",
      "SANTA BARBARA\n",
      "SANTA LUZIA\n",
      "SAO JOAQUIM DE BICAS\n",
      "SARZEDO\n"
     ]
    }
   ],
   "source": [
    "print(*list(tabela2['MUNICIPIO_RESIDENCIA']), sep= '\\n')"
   ]
  },
  {
   "cell_type": "code",
   "execution_count": 71,
   "metadata": {},
   "outputs": [
    {
     "name": "stdout",
     "output_type": "stream",
     "text": [
      " \n"
     ]
    }
   ],
   "source": [
    "print(' ')"
   ]
  },
  {
   "cell_type": "markdown",
   "metadata": {},
   "source": [
    "Numero de confirmados por cidade:"
   ]
  },
  {
   "cell_type": "code",
   "execution_count": 72,
   "metadata": {},
   "outputs": [
    {
     "name": "stdout",
     "output_type": "stream",
     "text": [
      "12\n",
      "91\n",
      "26\n",
      "1557\n",
      "312\n",
      "85\n",
      "18\n",
      "103\n",
      "146\n",
      "558\n",
      "168\n",
      "664\n",
      "561\n",
      "7\n",
      "299\n",
      "581\n",
      "63\n",
      "33\n",
      "788\n",
      "69\n",
      "319\n",
      "59\n",
      "108\n",
      "32\n",
      "58\n",
      "448\n",
      "128\n",
      "885\n",
      "126\n",
      "144\n"
     ]
    }
   ],
   "source": [
    "print(*list(tabela2['Total de confirmados']), sep='\\n')"
   ]
  },
  {
   "cell_type": "code",
   "execution_count": 68,
   "metadata": {},
   "outputs": [
    {
     "name": "stdout",
     "output_type": "stream",
     "text": [
      " \n"
     ]
    }
   ],
   "source": [
    "print(' ')"
   ]
  },
  {
   "cell_type": "markdown",
   "metadata": {},
   "source": [
    "Óbitos:"
   ]
  },
  {
   "cell_type": "code",
   "execution_count": 73,
   "metadata": {},
   "outputs": [
    {
     "name": "stdout",
     "output_type": "stream",
     "text": [
      "0.0\n",
      "0.0\n",
      "1.0\n",
      "70.0\n",
      "2.0\n",
      "1.0\n",
      "0.0\n",
      "3.0\n",
      "1.0\n",
      "24.0\n",
      "1.0\n",
      "3.0\n",
      "1.0\n",
      "2.0\n",
      "1.0\n",
      "10.0\n",
      "1.0\n",
      "0.0\n",
      "3.0\n",
      "3.0\n",
      "5.0\n",
      "2.0\n",
      "0.0\n",
      "3.0\n",
      "0.0\n",
      "10.0\n",
      "1.0\n",
      "15.0\n",
      "12.0\n",
      "4.0\n"
     ]
    }
   ],
   "source": [
    "print(*list(tabela2['Total de obitos']), sep='\\n')"
   ]
  },
  {
   "cell_type": "markdown",
   "metadata": {},
   "source": [
    "Prevalência:"
   ]
  },
  {
   "cell_type": "code",
   "execution_count": 70,
   "metadata": {},
   "outputs": [],
   "source": [
    "#print(*list(tabela2['Prevalencia']), sep= '\\n')"
   ]
  },
  {
   "cell_type": "code",
   "execution_count": 71,
   "metadata": {},
   "outputs": [
    {
     "name": "stdout",
     "output_type": "stream",
     "text": [
      " \n"
     ]
    }
   ],
   "source": [
    "print(' ')"
   ]
  },
  {
   "cell_type": "markdown",
   "metadata": {},
   "source": [
    "Taxa de mortalidade:"
   ]
  },
  {
   "cell_type": "code",
   "execution_count": 72,
   "metadata": {},
   "outputs": [],
   "source": [
    "#print(*list(tabela2['Taxa de mortalidade']), sep= '\\n')"
   ]
  },
  {
   "cell_type": "code",
   "execution_count": 73,
   "metadata": {},
   "outputs": [
    {
     "name": "stdout",
     "output_type": "stream",
     "text": [
      " \n"
     ]
    }
   ],
   "source": [
    "print(' ')"
   ]
  },
  {
   "cell_type": "code",
   "execution_count": 105,
   "metadata": {},
   "outputs": [],
   "source": [
    "#print(*list(tabela2['Letalidade']), sep= '\\n')"
   ]
  },
  {
   "cell_type": "code",
   "execution_count": 862,
   "metadata": {},
   "outputs": [
    {
     "name": "stdout",
     "output_type": "stream",
     "text": [
      "\n"
     ]
    }
   ],
   "source": [
    "print('')"
   ]
  },
  {
   "cell_type": "markdown",
   "metadata": {},
   "source": [
    "6. GRAFICOS DE COMPORTAMENTO DO COVID-19"
   ]
  },
  {
   "cell_type": "code",
   "execution_count": 74,
   "metadata": {},
   "outputs": [
    {
     "data": {
      "text/html": [
       "<div>\n",
       "<style scoped>\n",
       "    .dataframe tbody tr th:only-of-type {\n",
       "        vertical-align: middle;\n",
       "    }\n",
       "\n",
       "    .dataframe tbody tr th {\n",
       "        vertical-align: top;\n",
       "    }\n",
       "\n",
       "    .dataframe thead th {\n",
       "        text-align: right;\n",
       "    }\n",
       "</style>\n",
       "<table border=\"1\" class=\"dataframe\">\n",
       "  <thead>\n",
       "    <tr style=\"text-align: right;\">\n",
       "      <th></th>\n",
       "      <th>data</th>\n",
       "      <th>Casos novos por dia</th>\n",
       "      <th>Óbitos por dia</th>\n",
       "      <th>Total de confirmados</th>\n",
       "      <th>Total de obitos</th>\n",
       "      <th>index_data</th>\n",
       "    </tr>\n",
       "  </thead>\n",
       "  <tbody>\n",
       "    <tr>\n",
       "      <td>120</td>\n",
       "      <td>2020-07-18</td>\n",
       "      <td>39</td>\n",
       "      <td>2.0</td>\n",
       "      <td>8250</td>\n",
       "      <td>171.0</td>\n",
       "      <td>120</td>\n",
       "    </tr>\n",
       "    <tr>\n",
       "      <td>121</td>\n",
       "      <td>2020-07-19</td>\n",
       "      <td>38</td>\n",
       "      <td>2.0</td>\n",
       "      <td>8288</td>\n",
       "      <td>173.0</td>\n",
       "      <td>121</td>\n",
       "    </tr>\n",
       "    <tr>\n",
       "      <td>122</td>\n",
       "      <td>2020-07-20</td>\n",
       "      <td>59</td>\n",
       "      <td>1.0</td>\n",
       "      <td>8347</td>\n",
       "      <td>174.0</td>\n",
       "      <td>122</td>\n",
       "    </tr>\n",
       "    <tr>\n",
       "      <td>123</td>\n",
       "      <td>2020-07-21</td>\n",
       "      <td>56</td>\n",
       "      <td>5.0</td>\n",
       "      <td>8403</td>\n",
       "      <td>179.0</td>\n",
       "      <td>123</td>\n",
       "    </tr>\n",
       "    <tr>\n",
       "      <td>124</td>\n",
       "      <td>2020-07-22</td>\n",
       "      <td>17</td>\n",
       "      <td>0.0</td>\n",
       "      <td>8420</td>\n",
       "      <td>179.0</td>\n",
       "      <td>124</td>\n",
       "    </tr>\n",
       "  </tbody>\n",
       "</table>\n",
       "</div>"
      ],
      "text/plain": [
       "          data  Casos novos por dia  Óbitos por dia  Total de confirmados  \\\n",
       "120 2020-07-18                   39             2.0                  8250   \n",
       "121 2020-07-19                   38             2.0                  8288   \n",
       "122 2020-07-20                   59             1.0                  8347   \n",
       "123 2020-07-21                   56             5.0                  8403   \n",
       "124 2020-07-22                   17             0.0                  8420   \n",
       "\n",
       "     Total de obitos  index_data  \n",
       "120            171.0         120  \n",
       "121            173.0         121  \n",
       "122            174.0         122  \n",
       "123            179.0         123  \n",
       "124            179.0         124  "
      ]
     },
     "execution_count": 74,
     "metadata": {},
     "output_type": "execute_result"
    }
   ],
   "source": [
    "confirmados_OP = quadrilátero_ferrifero.groupby(['DATA_NOTIFICACAO']).contador.sum()\n",
    "\n",
    "obitos_OP = quadrilátero_ferrifero.loc[quadrilátero_ferrifero['EVOLUCAO'] == 'OBITO']\n",
    "obitos_OP = obitos_OP.groupby(['DATA_NOTIFICACAO']).contador.sum()\n",
    "\n",
    "tabelac = pd.DataFrame({\"Casos novos por dia\": confirmados_OP}).reset_index()\n",
    "tabelao = pd.DataFrame({'Óbitos por dia': obitos_OP}).reset_index()\n",
    "tabela = tabelac.join(tabelao.set_index('DATA_NOTIFICACAO'), on = 'DATA_NOTIFICACAO')\n",
    "tabela = tabela.fillna(0)\n",
    "\n",
    "from datetime import datetime\n",
    "#transformar variavel str em date\n",
    "tabela['DATA_NOTIFICACAO'] = pd.to_datetime(tabela['DATA_NOTIFICACAO'], format='%Y-%m-%d')\n",
    "data = pd.date_range(start='20/03/2020', end='22/07/2020')\n",
    "data = data.astype('datetime64[ns]')\n",
    "data = pd.DataFrame(data)\n",
    "\n",
    "tabela['DATA_NOTIFICACAO'] = tabela['DATA_NOTIFICACAO'].astype('datetime64[ns]')\n",
    "tabela = tabela.merge(data, how = 'right', left_on='DATA_NOTIFICACAO', right_on=data[0])\n",
    "tabela = tabela.fillna(0)\n",
    "tabela.sort_values('DATA_NOTIFICACAO', inplace=True)\n",
    "\n",
    "tabela['Total de confirmados'] = np.cumsum(tabela['Casos novos por dia'])\n",
    "tabela['Total de obitos'] = np.cumsum(tabela['Óbitos por dia'])\n",
    "tabela = tabela.rename(columns={'DATA_NOTIFICACAO': 'data'})\n",
    "tabela.drop(tabela.columns[3], axis=1, inplace=True)\n",
    "\n",
    "tabela['index_data'] = [x for x in range(125)]\n",
    "tabela.tail()"
   ]
  },
  {
   "cell_type": "code",
   "execution_count": 57,
   "metadata": {},
   "outputs": [],
   "source": [
    "#dates = pd.date_range(start='2020/07/13', end='2020/12/07')\n",
    "#list(dates)\n",
    "#tabela = tabela[tabela['data'].isin(dates) == False]\n",
    "#tabela.tail()"
   ]
  },
  {
   "cell_type": "code",
   "execution_count": 76,
   "metadata": {},
   "outputs": [
    {
     "data": {
      "image/png": "[encoded data removed]",
      "text/plain": [
       "<Figure size 432x288 with 1 Axes>"
      ]
     },
     "metadata": {
      "needs_background": "light"
     },
     "output_type": "display_data"
    }
   ],
   "source": [
    "import matplotlib.pyplot as plt\n",
    "plt.bar(tabela.iloc[:,0].values, tabela.iloc[:,3].values)\n",
    "plt.xlabel('Dias ')\n",
    "plt.ylabel('Confirmados total')\n",
    "plt.xticks(rotation=60)\n",
    "plt.grid(True)"
   ]
  },
  {
   "cell_type": "markdown",
   "metadata": {},
   "source": [
    "Grafico mortes totais:\n"
   ]
  },
  {
   "cell_type": "code",
   "execution_count": 77,
   "metadata": {},
   "outputs": [
    {
     "data": {
      "image/png": "[encoded data removed]",
      "text/plain": [
       "<Figure size 432x288 with 1 Axes>"
      ]
     },
     "metadata": {
      "needs_background": "light"
     },
     "output_type": "display_data"
    }
   ],
   "source": [
    "import matplotlib.pyplot as plt\n",
    "plt.plot(tabela.iloc[:,0].values, tabela.iloc[:,4].values, color = \"red\")\n",
    "plt.xlabel('Dias ')\n",
    "plt.ylabel('Óbitos totais')\n",
    "plt.xticks(rotation=60)\n",
    "plt.grid(True)\n"
   ]
  },
  {
   "cell_type": "markdown",
   "metadata": {},
   "source": [
    "Grafico confirmados diarios Micro OP:"
   ]
  },
  {
   "cell_type": "code",
   "execution_count": 78,
   "metadata": {},
   "outputs": [
    {
     "data": {
      "image/png": "[encoded data removed]",
      "text/plain": [
       "<Figure size 432x288 with 1 Axes>"
      ]
     },
     "metadata": {
      "needs_background": "light"
     },
     "output_type": "display_data"
    }
   ],
   "source": [
    "import matplotlib.pyplot as plt\n",
    "plt.bar(tabela.iloc[:,0].values, tabela.iloc[:,1].values)\n",
    "plt.xlabel('Dias ')\n",
    "plt.ylabel('Contaminados Diariamente')\n",
    "plt.xticks(rotation=60)\n",
    "plt.grid(True)"
   ]
  },
  {
   "cell_type": "markdown",
   "metadata": {},
   "source": [
    "Grafico mortes diarias Micro OP:"
   ]
  },
  {
   "cell_type": "code",
   "execution_count": 79,
   "metadata": {},
   "outputs": [
    {
     "data": {
      "image/png": "[encoded data removed]",
      "text/plain": [
       "<Figure size 432x288 with 1 Axes>"
      ]
     },
     "metadata": {
      "needs_background": "light"
     },
     "output_type": "display_data"
    }
   ],
   "source": [
    "import matplotlib.pyplot as plt\n",
    "plt.bar(tabela.iloc[:,0].values, tabela.iloc[:,2].values, color = \"red\")\n",
    "plt.xlabel('Dias ')\n",
    "plt.ylabel('Óbitos diarios')\n",
    "plt.xticks(rotation=60)\n",
    "plt.grid(True)"
   ]
  },
  {
   "cell_type": "code",
   "execution_count": 80,
   "metadata": {},
   "outputs": [
    {
     "data": {
      "image/png": "[encoded data removed]",
      "text/plain": [
       "<Figure size 432x288 with 1 Axes>"
      ]
     },
     "metadata": {
      "needs_background": "light"
     },
     "output_type": "display_data"
    }
   ],
   "source": [
    "import matplotlib.pyplot as plt\n",
    "plt.bar(grafico_faixa_etaria_mortos.iloc[:,0].values, grafico_faixa_etaria_mortos.iloc[:,1].values)\n",
    "plt.ylabel('Obitos')\n",
    "plt.xticks(np.arange(0, 9), rotation=70)\n",
    "plt.grid(True)"
   ]
  },
  {
   "cell_type": "code",
   "execution_count": 81,
   "metadata": {},
   "outputs": [
    {
     "data": {
      "image/png": "[encoded data removed]",
      "text/plain": [
       "<Figure size 432x288 with 1 Axes>"
      ]
     },
     "metadata": {
      "needs_background": "light"
     },
     "output_type": "display_data"
    }
   ],
   "source": [
    "import matplotlib.pyplot as plt\n",
    "plt.bar(grafico_faixa_etaria.iloc[:,0].values, grafico_faixa_etaria.iloc[:,1].values)\n",
    "plt.ylabel('confirmados')\n",
    "plt.xticks(np.arange(0, 8), rotation=70)\n",
    "plt.grid(True)"
   ]
  },
  {
   "cell_type": "code",
   "execution_count": 89,
   "metadata": {},
   "outputs": [
    {
     "data": {
      "image/png": "[encoded data removed]",
      "text/plain": [
       "<Figure size 432x288 with 1 Axes>"
      ]
     },
     "metadata": {},
     "output_type": "display_data"
    }
   ],
   "source": [
    "import matplotlib.pyplot as plt\n",
    "\n",
    "# Pie chart, where the slices will be ordered and plotted counter-clockwise:\n",
    "labels = 'AMARELA', 'BRANCA', 'INDIGENA', 'PARDA', 'PRETA'\n",
    "sizes = raca['Quantidade']\n",
    "explode = (0, 0.1, 0, 0, 0)  # only \"explode\" the 2nd slice (i.e. 'Hogs')\n",
    "\n",
    "fig1, ax1 = plt.subplots()\n",
    "ax1.pie(sizes, explode=explode, labels=labels, autopct='%1.1f%%',\n",
    "        shadow=True, startangle=90)\n",
    "ax1.axis('equal')  # Equal aspect ratio ensures that pie is drawn as a circle.\n",
    "\n",
    "plt.show()"
   ]
  },
  {
   "cell_type": "code",
   "execution_count": 97,
   "metadata": {
    "scrolled": true
   },
   "outputs": [
    {
     "data": {
      "image/png": "[encoded data removed]",
      "text/plain": [
       "<Figure size 432x288 with 1 Axes>"
      ]
     },
     "metadata": {},
     "output_type": "display_data"
    }
   ],
   "source": [
    "import matplotlib.pyplot as plt\n",
    "\n",
    "# Pie chart, where the slices will be ordered and plotted counter-clockwise:\n",
    "labels = 'AMARELA', 'BRANCA', 'PARDA', 'PRETA'\n",
    "sizes = raca_obitos['Quantidade']\n",
    "explode = (0, 0.1, 0, 0)  # only \"explode\" the 2nd slice (i.e. 'Hogs')\n",
    "\n",
    "fig1, ax1 = plt.subplots()\n",
    "ax1.pie(sizes, explode=explode, labels=labels, autopct='%1.1f%%',\n",
    "        shadow=True, startangle=90)\n",
    "ax1.axis('equal')  # Equal aspect ratio ensures that pie is drawn as a circle.\n",
    "\n",
    "plt.show()"
   ]
  },
  {
   "cell_type": "code",
   "execution_count": 136,
   "metadata": {},
   "outputs": [
    {
     "data": {
      "text/plain": [
       "<matplotlib.legend.Legend at 0x2c9bc355148>"
      ]
     },
     "execution_count": 136,
     "metadata": {},
     "output_type": "execute_result"
    },
    {
     "data": {
      "image/png": "[encoded data removed]",
      "text/plain": [
       "<Figure size 432x288 with 1 Axes>"
      ]
     },
     "metadata": {
      "needs_background": "light"
     },
     "output_type": "display_data"
    }
   ],
   "source": [
    "import numpy as np\n",
    "import matplotlib.pyplot as plt\n",
    "\n",
    "N = 29\n",
    "hospitalizados_20 = X_20['Hospitalizados']\n",
    "width = 0.35\n",
    "\n",
    "ind = np.arange(N)  # the x locations for the groups\n",
    "\n",
    "fig, ax = plt.subplots()\n",
    "rects1 = ax.bar(ind, hospitalizados_20, width, color='r')\n",
    "\n",
    "hospitalizados_19 = X_19['Hospitalizados']\n",
    "rects2 = ax.bar(ind + width, hospitalizados_19, width, color='b')\n",
    "\n",
    "# add some text for labels, title and axes ticks\n",
    "ax.set_ylabel('Hospitalizados')\n",
    "plt.xlabel('Semanas epidemiológicas')\n",
    "plt.grid(True)\n",
    "\n",
    "ax.legend((rects1[0], rects2[0]), ('2020', '2019'))"
   ]
  },
  {
   "cell_type": "code",
   "execution_count": 65,
   "metadata": {},
   "outputs": [],
   "source": [
    "tabela.to_csv(\"tabela_micro_OP.csv\", index = False)"
   ]
  },
  {
   "cell_type": "code",
   "execution_count": null,
   "metadata": {},
   "outputs": [],
   "source": []
  }
 ],
 "metadata": {
  "celltoolbar": "Raw Cell Format",
  "kernelspec": {
   "display_name": "Python 3",
   "language": "python",
   "name": "python3"
  },
  "language_info": {
   "codemirror_mode": {
    "name": "ipython",
    "version": 3
   },
   "file_extension": ".py",
   "mimetype": "text/x-python",
   "name": "python",
   "nbconvert_exporter": "python",
   "pygments_lexer": "ipython3",
   "version": "3.7.4"
  }
 },
 "nbformat": 4,
 "nbformat_minor": 2
}
