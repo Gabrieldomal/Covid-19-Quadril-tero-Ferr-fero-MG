{
 "cells": [
  {
   "cell_type": "code",
   "execution_count": 64,
   "metadata": {},
   "outputs": [
    {
     "data": {
      "text/html": [
       "<script>\n",
       "code_show=true; \n",
       "function code_toggle() {\n",
       " if (code_show){\n",
       " $('div.input').hide();\n",
       " } else {\n",
       " $('div.input').show();\n",
       " }\n",
       " code_show = !code_show\n",
       "} \n",
       "$( document ).ready(code_toggle);\n",
       "</script>\n",
       "<form action=\"javascript:code_toggle()\"><input type=\"submit\" value=\"Mostrar código.\"></form>"
      ],
      "text/plain": [
       "<IPython.core.display.HTML object>"
      ]
     },
     "execution_count": 64,
     "metadata": {},
     "output_type": "execute_result"
    }
   ],
   "source": [
    "from IPython.display import HTML\n",
    "\n",
    "HTML('''<script>\n",
    "code_show=true; \n",
    "function code_toggle() {\n",
    " if (code_show){\n",
    " $('div.input').hide();\n",
    " } else {\n",
    " $('div.input').show();\n",
    " }\n",
    " code_show = !code_show\n",
    "} \n",
    "$( document ).ready(code_toggle);\n",
    "</script>\n",
    "<form action=\"javascript:code_toggle()\"><input type=\"submit\" value=\"Mostrar código.\"></form>''')"
   ]
  },
  {
   "cell_type": "markdown",
   "metadata": {},
   "source": [
    "BOLETIM EPIDEMIOLóGICO DA MICRORREGIÃO DE OURO PRETO."
   ]
  },
  {
   "cell_type": "code",
   "execution_count": 1,
   "metadata": {},
   "outputs": [
    {
     "data": {
      "text/html": [
       "<div>\n",
       "<style scoped>\n",
       "    .dataframe tbody tr th:only-of-type {\n",
       "        vertical-align: middle;\n",
       "    }\n",
       "\n",
       "    .dataframe tbody tr th {\n",
       "        vertical-align: top;\n",
       "    }\n",
       "\n",
       "    .dataframe thead th {\n",
       "        text-align: right;\n",
       "    }\n",
       "</style>\n",
       "<table border=\"1\" class=\"dataframe\">\n",
       "  <thead>\n",
       "    <tr style=\"text-align: right;\">\n",
       "      <th></th>\n",
       "      <th>URS</th>\n",
       "      <th>MICRO</th>\n",
       "      <th>MACRO</th>\n",
       "      <th>ID</th>\n",
       "      <th>DATA_NOTIFICACAO</th>\n",
       "      <th>CLASSIFICACAO_CASO</th>\n",
       "      <th>SEXO</th>\n",
       "      <th>IDADE</th>\n",
       "      <th>FAIXA_ETARIA</th>\n",
       "      <th>MUNICIPIO_RESIDENCIA</th>\n",
       "      <th>CODIGO</th>\n",
       "      <th>COMORBIDADE</th>\n",
       "      <th>EVOLUCAO</th>\n",
       "      <th>INTERNACAO</th>\n",
       "      <th>UTI</th>\n",
       "      <th>RACA</th>\n",
       "      <th>DATA_ATUALIZACAO</th>\n",
       "      <th>ORIGEM_DA_INFORMACAO</th>\n",
       "      <th>contador</th>\n",
       "    </tr>\n",
       "  </thead>\n",
       "  <tbody>\n",
       "    <tr>\n",
       "      <td>0</td>\n",
       "      <td>JUIZ DE FORA</td>\n",
       "      <td>JUIZ DE FORA</td>\n",
       "      <td>SUDESTE</td>\n",
       "      <td>1</td>\n",
       "      <td>2020-06-24</td>\n",
       "      <td>CASO CONFIRMADO</td>\n",
       "      <td>FEMININO</td>\n",
       "      <td>79.0</td>\n",
       "      <td>70 A 79 ANOS</td>\n",
       "      <td>JUIZ DE FORA</td>\n",
       "      <td>313670.0</td>\n",
       "      <td>NAO INFORMADO</td>\n",
       "      <td>EM ACOMPANHAMENTO</td>\n",
       "      <td>NAO INFORMADO</td>\n",
       "      <td>NAO INFORMADO</td>\n",
       "      <td>NAO INFORMADO</td>\n",
       "      <td>2020-08-07</td>\n",
       "      <td>BOLETIM</td>\n",
       "      <td>1</td>\n",
       "    </tr>\n",
       "    <tr>\n",
       "      <td>1</td>\n",
       "      <td>JUIZ DE FORA</td>\n",
       "      <td>JUIZ DE FORA</td>\n",
       "      <td>SUDESTE</td>\n",
       "      <td>2</td>\n",
       "      <td>2020-06-24</td>\n",
       "      <td>CASO CONFIRMADO</td>\n",
       "      <td>MASCULINO</td>\n",
       "      <td>56.0</td>\n",
       "      <td>50 A 59 ANOS</td>\n",
       "      <td>JUIZ DE FORA</td>\n",
       "      <td>313670.0</td>\n",
       "      <td>NAO INFORMADO</td>\n",
       "      <td>EM ACOMPANHAMENTO</td>\n",
       "      <td>NAO INFORMADO</td>\n",
       "      <td>NAO INFORMADO</td>\n",
       "      <td>NAO INFORMADO</td>\n",
       "      <td>2020-08-07</td>\n",
       "      <td>BOLETIM</td>\n",
       "      <td>1</td>\n",
       "    </tr>\n",
       "    <tr>\n",
       "      <td>2</td>\n",
       "      <td>JUIZ DE FORA</td>\n",
       "      <td>SANTOS DUMONT</td>\n",
       "      <td>SUDESTE</td>\n",
       "      <td>3</td>\n",
       "      <td>2020-06-24</td>\n",
       "      <td>CASO CONFIRMADO</td>\n",
       "      <td>MASCULINO</td>\n",
       "      <td>72.0</td>\n",
       "      <td>70 A 79 ANOS</td>\n",
       "      <td>SANTOS DUMONT</td>\n",
       "      <td>316070.0</td>\n",
       "      <td>NAO INFORMADO</td>\n",
       "      <td>EM ACOMPANHAMENTO</td>\n",
       "      <td>NAO INFORMADO</td>\n",
       "      <td>NAO INFORMADO</td>\n",
       "      <td>NAO INFORMADO</td>\n",
       "      <td>2020-08-07</td>\n",
       "      <td>BOLETIM</td>\n",
       "      <td>1</td>\n",
       "    </tr>\n",
       "    <tr>\n",
       "      <td>3</td>\n",
       "      <td>JUIZ DE FORA</td>\n",
       "      <td>JUIZ DE FORA</td>\n",
       "      <td>SUDESTE</td>\n",
       "      <td>4</td>\n",
       "      <td>2020-06-24</td>\n",
       "      <td>CASO CONFIRMADO</td>\n",
       "      <td>FEMININO</td>\n",
       "      <td>0.0</td>\n",
       "      <td>&lt;1ANO</td>\n",
       "      <td>JUIZ DE FORA</td>\n",
       "      <td>313670.0</td>\n",
       "      <td>NAO INFORMADO</td>\n",
       "      <td>EM ACOMPANHAMENTO</td>\n",
       "      <td>NAO</td>\n",
       "      <td>NAO</td>\n",
       "      <td>NAO INFORMADO</td>\n",
       "      <td>2020-08-07</td>\n",
       "      <td>BOLETIM</td>\n",
       "      <td>1</td>\n",
       "    </tr>\n",
       "    <tr>\n",
       "      <td>4</td>\n",
       "      <td>PATOS DE MINAS</td>\n",
       "      <td>PATOS DE MINAS</td>\n",
       "      <td>NOROESTE</td>\n",
       "      <td>5</td>\n",
       "      <td>2020-06-23</td>\n",
       "      <td>CASO CONFIRMADO</td>\n",
       "      <td>MASCULINO</td>\n",
       "      <td>60.0</td>\n",
       "      <td>60 A 69 ANOS</td>\n",
       "      <td>VAZANTE</td>\n",
       "      <td>317100.0</td>\n",
       "      <td>NAO</td>\n",
       "      <td>RECUPERADO</td>\n",
       "      <td>NAO</td>\n",
       "      <td>NAO</td>\n",
       "      <td>BRANCA</td>\n",
       "      <td>2020-08-07</td>\n",
       "      <td>BOLETIM</td>\n",
       "      <td>1</td>\n",
       "    </tr>\n",
       "    <tr>\n",
       "      <td>...</td>\n",
       "      <td>...</td>\n",
       "      <td>...</td>\n",
       "      <td>...</td>\n",
       "      <td>...</td>\n",
       "      <td>...</td>\n",
       "      <td>...</td>\n",
       "      <td>...</td>\n",
       "      <td>...</td>\n",
       "      <td>...</td>\n",
       "      <td>...</td>\n",
       "      <td>...</td>\n",
       "      <td>...</td>\n",
       "      <td>...</td>\n",
       "      <td>...</td>\n",
       "      <td>...</td>\n",
       "      <td>...</td>\n",
       "      <td>...</td>\n",
       "      <td>...</td>\n",
       "      <td>...</td>\n",
       "    </tr>\n",
       "    <tr>\n",
       "      <td>44776</td>\n",
       "      <td>DIVINOPOLIS</td>\n",
       "      <td>ITAUNA</td>\n",
       "      <td>OESTE</td>\n",
       "      <td>44777</td>\n",
       "      <td>2020-08-05</td>\n",
       "      <td>CASO CONFIRMADO</td>\n",
       "      <td>FEMININO</td>\n",
       "      <td>25.0</td>\n",
       "      <td>20 A 29 ANOS</td>\n",
       "      <td>ITAUNA</td>\n",
       "      <td>313380.0</td>\n",
       "      <td>NAO INFORMADO</td>\n",
       "      <td>RECUPERADO</td>\n",
       "      <td>NAO</td>\n",
       "      <td>NAO</td>\n",
       "      <td>BRANCA</td>\n",
       "      <td>2020-08-07</td>\n",
       "      <td>ESUS</td>\n",
       "      <td>1</td>\n",
       "    </tr>\n",
       "    <tr>\n",
       "      <td>44777</td>\n",
       "      <td>GOVERNADOR VALADARES</td>\n",
       "      <td>GOVERNADOR VALADARES</td>\n",
       "      <td>LESTE</td>\n",
       "      <td>44778</td>\n",
       "      <td>2020-08-03</td>\n",
       "      <td>CASO CONFIRMADO</td>\n",
       "      <td>FEMININO</td>\n",
       "      <td>37.0</td>\n",
       "      <td>30 A 39 ANOS</td>\n",
       "      <td>GOVERNADOR VALADARES</td>\n",
       "      <td>312770.0</td>\n",
       "      <td>NAO INFORMADO</td>\n",
       "      <td>EM ACOMPANHAMENTO</td>\n",
       "      <td>NAO</td>\n",
       "      <td>NAO</td>\n",
       "      <td>PARDA</td>\n",
       "      <td>2020-08-07</td>\n",
       "      <td>ESUS</td>\n",
       "      <td>1</td>\n",
       "    </tr>\n",
       "    <tr>\n",
       "      <td>44778</td>\n",
       "      <td>POUSO ALEGRE</td>\n",
       "      <td>POUSO ALEGRE</td>\n",
       "      <td>SUL</td>\n",
       "      <td>44779</td>\n",
       "      <td>2020-08-05</td>\n",
       "      <td>CASO CONFIRMADO</td>\n",
       "      <td>FEMININO</td>\n",
       "      <td>11.0</td>\n",
       "      <td>10 A 19 ANOS</td>\n",
       "      <td>BUENO BRANDAO</td>\n",
       "      <td>310910.0</td>\n",
       "      <td>NAO INFORMADO</td>\n",
       "      <td>NAO INFORMADO</td>\n",
       "      <td>NAO</td>\n",
       "      <td>NAO</td>\n",
       "      <td>BRANCA</td>\n",
       "      <td>2020-08-07</td>\n",
       "      <td>ESUS</td>\n",
       "      <td>1</td>\n",
       "    </tr>\n",
       "    <tr>\n",
       "      <td>44779</td>\n",
       "      <td>UBA</td>\n",
       "      <td>UBA</td>\n",
       "      <td>SUDESTE</td>\n",
       "      <td>44780</td>\n",
       "      <td>2020-07-24</td>\n",
       "      <td>CASO CONFIRMADO</td>\n",
       "      <td>MASCULINO</td>\n",
       "      <td>20.0</td>\n",
       "      <td>20 A 29 ANOS</td>\n",
       "      <td>GUIRICEMA</td>\n",
       "      <td>312900.0</td>\n",
       "      <td>NAO INFORMADO</td>\n",
       "      <td>EM ACOMPANHAMENTO</td>\n",
       "      <td>NAO</td>\n",
       "      <td>NAO</td>\n",
       "      <td>BRANCA</td>\n",
       "      <td>2020-08-07</td>\n",
       "      <td>ESUS</td>\n",
       "      <td>1</td>\n",
       "    </tr>\n",
       "    <tr>\n",
       "      <td>44780</td>\n",
       "      <td>DIVINOPOLIS</td>\n",
       "      <td>DIVINOPOLIS</td>\n",
       "      <td>OESTE</td>\n",
       "      <td>44781</td>\n",
       "      <td>2020-07-28</td>\n",
       "      <td>CASO CONFIRMADO</td>\n",
       "      <td>FEMININO</td>\n",
       "      <td>39.0</td>\n",
       "      <td>30 A 39 ANOS</td>\n",
       "      <td>DIVINOPOLIS</td>\n",
       "      <td>312230.0</td>\n",
       "      <td>NAO INFORMADO</td>\n",
       "      <td>EM ACOMPANHAMENTO</td>\n",
       "      <td>NAO</td>\n",
       "      <td>NAO</td>\n",
       "      <td>BRANCA</td>\n",
       "      <td>2020-08-07</td>\n",
       "      <td>ESUS</td>\n",
       "      <td>1</td>\n",
       "    </tr>\n",
       "  </tbody>\n",
       "</table>\n",
       "<p>44781 rows × 19 columns</p>\n",
       "</div>"
      ],
      "text/plain": [
       "                        URS                 MICRO     MACRO     ID  \\\n",
       "0              JUIZ DE FORA          JUIZ DE FORA   SUDESTE      1   \n",
       "1              JUIZ DE FORA          JUIZ DE FORA   SUDESTE      2   \n",
       "2              JUIZ DE FORA         SANTOS DUMONT   SUDESTE      3   \n",
       "3              JUIZ DE FORA          JUIZ DE FORA   SUDESTE      4   \n",
       "4            PATOS DE MINAS        PATOS DE MINAS  NOROESTE      5   \n",
       "...                     ...                   ...       ...    ...   \n",
       "44776           DIVINOPOLIS                ITAUNA     OESTE  44777   \n",
       "44777  GOVERNADOR VALADARES  GOVERNADOR VALADARES     LESTE  44778   \n",
       "44778          POUSO ALEGRE          POUSO ALEGRE       SUL  44779   \n",
       "44779                   UBA                   UBA   SUDESTE  44780   \n",
       "44780           DIVINOPOLIS           DIVINOPOLIS     OESTE  44781   \n",
       "\n",
       "      DATA_NOTIFICACAO CLASSIFICACAO_CASO       SEXO  IDADE  FAIXA_ETARIA  \\\n",
       "0           2020-06-24    CASO CONFIRMADO   FEMININO   79.0  70 A 79 ANOS   \n",
       "1           2020-06-24    CASO CONFIRMADO  MASCULINO   56.0  50 A 59 ANOS   \n",
       "2           2020-06-24    CASO CONFIRMADO  MASCULINO   72.0  70 A 79 ANOS   \n",
       "3           2020-06-24    CASO CONFIRMADO   FEMININO    0.0         <1ANO   \n",
       "4           2020-06-23    CASO CONFIRMADO  MASCULINO   60.0  60 A 69 ANOS   \n",
       "...                ...                ...        ...    ...           ...   \n",
       "44776       2020-08-05    CASO CONFIRMADO   FEMININO   25.0  20 A 29 ANOS   \n",
       "44777       2020-08-03    CASO CONFIRMADO   FEMININO   37.0  30 A 39 ANOS   \n",
       "44778       2020-08-05    CASO CONFIRMADO   FEMININO   11.0  10 A 19 ANOS   \n",
       "44779       2020-07-24    CASO CONFIRMADO  MASCULINO   20.0  20 A 29 ANOS   \n",
       "44780       2020-07-28    CASO CONFIRMADO   FEMININO   39.0  30 A 39 ANOS   \n",
       "\n",
       "       MUNICIPIO_RESIDENCIA    CODIGO    COMORBIDADE           EVOLUCAO  \\\n",
       "0              JUIZ DE FORA  313670.0  NAO INFORMADO  EM ACOMPANHAMENTO   \n",
       "1              JUIZ DE FORA  313670.0  NAO INFORMADO  EM ACOMPANHAMENTO   \n",
       "2             SANTOS DUMONT  316070.0  NAO INFORMADO  EM ACOMPANHAMENTO   \n",
       "3              JUIZ DE FORA  313670.0  NAO INFORMADO  EM ACOMPANHAMENTO   \n",
       "4                   VAZANTE  317100.0            NAO         RECUPERADO   \n",
       "...                     ...       ...            ...                ...   \n",
       "44776                ITAUNA  313380.0  NAO INFORMADO         RECUPERADO   \n",
       "44777  GOVERNADOR VALADARES  312770.0  NAO INFORMADO  EM ACOMPANHAMENTO   \n",
       "44778         BUENO BRANDAO  310910.0  NAO INFORMADO      NAO INFORMADO   \n",
       "44779             GUIRICEMA  312900.0  NAO INFORMADO  EM ACOMPANHAMENTO   \n",
       "44780           DIVINOPOLIS  312230.0  NAO INFORMADO  EM ACOMPANHAMENTO   \n",
       "\n",
       "          INTERNACAO            UTI           RACA DATA_ATUALIZACAO  \\\n",
       "0      NAO INFORMADO  NAO INFORMADO  NAO INFORMADO       2020-08-07   \n",
       "1      NAO INFORMADO  NAO INFORMADO  NAO INFORMADO       2020-08-07   \n",
       "2      NAO INFORMADO  NAO INFORMADO  NAO INFORMADO       2020-08-07   \n",
       "3                NAO            NAO  NAO INFORMADO       2020-08-07   \n",
       "4                NAO            NAO         BRANCA       2020-08-07   \n",
       "...              ...            ...            ...              ...   \n",
       "44776            NAO            NAO         BRANCA       2020-08-07   \n",
       "44777            NAO            NAO          PARDA       2020-08-07   \n",
       "44778            NAO            NAO         BRANCA       2020-08-07   \n",
       "44779            NAO            NAO         BRANCA       2020-08-07   \n",
       "44780            NAO            NAO         BRANCA       2020-08-07   \n",
       "\n",
       "      ORIGEM_DA_INFORMACAO  contador  \n",
       "0                  BOLETIM         1  \n",
       "1                  BOLETIM         1  \n",
       "2                  BOLETIM         1  \n",
       "3                  BOLETIM         1  \n",
       "4                  BOLETIM         1  \n",
       "...                    ...       ...  \n",
       "44776                 ESUS         1  \n",
       "44777                 ESUS         1  \n",
       "44778                 ESUS         1  \n",
       "44779                 ESUS         1  \n",
       "44780                 ESUS         1  \n",
       "\n",
       "[44781 rows x 19 columns]"
      ]
     },
     "execution_count": 1,
     "metadata": {},
     "output_type": "execute_result"
    }
   ],
   "source": [
    "import pandas as pd\n",
    "import numpy as np\n",
    "import warnings\n",
    "warnings.filterwarnings('ignore')\n",
    "\n",
    "#importamos o banco de dado\n",
    "base_out = pd.read_excel('xlsx_sistemas(1).xlsx',sep=';', encoding='latin-1')\n",
    "base_out['contador'] = 1\n",
    "\n",
    "base_out"
   ]
  },
  {
   "cell_type": "code",
   "execution_count": 2,
   "metadata": {},
   "outputs": [],
   "source": [
    "#segundo banco de dado com o restante dos confirmados.\n",
    "base_lab = pd.read_excel('xlsx_laboratorios(1).xlsx',sep=',', encoding='latin-1')\n",
    "base_lab['contador'] = 1\n",
    "\n",
    "base_lab\n",
    "base = pd.concat([base_lab, base_out], ignore_index=False)\n",
    "\n",
    "#Limpeza e oredanção dos dados\n",
    "from datetime import datetime\n",
    "base['DATA_NOTIFICACAO'] = pd.to_datetime(base['DATA_NOTIFICACAO'], format='%m/%d/%Y')\n",
    "\n",
    "base.sort_values('DATA_NOTIFICACAO', inplace=True)"
   ]
  },
  {
   "cell_type": "code",
   "execution_count": 3,
   "metadata": {
    "scrolled": false
   },
   "outputs": [],
   "source": [
    "#seleciono a regiao com a qual vou trabalhar e extrair os dados.\n",
    "Microregiao_OP = base.loc[base['MICRO'] == 'OURO PRETO']"
   ]
  },
  {
   "cell_type": "code",
   "execution_count": 4,
   "metadata": {
    "scrolled": true
   },
   "outputs": [
    {
     "data": {
      "text/html": [
       "<div>\n",
       "<style scoped>\n",
       "    .dataframe tbody tr th:only-of-type {\n",
       "        vertical-align: middle;\n",
       "    }\n",
       "\n",
       "    .dataframe tbody tr th {\n",
       "        vertical-align: top;\n",
       "    }\n",
       "\n",
       "    .dataframe thead th {\n",
       "        text-align: right;\n",
       "    }\n",
       "</style>\n",
       "<table border=\"1\" class=\"dataframe\">\n",
       "  <thead>\n",
       "    <tr style=\"text-align: right;\">\n",
       "      <th></th>\n",
       "      <th>URS</th>\n",
       "      <th>MICRO</th>\n",
       "      <th>MACRO</th>\n",
       "      <th>ID</th>\n",
       "      <th>DATA_NOTIFICACAO</th>\n",
       "      <th>CLASSIFICACAO_CASO</th>\n",
       "      <th>SEXO</th>\n",
       "      <th>IDADE</th>\n",
       "      <th>FAIXA_ETARIA</th>\n",
       "      <th>MUNICIPIO_RESIDENCIA</th>\n",
       "      <th>CODIGO</th>\n",
       "      <th>COMORBIDADE</th>\n",
       "      <th>EVOLUCAO</th>\n",
       "      <th>INTERNACAO</th>\n",
       "      <th>UTI</th>\n",
       "      <th>RACA</th>\n",
       "      <th>DATA_ATUALIZACAO</th>\n",
       "      <th>ORIGEM_DA_INFORMACAO</th>\n",
       "      <th>contador</th>\n",
       "    </tr>\n",
       "  </thead>\n",
       "  <tbody>\n",
       "    <tr>\n",
       "      <td>10596</td>\n",
       "      <td>BELO HORIZONTE</td>\n",
       "      <td>OURO PRETO</td>\n",
       "      <td>CENTRO</td>\n",
       "      <td>55378</td>\n",
       "      <td>2020-03-07</td>\n",
       "      <td>CASO CONFIRMADO</td>\n",
       "      <td>MASCULINO</td>\n",
       "      <td>NaN</td>\n",
       "      <td>NaN</td>\n",
       "      <td>MARIANA</td>\n",
       "      <td>314000.0</td>\n",
       "      <td>NAO INFORMADO</td>\n",
       "      <td>EM ACOMPANHAMENTO</td>\n",
       "      <td>NAO INFORMADO</td>\n",
       "      <td>NAO INFORMADO</td>\n",
       "      <td>NAO INFORMADO</td>\n",
       "      <td>2020-08-07</td>\n",
       "      <td>LABORATORIOS PUBLICOS E PRIVADOS</td>\n",
       "      <td>1</td>\n",
       "    </tr>\n",
       "    <tr>\n",
       "      <td>10592</td>\n",
       "      <td>BELO HORIZONTE</td>\n",
       "      <td>OURO PRETO</td>\n",
       "      <td>CENTRO</td>\n",
       "      <td>55374</td>\n",
       "      <td>2020-03-07</td>\n",
       "      <td>CASO CONFIRMADO</td>\n",
       "      <td>MASCULINO</td>\n",
       "      <td>NaN</td>\n",
       "      <td>NaN</td>\n",
       "      <td>ITABIRITO</td>\n",
       "      <td>313190.0</td>\n",
       "      <td>NAO INFORMADO</td>\n",
       "      <td>EM ACOMPANHAMENTO</td>\n",
       "      <td>NAO INFORMADO</td>\n",
       "      <td>NAO INFORMADO</td>\n",
       "      <td>NAO INFORMADO</td>\n",
       "      <td>2020-08-07</td>\n",
       "      <td>LABORATORIOS PUBLICOS E PRIVADOS</td>\n",
       "      <td>1</td>\n",
       "    </tr>\n",
       "    <tr>\n",
       "      <td>10585</td>\n",
       "      <td>BELO HORIZONTE</td>\n",
       "      <td>OURO PRETO</td>\n",
       "      <td>CENTRO</td>\n",
       "      <td>55367</td>\n",
       "      <td>2020-03-07</td>\n",
       "      <td>CASO CONFIRMADO</td>\n",
       "      <td>MASCULINO</td>\n",
       "      <td>NaN</td>\n",
       "      <td>NaN</td>\n",
       "      <td>MARIANA</td>\n",
       "      <td>314000.0</td>\n",
       "      <td>NAO INFORMADO</td>\n",
       "      <td>EM ACOMPANHAMENTO</td>\n",
       "      <td>NAO INFORMADO</td>\n",
       "      <td>NAO INFORMADO</td>\n",
       "      <td>NAO INFORMADO</td>\n",
       "      <td>2020-08-07</td>\n",
       "      <td>LABORATORIOS PUBLICOS E PRIVADOS</td>\n",
       "      <td>1</td>\n",
       "    </tr>\n",
       "    <tr>\n",
       "      <td>10570</td>\n",
       "      <td>BELO HORIZONTE</td>\n",
       "      <td>OURO PRETO</td>\n",
       "      <td>CENTRO</td>\n",
       "      <td>55352</td>\n",
       "      <td>2020-03-07</td>\n",
       "      <td>CASO CONFIRMADO</td>\n",
       "      <td>MASCULINO</td>\n",
       "      <td>NaN</td>\n",
       "      <td>NaN</td>\n",
       "      <td>OURO PRETO</td>\n",
       "      <td>314610.0</td>\n",
       "      <td>NAO INFORMADO</td>\n",
       "      <td>EM ACOMPANHAMENTO</td>\n",
       "      <td>NAO INFORMADO</td>\n",
       "      <td>NAO INFORMADO</td>\n",
       "      <td>NAO INFORMADO</td>\n",
       "      <td>2020-08-07</td>\n",
       "      <td>LABORATORIOS PUBLICOS E PRIVADOS</td>\n",
       "      <td>1</td>\n",
       "    </tr>\n",
       "    <tr>\n",
       "      <td>12776</td>\n",
       "      <td>BELO HORIZONTE</td>\n",
       "      <td>OURO PRETO</td>\n",
       "      <td>CENTRO</td>\n",
       "      <td>12777</td>\n",
       "      <td>2020-03-20</td>\n",
       "      <td>CASO CONFIRMADO</td>\n",
       "      <td>FEMININO</td>\n",
       "      <td>40.0</td>\n",
       "      <td>40 A 49 ANOS</td>\n",
       "      <td>MARIANA</td>\n",
       "      <td>314000.0</td>\n",
       "      <td>NAO INFORMADO</td>\n",
       "      <td>RECUPERADO</td>\n",
       "      <td>NAO</td>\n",
       "      <td>NAO</td>\n",
       "      <td>PARDA</td>\n",
       "      <td>2020-08-07</td>\n",
       "      <td>BOLETIM</td>\n",
       "      <td>1</td>\n",
       "    </tr>\n",
       "    <tr>\n",
       "      <td>...</td>\n",
       "      <td>...</td>\n",
       "      <td>...</td>\n",
       "      <td>...</td>\n",
       "      <td>...</td>\n",
       "      <td>...</td>\n",
       "      <td>...</td>\n",
       "      <td>...</td>\n",
       "      <td>...</td>\n",
       "      <td>...</td>\n",
       "      <td>...</td>\n",
       "      <td>...</td>\n",
       "      <td>...</td>\n",
       "      <td>...</td>\n",
       "      <td>...</td>\n",
       "      <td>...</td>\n",
       "      <td>...</td>\n",
       "      <td>...</td>\n",
       "      <td>...</td>\n",
       "      <td>...</td>\n",
       "    </tr>\n",
       "    <tr>\n",
       "      <td>40219</td>\n",
       "      <td>BELO HORIZONTE</td>\n",
       "      <td>OURO PRETO</td>\n",
       "      <td>CENTRO</td>\n",
       "      <td>85001</td>\n",
       "      <td>2020-08-04</td>\n",
       "      <td>CASO CONFIRMADO</td>\n",
       "      <td>FEMININO</td>\n",
       "      <td>30.0</td>\n",
       "      <td>30 A 39 ANOS</td>\n",
       "      <td>ITABIRITO</td>\n",
       "      <td>313190.0</td>\n",
       "      <td>NAO INFORMADO</td>\n",
       "      <td>EM ACOMPANHAMENTO</td>\n",
       "      <td>NAO INFORMADO</td>\n",
       "      <td>NAO INFORMADO</td>\n",
       "      <td>NAO INFORMADO</td>\n",
       "      <td>2020-08-07</td>\n",
       "      <td>LABORATORIOS PUBLICOS E PRIVADOS</td>\n",
       "      <td>1</td>\n",
       "    </tr>\n",
       "    <tr>\n",
       "      <td>40252</td>\n",
       "      <td>BELO HORIZONTE</td>\n",
       "      <td>OURO PRETO</td>\n",
       "      <td>CENTRO</td>\n",
       "      <td>85034</td>\n",
       "      <td>2020-08-04</td>\n",
       "      <td>CASO CONFIRMADO</td>\n",
       "      <td>MASCULINO</td>\n",
       "      <td>69.0</td>\n",
       "      <td>60 A 69 ANOS</td>\n",
       "      <td>ITABIRITO</td>\n",
       "      <td>313190.0</td>\n",
       "      <td>NAO INFORMADO</td>\n",
       "      <td>EM ACOMPANHAMENTO</td>\n",
       "      <td>NAO INFORMADO</td>\n",
       "      <td>NAO INFORMADO</td>\n",
       "      <td>NAO INFORMADO</td>\n",
       "      <td>2020-08-07</td>\n",
       "      <td>LABORATORIOS PUBLICOS E PRIVADOS</td>\n",
       "      <td>1</td>\n",
       "    </tr>\n",
       "    <tr>\n",
       "      <td>40919</td>\n",
       "      <td>BELO HORIZONTE</td>\n",
       "      <td>OURO PRETO</td>\n",
       "      <td>CENTRO</td>\n",
       "      <td>85701</td>\n",
       "      <td>2020-08-05</td>\n",
       "      <td>CASO CONFIRMADO</td>\n",
       "      <td>FEMININO</td>\n",
       "      <td>26.0</td>\n",
       "      <td>20 A 29 ANOS</td>\n",
       "      <td>MARIANA</td>\n",
       "      <td>314000.0</td>\n",
       "      <td>NAO INFORMADO</td>\n",
       "      <td>EM ACOMPANHAMENTO</td>\n",
       "      <td>NAO INFORMADO</td>\n",
       "      <td>NAO INFORMADO</td>\n",
       "      <td>NAO INFORMADO</td>\n",
       "      <td>2020-08-07</td>\n",
       "      <td>LABORATORIOS PUBLICOS E PRIVADOS</td>\n",
       "      <td>1</td>\n",
       "    </tr>\n",
       "    <tr>\n",
       "      <td>40913</td>\n",
       "      <td>BELO HORIZONTE</td>\n",
       "      <td>OURO PRETO</td>\n",
       "      <td>CENTRO</td>\n",
       "      <td>85695</td>\n",
       "      <td>2020-08-05</td>\n",
       "      <td>CASO CONFIRMADO</td>\n",
       "      <td>FEMININO</td>\n",
       "      <td>35.0</td>\n",
       "      <td>30 A 39 ANOS</td>\n",
       "      <td>MARIANA</td>\n",
       "      <td>314000.0</td>\n",
       "      <td>NAO INFORMADO</td>\n",
       "      <td>EM ACOMPANHAMENTO</td>\n",
       "      <td>NAO INFORMADO</td>\n",
       "      <td>NAO INFORMADO</td>\n",
       "      <td>NAO INFORMADO</td>\n",
       "      <td>2020-08-07</td>\n",
       "      <td>LABORATORIOS PUBLICOS E PRIVADOS</td>\n",
       "      <td>1</td>\n",
       "    </tr>\n",
       "    <tr>\n",
       "      <td>40883</td>\n",
       "      <td>BELO HORIZONTE</td>\n",
       "      <td>OURO PRETO</td>\n",
       "      <td>CENTRO</td>\n",
       "      <td>85665</td>\n",
       "      <td>2020-08-05</td>\n",
       "      <td>CASO CONFIRMADO</td>\n",
       "      <td>FEMININO</td>\n",
       "      <td>21.0</td>\n",
       "      <td>20 A 29 ANOS</td>\n",
       "      <td>MARIANA</td>\n",
       "      <td>314000.0</td>\n",
       "      <td>NAO INFORMADO</td>\n",
       "      <td>EM ACOMPANHAMENTO</td>\n",
       "      <td>NAO INFORMADO</td>\n",
       "      <td>NAO INFORMADO</td>\n",
       "      <td>NAO INFORMADO</td>\n",
       "      <td>2020-08-07</td>\n",
       "      <td>LABORATORIOS PUBLICOS E PRIVADOS</td>\n",
       "      <td>1</td>\n",
       "    </tr>\n",
       "  </tbody>\n",
       "</table>\n",
       "<p>1713 rows × 19 columns</p>\n",
       "</div>"
      ],
      "text/plain": [
       "                  URS       MICRO   MACRO     ID DATA_NOTIFICACAO  \\\n",
       "10596  BELO HORIZONTE  OURO PRETO  CENTRO  55378       2020-03-07   \n",
       "10592  BELO HORIZONTE  OURO PRETO  CENTRO  55374       2020-03-07   \n",
       "10585  BELO HORIZONTE  OURO PRETO  CENTRO  55367       2020-03-07   \n",
       "10570  BELO HORIZONTE  OURO PRETO  CENTRO  55352       2020-03-07   \n",
       "12776  BELO HORIZONTE  OURO PRETO  CENTRO  12777       2020-03-20   \n",
       "...               ...         ...     ...    ...              ...   \n",
       "40219  BELO HORIZONTE  OURO PRETO  CENTRO  85001       2020-08-04   \n",
       "40252  BELO HORIZONTE  OURO PRETO  CENTRO  85034       2020-08-04   \n",
       "40919  BELO HORIZONTE  OURO PRETO  CENTRO  85701       2020-08-05   \n",
       "40913  BELO HORIZONTE  OURO PRETO  CENTRO  85695       2020-08-05   \n",
       "40883  BELO HORIZONTE  OURO PRETO  CENTRO  85665       2020-08-05   \n",
       "\n",
       "      CLASSIFICACAO_CASO       SEXO  IDADE  FAIXA_ETARIA MUNICIPIO_RESIDENCIA  \\\n",
       "10596    CASO CONFIRMADO  MASCULINO    NaN           NaN              MARIANA   \n",
       "10592    CASO CONFIRMADO  MASCULINO    NaN           NaN            ITABIRITO   \n",
       "10585    CASO CONFIRMADO  MASCULINO    NaN           NaN              MARIANA   \n",
       "10570    CASO CONFIRMADO  MASCULINO    NaN           NaN           OURO PRETO   \n",
       "12776    CASO CONFIRMADO   FEMININO   40.0  40 A 49 ANOS              MARIANA   \n",
       "...                  ...        ...    ...           ...                  ...   \n",
       "40219    CASO CONFIRMADO   FEMININO   30.0  30 A 39 ANOS            ITABIRITO   \n",
       "40252    CASO CONFIRMADO  MASCULINO   69.0  60 A 69 ANOS            ITABIRITO   \n",
       "40919    CASO CONFIRMADO   FEMININO   26.0  20 A 29 ANOS              MARIANA   \n",
       "40913    CASO CONFIRMADO   FEMININO   35.0  30 A 39 ANOS              MARIANA   \n",
       "40883    CASO CONFIRMADO   FEMININO   21.0  20 A 29 ANOS              MARIANA   \n",
       "\n",
       "         CODIGO    COMORBIDADE           EVOLUCAO     INTERNACAO  \\\n",
       "10596  314000.0  NAO INFORMADO  EM ACOMPANHAMENTO  NAO INFORMADO   \n",
       "10592  313190.0  NAO INFORMADO  EM ACOMPANHAMENTO  NAO INFORMADO   \n",
       "10585  314000.0  NAO INFORMADO  EM ACOMPANHAMENTO  NAO INFORMADO   \n",
       "10570  314610.0  NAO INFORMADO  EM ACOMPANHAMENTO  NAO INFORMADO   \n",
       "12776  314000.0  NAO INFORMADO         RECUPERADO            NAO   \n",
       "...         ...            ...                ...            ...   \n",
       "40219  313190.0  NAO INFORMADO  EM ACOMPANHAMENTO  NAO INFORMADO   \n",
       "40252  313190.0  NAO INFORMADO  EM ACOMPANHAMENTO  NAO INFORMADO   \n",
       "40919  314000.0  NAO INFORMADO  EM ACOMPANHAMENTO  NAO INFORMADO   \n",
       "40913  314000.0  NAO INFORMADO  EM ACOMPANHAMENTO  NAO INFORMADO   \n",
       "40883  314000.0  NAO INFORMADO  EM ACOMPANHAMENTO  NAO INFORMADO   \n",
       "\n",
       "                 UTI           RACA DATA_ATUALIZACAO  \\\n",
       "10596  NAO INFORMADO  NAO INFORMADO       2020-08-07   \n",
       "10592  NAO INFORMADO  NAO INFORMADO       2020-08-07   \n",
       "10585  NAO INFORMADO  NAO INFORMADO       2020-08-07   \n",
       "10570  NAO INFORMADO  NAO INFORMADO       2020-08-07   \n",
       "12776            NAO          PARDA       2020-08-07   \n",
       "...              ...            ...              ...   \n",
       "40219  NAO INFORMADO  NAO INFORMADO       2020-08-07   \n",
       "40252  NAO INFORMADO  NAO INFORMADO       2020-08-07   \n",
       "40919  NAO INFORMADO  NAO INFORMADO       2020-08-07   \n",
       "40913  NAO INFORMADO  NAO INFORMADO       2020-08-07   \n",
       "40883  NAO INFORMADO  NAO INFORMADO       2020-08-07   \n",
       "\n",
       "                   ORIGEM_DA_INFORMACAO  contador  \n",
       "10596  LABORATORIOS PUBLICOS E PRIVADOS         1  \n",
       "10592  LABORATORIOS PUBLICOS E PRIVADOS         1  \n",
       "10585  LABORATORIOS PUBLICOS E PRIVADOS         1  \n",
       "10570  LABORATORIOS PUBLICOS E PRIVADOS         1  \n",
       "12776                           BOLETIM         1  \n",
       "...                                 ...       ...  \n",
       "40219  LABORATORIOS PUBLICOS E PRIVADOS         1  \n",
       "40252  LABORATORIOS PUBLICOS E PRIVADOS         1  \n",
       "40919  LABORATORIOS PUBLICOS E PRIVADOS         1  \n",
       "40913  LABORATORIOS PUBLICOS E PRIVADOS         1  \n",
       "40883  LABORATORIOS PUBLICOS E PRIVADOS         1  \n",
       "\n",
       "[1713 rows x 19 columns]"
      ]
     },
     "execution_count": 4,
     "metadata": {},
     "output_type": "execute_result"
    }
   ],
   "source": [
    "Microregiao_OP"
   ]
  },
  {
   "cell_type": "code",
   "execution_count": 8,
   "metadata": {},
   "outputs": [
    {
     "data": {
      "text/html": [
       "<div>\n",
       "<style scoped>\n",
       "    .dataframe tbody tr th:only-of-type {\n",
       "        vertical-align: middle;\n",
       "    }\n",
       "\n",
       "    .dataframe tbody tr th {\n",
       "        vertical-align: top;\n",
       "    }\n",
       "\n",
       "    .dataframe thead th {\n",
       "        text-align: right;\n",
       "    }\n",
       "</style>\n",
       "<table border=\"1\" class=\"dataframe\">\n",
       "  <thead>\n",
       "    <tr style=\"text-align: right;\">\n",
       "      <th></th>\n",
       "      <th>index</th>\n",
       "      <th>EVOLUCAO</th>\n",
       "    </tr>\n",
       "  </thead>\n",
       "  <tbody>\n",
       "    <tr>\n",
       "      <td>0</td>\n",
       "      <td>EM ACOMPANHAMENTO</td>\n",
       "      <td>1092</td>\n",
       "    </tr>\n",
       "    <tr>\n",
       "      <td>1</td>\n",
       "      <td>RECUPERADO</td>\n",
       "      <td>621</td>\n",
       "    </tr>\n",
       "  </tbody>\n",
       "</table>\n",
       "</div>"
      ],
      "text/plain": [
       "               index  EVOLUCAO\n",
       "0  EM ACOMPANHAMENTO      1092\n",
       "1         RECUPERADO       621"
      ]
     },
     "execution_count": 8,
     "metadata": {},
     "output_type": "execute_result"
    }
   ],
   "source": [
    "pd.DataFrame(Microregiao_OP['EVOLUCAO'].value_counts()).reset_index()\n",
    "#a = a.sort_values(by=['index'], inplace=True)\n",
    "#Microregiao_OP.groupby('DATA_NOTIFICACAO').contador.sum()"
   ]
  },
  {
   "cell_type": "code",
   "execution_count": 9,
   "metadata": {},
   "outputs": [
    {
     "name": "stdout",
     "output_type": "stream",
     "text": [
      "Confirmados nas ultimas 24hrs:  0\n"
     ]
    }
   ],
   "source": [
    "confirmados_24h = Microregiao_OP.loc[Microregiao_OP['DATA_NOTIFICACAO'] == '2020-08-6']\n",
    "print(\"Confirmados nas ultimas 24hrs: \",int(confirmados_24h.contador.sum()))"
   ]
  },
  {
   "cell_type": "code",
   "execution_count": 10,
   "metadata": {
    "scrolled": true
   },
   "outputs": [
    {
     "name": "stdout",
     "output_type": "stream",
     "text": [
      "Casos confirmados:  1713\n"
     ]
    }
   ],
   "source": [
    "Casos_confirmados = Microregiao_OP.contador.sum()\n",
    "print('Casos confirmados: ', int(Casos_confirmados))"
   ]
  },
  {
   "cell_type": "code",
   "execution_count": 11,
   "metadata": {},
   "outputs": [
    {
     "name": "stdout",
     "output_type": "stream",
     "text": [
      "Casos em acompanhamento:  Não Informado\n"
     ]
    }
   ],
   "source": [
    "em_acompanhamento = Microregiao_OP.loc[Microregiao_OP['EVOLUCAO'] == 'EM ACOMPANHAMENTO']\n",
    "em_acompanhamento = em_acompanhamento['contador'].sum()\n",
    "print('Casos em acompanhamento: ', 'Não Informado')"
   ]
  },
  {
   "cell_type": "code",
   "execution_count": 12,
   "metadata": {},
   "outputs": [
    {
     "name": "stdout",
     "output_type": "stream",
     "text": [
      "Casos recuperados:  621\n"
     ]
    }
   ],
   "source": [
    "recuperados = Microregiao_OP.loc[Microregiao_OP['EVOLUCAO'] == 'RECUPERADO']\n",
    "Casos_recuperados = recuperados['contador'].sum()\n",
    "print('Casos recuperados: ', int(Casos_recuperados))"
   ]
  },
  {
   "cell_type": "code",
   "execution_count": 13,
   "metadata": {
    "scrolled": true
   },
   "outputs": [
    {
     "name": "stdout",
     "output_type": "stream",
     "text": [
      "Óbitos:  0\n"
     ]
    }
   ],
   "source": [
    "obitos = Microregiao_OP.loc[Microregiao_OP['EVOLUCAO'] == 'OBITO']\n",
    "obitos_OP = obitos['contador'].sum()\n",
    "print('Óbitos: ', int(obitos_OP))"
   ]
  },
  {
   "cell_type": "code",
   "execution_count": 14,
   "metadata": {},
   "outputs": [
    {
     "name": "stdout",
     "output_type": "stream",
     "text": [
      "\n"
     ]
    }
   ],
   "source": [
    "print('')"
   ]
  },
  {
   "cell_type": "markdown",
   "metadata": {},
   "source": [
    "1_ PERFIL EPIDEMIOLOGICO DOS CONFIRMADOS:"
   ]
  },
  {
   "cell_type": "markdown",
   "metadata": {},
   "source": [
    "POR SEXO:"
   ]
  },
  {
   "cell_type": "code",
   "execution_count": 15,
   "metadata": {},
   "outputs": [],
   "source": [
    "#Microregiao_OP.groupby(['SEXO']).contador.sum()"
   ]
  },
  {
   "cell_type": "code",
   "execution_count": 16,
   "metadata": {},
   "outputs": [
    {
     "name": "stdout",
     "output_type": "stream",
     "text": [
      "Homens confirmados:  1195\n"
     ]
    }
   ],
   "source": [
    "Homens_confirmados = Microregiao_OP.loc[(Microregiao_OP['SEXO'] == 'MASCULINO')]\n",
    "Homens_confirmados_vivos = Homens_confirmados[(Homens_confirmados.EVOLUCAO != 'OBITO')]\n",
    "Homens_confirmados_vivos = Homens_confirmados_vivos['contador'].sum()\n",
    "print('Homens confirmados: ', int(Homens_confirmados_vivos))"
   ]
  },
  {
   "cell_type": "code",
   "execution_count": 17,
   "metadata": {},
   "outputs": [
    {
     "name": "stdout",
     "output_type": "stream",
     "text": [
      "Mulheres confirmadas:  499\n"
     ]
    }
   ],
   "source": [
    "Mulheres_confirmadas = Microregiao_OP.loc[(Microregiao_OP['SEXO'] == 'FEMININO')]\n",
    "Mulheres_confirmadas_vivas = Mulheres_confirmadas[(Mulheres_confirmadas.EVOLUCAO != 'OBITO')]\n",
    "Mulheres_confirmadas_vivas = Mulheres_confirmadas_vivas['contador'].sum()\n",
    "print('Mulheres confirmadas: ', int(Mulheres_confirmadas_vivas))"
   ]
  },
  {
   "cell_type": "code",
   "execution_count": 18,
   "metadata": {},
   "outputs": [
    {
     "name": "stdout",
     "output_type": "stream",
     "text": [
      "Sem informação do sexo:  19\n"
     ]
    }
   ],
   "source": [
    "sem_informacao_sexo = Microregiao_OP.loc[Microregiao_OP['SEXO'] == 'NAO INFORMADO']\n",
    "print('Sem informação do sexo: ', int(sem_informacao_sexo.contador.sum()))"
   ]
  },
  {
   "cell_type": "code",
   "execution_count": 19,
   "metadata": {},
   "outputs": [
    {
     "name": "stdout",
     "output_type": "stream",
     "text": [
      "Porcentagem homens:  71%\n"
     ]
    }
   ],
   "source": [
    "perct_por_sexo_H_vivos = Homens_confirmados_vivos/(Homens_confirmados_vivos+Mulheres_confirmadas_vivas)\n",
    "print(\"Porcentagem homens: \",\"{:.0%}\".format(perct_por_sexo_H_vivos));"
   ]
  },
  {
   "cell_type": "code",
   "execution_count": 20,
   "metadata": {},
   "outputs": [
    {
     "name": "stdout",
     "output_type": "stream",
     "text": [
      "Porcentagem mulheres:  29%\n"
     ]
    }
   ],
   "source": [
    "perct_por_sexo_M_vivos = Mulheres_confirmadas_vivas/(Homens_confirmados_vivos+Mulheres_confirmadas_vivas)\n",
    "print(\"Porcentagem mulheres: \",\"{:.0%}\".format(perct_por_sexo_M_vivos));"
   ]
  },
  {
   "cell_type": "code",
   "execution_count": 21,
   "metadata": {},
   "outputs": [
    {
     "name": "stdout",
     "output_type": "stream",
     "text": [
      "N total:  1694\n"
     ]
    }
   ],
   "source": [
    "N_vivo = Mulheres_confirmadas_vivas + Homens_confirmados_vivos\n",
    "print(\"N total: \",int(N_vivo))"
   ]
  },
  {
   "cell_type": "code",
   "execution_count": 22,
   "metadata": {},
   "outputs": [
    {
     "name": "stdout",
     "output_type": "stream",
     "text": [
      "\n"
     ]
    }
   ],
   "source": [
    "print('')"
   ]
  },
  {
   "cell_type": "markdown",
   "metadata": {},
   "source": [
    "COMORBIDADE:"
   ]
  },
  {
   "cell_type": "code",
   "execution_count": 23,
   "metadata": {},
   "outputs": [
    {
     "name": "stdout",
     "output_type": "stream",
     "text": [
      "Com comorbidade:  36\n"
     ]
    }
   ],
   "source": [
    "com_comorbidade = Microregiao_OP.loc[(Microregiao_OP['COMORBIDADE'] == 'SIM')]\n",
    "Com_comorbidade_vivos = com_comorbidade[(com_comorbidade.EVOLUCAO != 'OBITO')]\n",
    "Com_comorbidade_vivos = Com_comorbidade_vivos['contador'].sum()\n",
    "print(\"Com comorbidade: \", int(Com_comorbidade_vivos))"
   ]
  },
  {
   "cell_type": "code",
   "execution_count": 24,
   "metadata": {},
   "outputs": [
    {
     "name": "stdout",
     "output_type": "stream",
     "text": [
      "Sem comorbidade:  19\n"
     ]
    }
   ],
   "source": [
    "sem_comorbidade = Microregiao_OP.loc[(Microregiao_OP['COMORBIDADE'] == 'NAO')]\n",
    "Sem_comorbidade_vivos = sem_comorbidade[(sem_comorbidade.EVOLUCAO != 'OBITO')]\n",
    "Sem_comorbidade_vivos = Sem_comorbidade_vivos['contador'].sum() \n",
    "print (\"Sem comorbidade: \", int(Sem_comorbidade_vivos))"
   ]
  },
  {
   "cell_type": "code",
   "execution_count": 25,
   "metadata": {},
   "outputs": [
    {
     "name": "stdout",
     "output_type": "stream",
     "text": [
      "Comorbidade não informada:  1658\n"
     ]
    }
   ],
   "source": [
    "comorbidade_nao_informada = Microregiao_OP.loc[(Microregiao_OP['COMORBIDADE'] == 'NAO INFORMADO')]\n",
    "Comorbidade_nao_informada = comorbidade_nao_informada['contador'].sum()\n",
    "print(\"Comorbidade não informada: \", int(Comorbidade_nao_informada))"
   ]
  },
  {
   "cell_type": "code",
   "execution_count": 26,
   "metadata": {},
   "outputs": [
    {
     "name": "stdout",
     "output_type": "stream",
     "text": [
      "\n"
     ]
    }
   ],
   "source": [
    "print('')"
   ]
  },
  {
   "cell_type": "code",
   "execution_count": 27,
   "metadata": {},
   "outputs": [
    {
     "name": "stdout",
     "output_type": "stream",
     "text": [
      "Média de idade entre os vivos:  41\n",
      "Prevalência Micro Ouro Preto: 0.009\n"
     ]
    }
   ],
   "source": [
    "Media_idade_confirmados = Microregiao_OP.loc[(Microregiao_OP.EVOLUCAO != 'OBITO')]\n",
    "Media_idade_confirmados = Media_idade_confirmados['IDADE'].mean()\n",
    "print (\"Média de idade entre os vivos: \", round(Media_idade_confirmados))\n",
    "populacao_total = 51875+60724+74281\n",
    "print(\"Prevalência Micro Ouro Preto:\", \"{:.0}\".format(Casos_confirmados/populacao_total))"
   ]
  },
  {
   "cell_type": "code",
   "execution_count": 28,
   "metadata": {},
   "outputs": [
    {
     "name": "stdout",
     "output_type": "stream",
     "text": [
      "\n"
     ]
    }
   ],
   "source": [
    "print('')"
   ]
  },
  {
   "cell_type": "code",
   "execution_count": 29,
   "metadata": {
    "scrolled": false
   },
   "outputs": [
    {
     "data": {
      "text/html": [
       "<div>\n",
       "<style scoped>\n",
       "    .dataframe tbody tr th:only-of-type {\n",
       "        vertical-align: middle;\n",
       "    }\n",
       "\n",
       "    .dataframe tbody tr th {\n",
       "        vertical-align: top;\n",
       "    }\n",
       "\n",
       "    .dataframe thead th {\n",
       "        text-align: right;\n",
       "    }\n",
       "</style>\n",
       "<table border=\"1\" class=\"dataframe\">\n",
       "  <thead>\n",
       "    <tr style=\"text-align: right;\">\n",
       "      <th></th>\n",
       "      <th>FAIXA_ETARIA</th>\n",
       "      <th>Confirmados</th>\n",
       "    </tr>\n",
       "  </thead>\n",
       "  <tbody>\n",
       "    <tr>\n",
       "      <td>1</td>\n",
       "      <td>10 A 19 ANOS</td>\n",
       "      <td>33</td>\n",
       "    </tr>\n",
       "    <tr>\n",
       "      <td>2</td>\n",
       "      <td>20 A 29 ANOS</td>\n",
       "      <td>225</td>\n",
       "    </tr>\n",
       "    <tr>\n",
       "      <td>3</td>\n",
       "      <td>30 A 39 ANOS</td>\n",
       "      <td>452</td>\n",
       "    </tr>\n",
       "    <tr>\n",
       "      <td>4</td>\n",
       "      <td>40 A 49 ANOS</td>\n",
       "      <td>332</td>\n",
       "    </tr>\n",
       "    <tr>\n",
       "      <td>5</td>\n",
       "      <td>50 A 59 ANOS</td>\n",
       "      <td>163</td>\n",
       "    </tr>\n",
       "    <tr>\n",
       "      <td>6</td>\n",
       "      <td>&gt;= 60 ANOS</td>\n",
       "      <td>144</td>\n",
       "    </tr>\n",
       "  </tbody>\n",
       "</table>\n",
       "</div>"
      ],
      "text/plain": [
       "   FAIXA_ETARIA  Confirmados\n",
       "1  10 A 19 ANOS           33\n",
       "2  20 A 29 ANOS          225\n",
       "3  30 A 39 ANOS          452\n",
       "4  40 A 49 ANOS          332\n",
       "5  50 A 59 ANOS          163\n",
       "6    >= 60 ANOS          144"
      ]
     },
     "execution_count": 29,
     "metadata": {},
     "output_type": "execute_result"
    }
   ],
   "source": [
    "Microregiao_OP['FAIXA_ETARIA'] = Microregiao_OP['FAIXA_ETARIA'].replace(['60 A 69 ANOS', '70 A 79 ANOS', '80 A 89 ANOS', '90 OU MAIS'], '>= 60 ANOS')\n",
    "Microregiao_OP['FAIXA_ETARIA'] = Microregiao_OP['FAIXA_ETARIA'].replace(['0'], 'Nao informado')\n",
    "\n",
    "grafico_faixa_etaria = Microregiao_OP.groupby(['FAIXA_ETARIA']).contador.sum()\n",
    "grafico_faixa_etaria = pd.DataFrame({'Confirmados': grafico_faixa_etaria}).reset_index()\n",
    "grafico_faixa_etaria = (grafico_faixa_etaria.drop([0]))\n",
    "grafico_faixa_etaria"
   ]
  },
  {
   "cell_type": "code",
   "execution_count": 30,
   "metadata": {},
   "outputs": [
    {
     "name": "stdout",
     "output_type": "stream",
     "text": [
      "Porcentagem de confirmados entre 20 e 59 anos:  81%\n"
     ]
    }
   ],
   "source": [
    "denominador_20_59 = grafico_faixa_etaria['Confirmados'].sum()\n",
    "numerador_20_59 = grafico_faixa_etaria.iloc[[2,3,4,5],1].sum(axis=0)\n",
    "\n",
    "percent_entre_20_59 = (numerador_20_59/denominador_20_59)\n",
    "print(\"Porcentagem de confirmados entre 20 e 59 anos: \",\"{:.0%}\".format(percent_entre_20_59));"
   ]
  },
  {
   "cell_type": "code",
   "execution_count": 31,
   "metadata": {},
   "outputs": [
    {
     "name": "stdout",
     "output_type": "stream",
     "text": [
      "\n"
     ]
    }
   ],
   "source": [
    "print('')"
   ]
  },
  {
   "cell_type": "markdown",
   "metadata": {},
   "source": [
    "Por Raça:"
   ]
  },
  {
   "cell_type": "code",
   "execution_count": 32,
   "metadata": {},
   "outputs": [
    {
     "name": "stdout",
     "output_type": "stream",
     "text": [
      "Não informado:  1324\n"
     ]
    }
   ],
   "source": [
    "raca = Microregiao_OP.groupby(['RACA']).contador.sum()\n",
    "raca = pd.DataFrame({'Quantidade': raca}).reset_index()\n",
    "print('Não informado: ', int(raca.iloc[3,1]))\n",
    "raca = raca.drop([3])"
   ]
  },
  {
   "cell_type": "code",
   "execution_count": 33,
   "metadata": {},
   "outputs": [
    {
     "name": "stdout",
     "output_type": "stream",
     "text": [
      "\n"
     ]
    }
   ],
   "source": [
    "print('')"
   ]
  },
  {
   "cell_type": "markdown",
   "metadata": {},
   "source": [
    "2_ PERFIL EPIDEMIOLOGICO DOS OBITOS"
   ]
  },
  {
   "cell_type": "markdown",
   "metadata": {},
   "source": [
    "POR SEXO:"
   ]
  },
  {
   "cell_type": "code",
   "execution_count": 34,
   "metadata": {},
   "outputs": [
    {
     "name": "stdout",
     "output_type": "stream",
     "text": [
      "Homens mortos:  0\n"
     ]
    }
   ],
   "source": [
    "Homens_mortos = Microregiao_OP.loc[(Microregiao_OP['SEXO'] == 'MASCULINO')]\n",
    "Homens_mortos = Homens_mortos.loc[Homens_mortos['EVOLUCAO'] == 'OBITO']\n",
    "Homens_mortos = Homens_mortos['contador'].sum()\n",
    "print(\"Homens mortos: \", int(Homens_mortos))"
   ]
  },
  {
   "cell_type": "code",
   "execution_count": 35,
   "metadata": {},
   "outputs": [
    {
     "name": "stdout",
     "output_type": "stream",
     "text": [
      "Mulheres mortas:  0\n"
     ]
    }
   ],
   "source": [
    "Mulheres_mortas = Microregiao_OP.loc[(Microregiao_OP['SEXO'] == 'FEMININO')]\n",
    "Mulheres_mortas = Mulheres_mortas.loc[Mulheres_mortas['EVOLUCAO'] == 'OBITO']\n",
    "Mulheres_mortas = Mulheres_mortas['contador'].sum()\n",
    "print(\"Mulheres mortas: \", int(Mulheres_mortas))"
   ]
  },
  {
   "cell_type": "code",
   "execution_count": 36,
   "metadata": {},
   "outputs": [
    {
     "name": "stdout",
     "output_type": "stream",
     "text": [
      "Procentagem de homens mortos:  nan%\n"
     ]
    }
   ],
   "source": [
    "perct_por_sexo_H_mortos = Homens_mortos/(Homens_mortos+Mulheres_mortas)\n",
    "print(\"Procentagem de homens mortos: \",\"{:.0%}\".format(perct_por_sexo_H_mortos));"
   ]
  },
  {
   "cell_type": "code",
   "execution_count": 37,
   "metadata": {},
   "outputs": [
    {
     "name": "stdout",
     "output_type": "stream",
     "text": [
      "Porcentagem de mulheres mortas:  nan%\n"
     ]
    }
   ],
   "source": [
    "perct_por_sexo_M_mortos = Mulheres_mortas/(Homens_mortos+Mulheres_mortas)\n",
    "print(\"Porcentagem de mulheres mortas: \",\"{:.0%}\".format(perct_por_sexo_M_mortos));"
   ]
  },
  {
   "cell_type": "code",
   "execution_count": 32,
   "metadata": {},
   "outputs": [
    {
     "name": "stdout",
     "output_type": "stream",
     "text": [
      "N total:  16\n"
     ]
    }
   ],
   "source": [
    "print(\"N total: \",int(Homens_mortos+Mulheres_mortas))"
   ]
  },
  {
   "cell_type": "code",
   "execution_count": 33,
   "metadata": {},
   "outputs": [
    {
     "name": "stdout",
     "output_type": "stream",
     "text": [
      "Letalidade:  1.00%\n"
     ]
    }
   ],
   "source": [
    "Letalidade = obitos_OP/Casos_confirmados\n",
    "print(\"Letalidade: \",\"{:.2%}\".format(Letalidade));"
   ]
  },
  {
   "cell_type": "code",
   "execution_count": 34,
   "metadata": {},
   "outputs": [
    {
     "name": "stdout",
     "output_type": "stream",
     "text": [
      "Media de idade dos óbitos:  61\n"
     ]
    }
   ],
   "source": [
    "Media_idade_obitos = obitos['IDADE'].mean()\n",
    "print(\"Media de idade dos óbitos: \",round(Media_idade_obitos))"
   ]
  },
  {
   "cell_type": "code",
   "execution_count": 35,
   "metadata": {},
   "outputs": [
    {
     "name": "stdout",
     "output_type": "stream",
     "text": [
      "\n"
     ]
    }
   ],
   "source": [
    "print('')"
   ]
  },
  {
   "cell_type": "markdown",
   "metadata": {},
   "source": [
    "Tabela Obitos por idade:"
   ]
  },
  {
   "cell_type": "code",
   "execution_count": 36,
   "metadata": {},
   "outputs": [
    {
     "data": {
      "text/html": [
       "<div>\n",
       "<style scoped>\n",
       "    .dataframe tbody tr th:only-of-type {\n",
       "        vertical-align: middle;\n",
       "    }\n",
       "\n",
       "    .dataframe tbody tr th {\n",
       "        vertical-align: top;\n",
       "    }\n",
       "\n",
       "    .dataframe thead th {\n",
       "        text-align: right;\n",
       "    }\n",
       "</style>\n",
       "<table border=\"1\" class=\"dataframe\">\n",
       "  <thead>\n",
       "    <tr style=\"text-align: right;\">\n",
       "      <th></th>\n",
       "      <th>FAIXA_ETARIA</th>\n",
       "      <th>Obitos</th>\n",
       "    </tr>\n",
       "  </thead>\n",
       "  <tbody>\n",
       "    <tr>\n",
       "      <td>0</td>\n",
       "      <td>30 A 39 ANOS</td>\n",
       "      <td>2</td>\n",
       "    </tr>\n",
       "    <tr>\n",
       "      <td>1</td>\n",
       "      <td>40 A 49 ANOS</td>\n",
       "      <td>4</td>\n",
       "    </tr>\n",
       "    <tr>\n",
       "      <td>2</td>\n",
       "      <td>50 A 59 ANOS</td>\n",
       "      <td>1</td>\n",
       "    </tr>\n",
       "    <tr>\n",
       "      <td>3</td>\n",
       "      <td>60 A 69 ANOS</td>\n",
       "      <td>3</td>\n",
       "    </tr>\n",
       "    <tr>\n",
       "      <td>4</td>\n",
       "      <td>70 A 79 ANOS</td>\n",
       "      <td>3</td>\n",
       "    </tr>\n",
       "    <tr>\n",
       "      <td>5</td>\n",
       "      <td>80 A 89 ANOS</td>\n",
       "      <td>2</td>\n",
       "    </tr>\n",
       "    <tr>\n",
       "      <td>6</td>\n",
       "      <td>90 OU MAIS</td>\n",
       "      <td>1</td>\n",
       "    </tr>\n",
       "  </tbody>\n",
       "</table>\n",
       "</div>"
      ],
      "text/plain": [
       "   FAIXA_ETARIA  Obitos\n",
       "0  30 A 39 ANOS       2\n",
       "1  40 A 49 ANOS       4\n",
       "2  50 A 59 ANOS       1\n",
       "3  60 A 69 ANOS       3\n",
       "4  70 A 79 ANOS       3\n",
       "5  80 A 89 ANOS       2\n",
       "6    90 OU MAIS       1"
      ]
     },
     "execution_count": 36,
     "metadata": {},
     "output_type": "execute_result"
    }
   ],
   "source": [
    "grafico_faixa_etaria_mortos = obitos.groupby(['FAIXA_ETARIA']).contador.sum()\n",
    "grafico_faixa_etaria_mortos = pd.DataFrame({'Obitos': grafico_faixa_etaria_mortos}).reset_index()\n",
    "grafico_faixa_etaria_mortos"
   ]
  },
  {
   "cell_type": "code",
   "execution_count": 37,
   "metadata": {},
   "outputs": [
    {
     "name": "stdout",
     "output_type": "stream",
     "text": [
      "Obitos acima de 60 anos:  56%\n"
     ]
    }
   ],
   "source": [
    "obitos60 = grafico_faixa_etaria_mortos.iloc[[3,4,5,6],1].sum(axis=0)\n",
    "percent_obitos_60 = obitos60/obitos_OP\n",
    "print(\"Obitos acima de 60 anos: \",\"{:.0%}\".format(percent_obitos_60))"
   ]
  },
  {
   "cell_type": "code",
   "execution_count": 38,
   "metadata": {},
   "outputs": [
    {
     "name": "stdout",
     "output_type": "stream",
     "text": [
      "\n"
     ]
    }
   ],
   "source": [
    "print('')"
   ]
  },
  {
   "cell_type": "markdown",
   "metadata": {},
   "source": [
    "RACA Obitos:"
   ]
  },
  {
   "cell_type": "code",
   "execution_count": 55,
   "metadata": {},
   "outputs": [
    {
     "name": "stdout",
     "output_type": "stream",
     "text": [
      "Não informado:  2\n"
     ]
    },
    {
     "data": {
      "text/html": [
       "<div>\n",
       "<style scoped>\n",
       "    .dataframe tbody tr th:only-of-type {\n",
       "        vertical-align: middle;\n",
       "    }\n",
       "\n",
       "    .dataframe tbody tr th {\n",
       "        vertical-align: top;\n",
       "    }\n",
       "\n",
       "    .dataframe thead th {\n",
       "        text-align: right;\n",
       "    }\n",
       "</style>\n",
       "<table border=\"1\" class=\"dataframe\">\n",
       "  <thead>\n",
       "    <tr style=\"text-align: right;\">\n",
       "      <th></th>\n",
       "      <th>RACA</th>\n",
       "      <th>Quantidade</th>\n",
       "    </tr>\n",
       "  </thead>\n",
       "  <tbody>\n",
       "    <tr>\n",
       "      <td>0</td>\n",
       "      <td>BRANCA</td>\n",
       "      <td>4</td>\n",
       "    </tr>\n",
       "    <tr>\n",
       "      <td>2</td>\n",
       "      <td>PARDA</td>\n",
       "      <td>8</td>\n",
       "    </tr>\n",
       "    <tr>\n",
       "      <td>3</td>\n",
       "      <td>PRETA</td>\n",
       "      <td>2</td>\n",
       "    </tr>\n",
       "  </tbody>\n",
       "</table>\n",
       "</div>"
      ],
      "text/plain": [
       "     RACA  Quantidade\n",
       "0  BRANCA           4\n",
       "2   PARDA           8\n",
       "3   PRETA           2"
      ]
     },
     "execution_count": 55,
     "metadata": {},
     "output_type": "execute_result"
    }
   ],
   "source": [
    "raca_obitos = Microregiao_OP.loc[Microregiao_OP['EVOLUCAO'] == 'OBITO']\n",
    "raca_obitos = raca_obitos.groupby(['RACA']).contador.sum()\n",
    "raca_obitos = pd.DataFrame({'Quantidade': raca_obitos}).reset_index()\n",
    "print('Não informado: ', raca_obitos.iloc[1,1])\n",
    "raca_obitos = raca_obitos.drop([1])\n",
    "raca_obitos"
   ]
  },
  {
   "cell_type": "markdown",
   "metadata": {},
   "source": [
    "3_ DADOS HOSPITALARES:"
   ]
  },
  {
   "cell_type": "code",
   "execution_count": 40,
   "metadata": {},
   "outputs": [],
   "source": [
    "#Microregiao_OP['INTERNACAO'].fillna('NAO', inplace = True)"
   ]
  },
  {
   "cell_type": "code",
   "execution_count": 41,
   "metadata": {},
   "outputs": [
    {
     "name": "stdout",
     "output_type": "stream",
     "text": [
      "Internados:  31\n"
     ]
    }
   ],
   "source": [
    "internados = Microregiao_OP.loc[Microregiao_OP['INTERNACAO'] == 'SIM']\n",
    "internados = internados['contador'].sum()\n",
    "print(\"Internados: \", int(internados))"
   ]
  },
  {
   "cell_type": "code",
   "execution_count": 42,
   "metadata": {},
   "outputs": [
    {
     "name": "stdout",
     "output_type": "stream",
     "text": [
      "Em isolamento_domiciliar:  0\n"
     ]
    }
   ],
   "source": [
    "isolamento_domiciliar = Microregiao_OP.loc[Microregiao_OP['EVOLUCAO'] == 'EM TRATAMENTO DOMICILIAR']\n",
    "print(\"Em isolamento_domiciliar: \", isolamento_domiciliar.contador.sum())"
   ]
  },
  {
   "cell_type": "code",
   "execution_count": 43,
   "metadata": {},
   "outputs": [
    {
     "name": "stdout",
     "output_type": "stream",
     "text": [
      "\n"
     ]
    }
   ],
   "source": [
    "print('')"
   ]
  },
  {
   "cell_type": "markdown",
   "metadata": {},
   "source": [
    "4_ PAINEL DA SRAG"
   ]
  },
  {
   "cell_type": "code",
   "execution_count": 44,
   "metadata": {},
   "outputs": [
    {
     "ename": "FileNotFoundError",
     "evalue": "[Errno 2] File b'SRAG_data_19.csv' does not exist: b'SRAG_data_19.csv'",
     "output_type": "error",
     "traceback": [
      "\u001b[1;31m---------------------------------------------------------------------------\u001b[0m",
      "\u001b[1;31mFileNotFoundError\u001b[0m                         Traceback (most recent call last)",
      "\u001b[1;32m<ipython-input-44-0ea3dd2bcf38>\u001b[0m in \u001b[0;36m<module>\u001b[1;34m\u001b[0m\n\u001b[0;32m      1\u001b[0m \u001b[1;31m#importando os bancos de dados sobre SRAG.\u001b[0m\u001b[1;33m\u001b[0m\u001b[1;33m\u001b[0m\u001b[1;33m\u001b[0m\u001b[0m\n\u001b[0;32m      2\u001b[0m \u001b[0mSRAG_base_20\u001b[0m \u001b[1;33m=\u001b[0m \u001b[0mpd\u001b[0m\u001b[1;33m.\u001b[0m\u001b[0mread_csv\u001b[0m\u001b[1;33m(\u001b[0m\u001b[1;34m'SRAG_data_20.csv'\u001b[0m\u001b[1;33m,\u001b[0m\u001b[0msep\u001b[0m\u001b[1;33m=\u001b[0m\u001b[1;34m';'\u001b[0m\u001b[1;33m,\u001b[0m \u001b[0mencoding\u001b[0m\u001b[1;33m=\u001b[0m\u001b[1;34m'latin-1'\u001b[0m\u001b[1;33m)\u001b[0m\u001b[1;33m\u001b[0m\u001b[1;33m\u001b[0m\u001b[0m\n\u001b[1;32m----> 3\u001b[1;33m \u001b[0mSRAG_base_19\u001b[0m \u001b[1;33m=\u001b[0m \u001b[0mpd\u001b[0m\u001b[1;33m.\u001b[0m\u001b[0mread_csv\u001b[0m\u001b[1;33m(\u001b[0m\u001b[1;34m'SRAG_data_19.csv'\u001b[0m\u001b[1;33m,\u001b[0m\u001b[0msep\u001b[0m\u001b[1;33m=\u001b[0m\u001b[1;34m';'\u001b[0m\u001b[1;33m,\u001b[0m \u001b[0mencoding\u001b[0m\u001b[1;33m=\u001b[0m\u001b[1;34m'latin-1'\u001b[0m\u001b[1;33m)\u001b[0m\u001b[1;33m\u001b[0m\u001b[1;33m\u001b[0m\u001b[0m\n\u001b[0m",
      "\u001b[1;32m~\\Anaconda3\\lib\\site-packages\\pandas\\io\\parsers.py\u001b[0m in \u001b[0;36mparser_f\u001b[1;34m(filepath_or_buffer, sep, delimiter, header, names, index_col, usecols, squeeze, prefix, mangle_dupe_cols, dtype, engine, converters, true_values, false_values, skipinitialspace, skiprows, skipfooter, nrows, na_values, keep_default_na, na_filter, verbose, skip_blank_lines, parse_dates, infer_datetime_format, keep_date_col, date_parser, dayfirst, cache_dates, iterator, chunksize, compression, thousands, decimal, lineterminator, quotechar, quoting, doublequote, escapechar, comment, encoding, dialect, error_bad_lines, warn_bad_lines, delim_whitespace, low_memory, memory_map, float_precision)\u001b[0m\n\u001b[0;32m    683\u001b[0m         )\n\u001b[0;32m    684\u001b[0m \u001b[1;33m\u001b[0m\u001b[0m\n\u001b[1;32m--> 685\u001b[1;33m         \u001b[1;32mreturn\u001b[0m \u001b[0m_read\u001b[0m\u001b[1;33m(\u001b[0m\u001b[0mfilepath_or_buffer\u001b[0m\u001b[1;33m,\u001b[0m \u001b[0mkwds\u001b[0m\u001b[1;33m)\u001b[0m\u001b[1;33m\u001b[0m\u001b[1;33m\u001b[0m\u001b[0m\n\u001b[0m\u001b[0;32m    686\u001b[0m \u001b[1;33m\u001b[0m\u001b[0m\n\u001b[0;32m    687\u001b[0m     \u001b[0mparser_f\u001b[0m\u001b[1;33m.\u001b[0m\u001b[0m__name__\u001b[0m \u001b[1;33m=\u001b[0m \u001b[0mname\u001b[0m\u001b[1;33m\u001b[0m\u001b[1;33m\u001b[0m\u001b[0m\n",
      "\u001b[1;32m~\\Anaconda3\\lib\\site-packages\\pandas\\io\\parsers.py\u001b[0m in \u001b[0;36m_read\u001b[1;34m(filepath_or_buffer, kwds)\u001b[0m\n\u001b[0;32m    455\u001b[0m \u001b[1;33m\u001b[0m\u001b[0m\n\u001b[0;32m    456\u001b[0m     \u001b[1;31m# Create the parser.\u001b[0m\u001b[1;33m\u001b[0m\u001b[1;33m\u001b[0m\u001b[1;33m\u001b[0m\u001b[0m\n\u001b[1;32m--> 457\u001b[1;33m     \u001b[0mparser\u001b[0m \u001b[1;33m=\u001b[0m \u001b[0mTextFileReader\u001b[0m\u001b[1;33m(\u001b[0m\u001b[0mfp_or_buf\u001b[0m\u001b[1;33m,\u001b[0m \u001b[1;33m**\u001b[0m\u001b[0mkwds\u001b[0m\u001b[1;33m)\u001b[0m\u001b[1;33m\u001b[0m\u001b[1;33m\u001b[0m\u001b[0m\n\u001b[0m\u001b[0;32m    458\u001b[0m \u001b[1;33m\u001b[0m\u001b[0m\n\u001b[0;32m    459\u001b[0m     \u001b[1;32mif\u001b[0m \u001b[0mchunksize\u001b[0m \u001b[1;32mor\u001b[0m \u001b[0miterator\u001b[0m\u001b[1;33m:\u001b[0m\u001b[1;33m\u001b[0m\u001b[1;33m\u001b[0m\u001b[0m\n",
      "\u001b[1;32m~\\Anaconda3\\lib\\site-packages\\pandas\\io\\parsers.py\u001b[0m in \u001b[0;36m__init__\u001b[1;34m(self, f, engine, **kwds)\u001b[0m\n\u001b[0;32m    893\u001b[0m             \u001b[0mself\u001b[0m\u001b[1;33m.\u001b[0m\u001b[0moptions\u001b[0m\u001b[1;33m[\u001b[0m\u001b[1;34m\"has_index_names\"\u001b[0m\u001b[1;33m]\u001b[0m \u001b[1;33m=\u001b[0m \u001b[0mkwds\u001b[0m\u001b[1;33m[\u001b[0m\u001b[1;34m\"has_index_names\"\u001b[0m\u001b[1;33m]\u001b[0m\u001b[1;33m\u001b[0m\u001b[1;33m\u001b[0m\u001b[0m\n\u001b[0;32m    894\u001b[0m \u001b[1;33m\u001b[0m\u001b[0m\n\u001b[1;32m--> 895\u001b[1;33m         \u001b[0mself\u001b[0m\u001b[1;33m.\u001b[0m\u001b[0m_make_engine\u001b[0m\u001b[1;33m(\u001b[0m\u001b[0mself\u001b[0m\u001b[1;33m.\u001b[0m\u001b[0mengine\u001b[0m\u001b[1;33m)\u001b[0m\u001b[1;33m\u001b[0m\u001b[1;33m\u001b[0m\u001b[0m\n\u001b[0m\u001b[0;32m    896\u001b[0m \u001b[1;33m\u001b[0m\u001b[0m\n\u001b[0;32m    897\u001b[0m     \u001b[1;32mdef\u001b[0m \u001b[0mclose\u001b[0m\u001b[1;33m(\u001b[0m\u001b[0mself\u001b[0m\u001b[1;33m)\u001b[0m\u001b[1;33m:\u001b[0m\u001b[1;33m\u001b[0m\u001b[1;33m\u001b[0m\u001b[0m\n",
      "\u001b[1;32m~\\Anaconda3\\lib\\site-packages\\pandas\\io\\parsers.py\u001b[0m in \u001b[0;36m_make_engine\u001b[1;34m(self, engine)\u001b[0m\n\u001b[0;32m   1133\u001b[0m     \u001b[1;32mdef\u001b[0m \u001b[0m_make_engine\u001b[0m\u001b[1;33m(\u001b[0m\u001b[0mself\u001b[0m\u001b[1;33m,\u001b[0m \u001b[0mengine\u001b[0m\u001b[1;33m=\u001b[0m\u001b[1;34m\"c\"\u001b[0m\u001b[1;33m)\u001b[0m\u001b[1;33m:\u001b[0m\u001b[1;33m\u001b[0m\u001b[1;33m\u001b[0m\u001b[0m\n\u001b[0;32m   1134\u001b[0m         \u001b[1;32mif\u001b[0m \u001b[0mengine\u001b[0m \u001b[1;33m==\u001b[0m \u001b[1;34m\"c\"\u001b[0m\u001b[1;33m:\u001b[0m\u001b[1;33m\u001b[0m\u001b[1;33m\u001b[0m\u001b[0m\n\u001b[1;32m-> 1135\u001b[1;33m             \u001b[0mself\u001b[0m\u001b[1;33m.\u001b[0m\u001b[0m_engine\u001b[0m \u001b[1;33m=\u001b[0m \u001b[0mCParserWrapper\u001b[0m\u001b[1;33m(\u001b[0m\u001b[0mself\u001b[0m\u001b[1;33m.\u001b[0m\u001b[0mf\u001b[0m\u001b[1;33m,\u001b[0m \u001b[1;33m**\u001b[0m\u001b[0mself\u001b[0m\u001b[1;33m.\u001b[0m\u001b[0moptions\u001b[0m\u001b[1;33m)\u001b[0m\u001b[1;33m\u001b[0m\u001b[1;33m\u001b[0m\u001b[0m\n\u001b[0m\u001b[0;32m   1136\u001b[0m         \u001b[1;32melse\u001b[0m\u001b[1;33m:\u001b[0m\u001b[1;33m\u001b[0m\u001b[1;33m\u001b[0m\u001b[0m\n\u001b[0;32m   1137\u001b[0m             \u001b[1;32mif\u001b[0m \u001b[0mengine\u001b[0m \u001b[1;33m==\u001b[0m \u001b[1;34m\"python\"\u001b[0m\u001b[1;33m:\u001b[0m\u001b[1;33m\u001b[0m\u001b[1;33m\u001b[0m\u001b[0m\n",
      "\u001b[1;32m~\\Anaconda3\\lib\\site-packages\\pandas\\io\\parsers.py\u001b[0m in \u001b[0;36m__init__\u001b[1;34m(self, src, **kwds)\u001b[0m\n\u001b[0;32m   1915\u001b[0m         \u001b[0mkwds\u001b[0m\u001b[1;33m[\u001b[0m\u001b[1;34m\"usecols\"\u001b[0m\u001b[1;33m]\u001b[0m \u001b[1;33m=\u001b[0m \u001b[0mself\u001b[0m\u001b[1;33m.\u001b[0m\u001b[0musecols\u001b[0m\u001b[1;33m\u001b[0m\u001b[1;33m\u001b[0m\u001b[0m\n\u001b[0;32m   1916\u001b[0m \u001b[1;33m\u001b[0m\u001b[0m\n\u001b[1;32m-> 1917\u001b[1;33m         \u001b[0mself\u001b[0m\u001b[1;33m.\u001b[0m\u001b[0m_reader\u001b[0m \u001b[1;33m=\u001b[0m \u001b[0mparsers\u001b[0m\u001b[1;33m.\u001b[0m\u001b[0mTextReader\u001b[0m\u001b[1;33m(\u001b[0m\u001b[0msrc\u001b[0m\u001b[1;33m,\u001b[0m \u001b[1;33m**\u001b[0m\u001b[0mkwds\u001b[0m\u001b[1;33m)\u001b[0m\u001b[1;33m\u001b[0m\u001b[1;33m\u001b[0m\u001b[0m\n\u001b[0m\u001b[0;32m   1918\u001b[0m         \u001b[0mself\u001b[0m\u001b[1;33m.\u001b[0m\u001b[0munnamed_cols\u001b[0m \u001b[1;33m=\u001b[0m \u001b[0mself\u001b[0m\u001b[1;33m.\u001b[0m\u001b[0m_reader\u001b[0m\u001b[1;33m.\u001b[0m\u001b[0munnamed_cols\u001b[0m\u001b[1;33m\u001b[0m\u001b[1;33m\u001b[0m\u001b[0m\n\u001b[0;32m   1919\u001b[0m \u001b[1;33m\u001b[0m\u001b[0m\n",
      "\u001b[1;32mpandas\\_libs\\parsers.pyx\u001b[0m in \u001b[0;36mpandas._libs.parsers.TextReader.__cinit__\u001b[1;34m()\u001b[0m\n",
      "\u001b[1;32mpandas\\_libs\\parsers.pyx\u001b[0m in \u001b[0;36mpandas._libs.parsers.TextReader._setup_parser_source\u001b[1;34m()\u001b[0m\n",
      "\u001b[1;31mFileNotFoundError\u001b[0m: [Errno 2] File b'SRAG_data_19.csv' does not exist: b'SRAG_data_19.csv'"
     ]
    }
   ],
   "source": [
    "#importando os bancos de dados sobre SRAG.\n",
    "SRAG_base_20 = pd.read_csv('SRAG_data_20.csv',sep=';', encoding='latin-1')\n",
    "SRAG_base_19 = pd.read_csv('SRAG_data_19.csv',sep=';', encoding='latin-1')"
   ]
  },
  {
   "cell_type": "code",
   "execution_count": null,
   "metadata": {},
   "outputs": [],
   "source": [
    "#limpando e organizando os dados sobre SRAG em 2020\n",
    "SRAG_base_20['contador'] = 1\n",
    "a = range(0,29)\n",
    "SRAG_OP_20 = SRAG_base_20.loc[SRAG_base_20['ID_MUNICIP'] == 'OURO PRETO']\n",
    "SRAG_M_20 = SRAG_base_20.loc[SRAG_base_20['ID_MUNICIP'] == 'MARIANA']\n",
    "SRAG_It_20 = SRAG_base_20.loc[SRAG_base_20['ID_MUNICIP'] == 'ITABIRITO']\n",
    "SRAG_Micro_OP_20 = pd.concat([SRAG_It_20,SRAG_M_20,SRAG_OP_20])\n",
    "SRAG_Micro_OP_20\n",
    "X_20 = SRAG_Micro_OP_20.groupby(['SEM_PRI']).contador.sum()\n",
    "X_20 = pd.DataFrame({\"Hospitalizados\": X_20}).reset_index()\n",
    "df = pd.DataFrame({\"SEM_PRI\":a})\n",
    "X_20 = pd.merge(X_20, df, how = 'right', on='SEM_PRI')\n",
    "X_20 = X_20.fillna('0')\n",
    "X_20 = X_20.set_index('SEM_PRI')\n",
    "X_20 = X_20.sort_index()\n",
    "X_20['index'] = X_20.index\n",
    "X_20['Hospitalizados'] = X_20['Hospitalizados'].astype('int')"
   ]
  },
  {
   "cell_type": "code",
   "execution_count": null,
   "metadata": {
    "scrolled": true
   },
   "outputs": [],
   "source": [
    "#limpando e organizando os dados sobre SRAG 2019\n",
    "SRAG_base_19['contador'] = 1\n",
    "SRAG_OP_19 = SRAG_base_19.loc[SRAG_base_19['ID_MUNICIP'] == 'OURO PRETO']\n",
    "SRAG_M_19 = SRAG_base_19.loc[SRAG_base_19['ID_MUNICIP'] == 'MARIANA']\n",
    "SRAG_It_19 = SRAG_base_19.loc[SRAG_base_19['ID_MUNICIP'] == 'ITABIRITO']\n",
    "SRAG_Micro_OP_19 = pd.concat([SRAG_It_19,SRAG_M_19,SRAG_OP_19])\n",
    "SRAG_Micro_OP_19\n",
    "\n",
    "X_19 = SRAG_Micro_OP_19.groupby(['SEM_PRI']).contador.sum()\n",
    "X_19 = pd.DataFrame({\"Hospitalizados\": X_19}).reset_index()\n",
    "df = pd.DataFrame({\"SEM_PRI\":a})\n",
    "X_19 = pd.merge(X_19, df, how = 'right', on='SEM_PRI')\n",
    "X_19 = X_19.fillna('0')\n",
    "X_19 = X_19.set_index('SEM_PRI')\n",
    "X_19 = X_19.sort_index()\n",
    "X_19['index'] = X_19.index\n",
    "X_19['Hospitalizados'] = X_19['Hospitalizados'].astype('int')"
   ]
  },
  {
   "cell_type": "code",
   "execution_count": null,
   "metadata": {},
   "outputs": [],
   "source": [
    "print(\"2020 N = \", SRAG_Micro_OP_20.contador.sum())\n",
    "print(\"2019 N = \", SRAG_Micro_OP_19.contador.sum())"
   ]
  },
  {
   "cell_type": "markdown",
   "metadata": {},
   "source": [
    "5_ DISTRIBUIÇÃO DOS CASOS"
   ]
  },
  {
   "cell_type": "code",
   "execution_count": 45,
   "metadata": {},
   "outputs": [
    {
     "name": "stdout",
     "output_type": "stream",
     "text": [
      "Casos sem obito: 1584\n"
     ]
    }
   ],
   "source": [
    "confirmados_sem_obito = Microregiao_OP.loc[(Microregiao_OP['EVOLUCAO'] != 'OBITO')]\n",
    "confirmados_sem_obito = confirmados_sem_obito['contador'].sum()\n",
    "print(\"Casos sem obito:\", int(confirmados_sem_obito))"
   ]
  },
  {
   "cell_type": "code",
   "execution_count": 46,
   "metadata": {},
   "outputs": [
    {
     "name": "stdout",
     "output_type": "stream",
     "text": [
      "Obitos:  16\n"
     ]
    }
   ],
   "source": [
    "print(\"Obitos: \",int(obitos['contador'].sum()))"
   ]
  },
  {
   "cell_type": "code",
   "execution_count": 47,
   "metadata": {},
   "outputs": [
    {
     "name": "stdout",
     "output_type": "stream",
     "text": [
      "Casos confirmados totais:  1600\n"
     ]
    }
   ],
   "source": [
    "print(\"Casos confirmados totais: \",int(Casos_confirmados))"
   ]
  },
  {
   "cell_type": "code",
   "execution_count": 48,
   "metadata": {},
   "outputs": [
    {
     "name": "stdout",
     "output_type": "stream",
     "text": [
      "\n"
     ]
    }
   ],
   "source": [
    "print('')"
   ]
  },
  {
   "cell_type": "code",
   "execution_count": 49,
   "metadata": {},
   "outputs": [],
   "source": [
    "#brasil = pd.read_excel('HIST_PAINEL_COVIDBR_17jul2020.xlsx',sep=';', encoding='latin-1')\n",
    "#pop_OP = brasil.loc[brasil['municipio'] == 'Ouro Preto']\n",
    "#pop_Mariana = brasil.loc[brasil['municipio'] == 'Mariana']\n",
    "#pop_Itabirito = brasil.loc[brasil['municipio'] == 'Itabirito']\n",
    "#\n",
    "#pdList = [pop_OP, pop_Mariana, pop_Itabirito]\n",
    "#pop_cidade = pd.concat(pdList)\n",
    "#pop_cidade['populacaoTCU2019'] = pop_cidade['populacaoTCU2019'].astype('int')\n",
    "#pop_cidade = pop_cidade.groupby(['municipio']).mean()['populacaoTCU2019']\n",
    "#pop_cidade.loc['NÃO INFORMADO'] = '-'\n",
    "#pop_cidade = pd.DataFrame({'População': pop_cidade}).reset_index\n",
    "#pop_total=51875+60724+74281"
   ]
  },
  {
   "cell_type": "code",
   "execution_count": 50,
   "metadata": {},
   "outputs": [],
   "source": [
    "#lista_confirmados"
   ]
  },
  {
   "cell_type": "code",
   "execution_count": 51,
   "metadata": {},
   "outputs": [
    {
     "data": {
      "text/html": [
       "<div>\n",
       "<style scoped>\n",
       "    .dataframe tbody tr th:only-of-type {\n",
       "        vertical-align: middle;\n",
       "    }\n",
       "\n",
       "    .dataframe tbody tr th {\n",
       "        vertical-align: top;\n",
       "    }\n",
       "\n",
       "    .dataframe thead th {\n",
       "        text-align: right;\n",
       "    }\n",
       "</style>\n",
       "<table border=\"1\" class=\"dataframe\">\n",
       "  <thead>\n",
       "    <tr style=\"text-align: right;\">\n",
       "      <th></th>\n",
       "      <th>MUNICIPIO_RESIDENCIA</th>\n",
       "      <th>Total de confirmados</th>\n",
       "      <th>Total de obitos</th>\n",
       "      <th>Prevalencia</th>\n",
       "      <th>Taxa de mortalidade</th>\n",
       "      <th>Letalidade</th>\n",
       "    </tr>\n",
       "  </thead>\n",
       "  <tbody>\n",
       "    <tr>\n",
       "      <td>0</td>\n",
       "      <td>OURO PRETO</td>\n",
       "      <td>347</td>\n",
       "      <td>5</td>\n",
       "      <td>0.0047</td>\n",
       "      <td>0.00007</td>\n",
       "      <td>0.014</td>\n",
       "    </tr>\n",
       "    <tr>\n",
       "      <td>1</td>\n",
       "      <td>MARIANA</td>\n",
       "      <td>631</td>\n",
       "      <td>10</td>\n",
       "      <td>0.0104</td>\n",
       "      <td>0.00016</td>\n",
       "      <td>0.016</td>\n",
       "    </tr>\n",
       "    <tr>\n",
       "      <td>2</td>\n",
       "      <td>ITABIRITO</td>\n",
       "      <td>622</td>\n",
       "      <td>1</td>\n",
       "      <td>0.0120</td>\n",
       "      <td>0.00002</td>\n",
       "      <td>0.002</td>\n",
       "    </tr>\n",
       "  </tbody>\n",
       "</table>\n",
       "</div>"
      ],
      "text/plain": [
       "  MUNICIPIO_RESIDENCIA  Total de confirmados  Total de obitos  Prevalencia  \\\n",
       "0           OURO PRETO                   347                5       0.0047   \n",
       "1              MARIANA                   631               10       0.0104   \n",
       "2            ITABIRITO                   622                1       0.0120   \n",
       "\n",
       "   Taxa de mortalidade  Letalidade  \n",
       "0              0.00007       0.014  \n",
       "1              0.00016       0.016  \n",
       "2              0.00002       0.002  "
      ]
     },
     "execution_count": 51,
     "metadata": {},
     "output_type": "execute_result"
    }
   ],
   "source": [
    "#pd.set_option('display.max_rows', None)\n",
    "lista_confirmados = Microregiao_OP.groupby(['MUNICIPIO_RESIDENCIA']).contador.sum()\n",
    "lista_confirmados = pd.DataFrame({\"Total de confirmados\": lista_confirmados}).reset_index()\n",
    "\n",
    "obitos_OP = Microregiao_OP.loc[Microregiao_OP['EVOLUCAO'] == 'OBITO']\n",
    "obitos_OP = obitos_OP.groupby(['MUNICIPIO_RESIDENCIA']).contador.sum()\n",
    "obitos_OP = pd.DataFrame({'Total de obitos': obitos_OP}).reset_index()\n",
    "\n",
    "tabela2 = lista_confirmados.join(obitos_OP.set_index('MUNICIPIO_RESIDENCIA'), on = 'MUNICIPIO_RESIDENCIA')\n",
    "tabela2 = tabela2.assign(Populaçao=[51875,60724,74281])\n",
    "tabela2['Prevalencia'] = round((tabela2['Total de confirmados']/tabela2['Populaçao']),4)\n",
    "tabela2['Taxa de mortalidade'] = round((tabela2['Total de obitos']/tabela2['Populaçao']),5)\n",
    "tabela2['Letalidade'] =  round((tabela2['Total de obitos']/tabela2['Total de confirmados']),3)\n",
    "#tabela2['Prevalencia'] = tabela2['Prevalencia'].replace(['inf'],'NaN')\n",
    "tabela2 = tabela2.reindex([2,1,0])\n",
    "tabela2 = tabela2.drop(['Populaçao'], axis=1)\n",
    "tabela2 = tabela2.reset_index()\n",
    "tabela2 = tabela2.drop(['index'], axis=1)\n",
    "tabela2"
   ]
  },
  {
   "cell_type": "markdown",
   "metadata": {},
   "source": [
    "Prevalência Micro Ouro Preto:"
   ]
  },
  {
   "cell_type": "code",
   "execution_count": 52,
   "metadata": {
    "scrolled": true
   },
   "outputs": [
    {
     "name": "stdout",
     "output_type": "stream",
     "text": [
      "OURO PRETO\n",
      "MARIANA\n",
      "ITABIRITO\n"
     ]
    }
   ],
   "source": [
    "print(*list(tabela2['MUNICIPIO_RESIDENCIA']), sep= '\\n')"
   ]
  },
  {
   "cell_type": "code",
   "execution_count": 53,
   "metadata": {},
   "outputs": [
    {
     "name": "stdout",
     "output_type": "stream",
     "text": [
      " \n"
     ]
    }
   ],
   "source": [
    "print(' ')"
   ]
  },
  {
   "cell_type": "markdown",
   "metadata": {},
   "source": [
    "Numero de confirmados por cidade:"
   ]
  },
  {
   "cell_type": "code",
   "execution_count": 10,
   "metadata": {},
   "outputs": [
    {
     "name": "stdout",
     "output_type": "stream",
     "text": [
      "319\n",
      "581\n",
      "561\n"
     ]
    }
   ],
   "source": [
    "print(*list(tabela2['Total de confirmados']), sep='\\n')"
   ]
  },
  {
   "cell_type": "code",
   "execution_count": 64,
   "metadata": {},
   "outputs": [
    {
     "name": "stdout",
     "output_type": "stream",
     "text": [
      " \n"
     ]
    }
   ],
   "source": [
    "print(' ')"
   ]
  },
  {
   "cell_type": "markdown",
   "metadata": {},
   "source": [
    "Óbitos:"
   ]
  },
  {
   "cell_type": "code",
   "execution_count": 11,
   "metadata": {},
   "outputs": [
    {
     "name": "stdout",
     "output_type": "stream",
     "text": [
      "5\n",
      "10\n",
      "1\n"
     ]
    }
   ],
   "source": [
    "print(*list(tabela2['Total de obitos']), sep='\\n')"
   ]
  },
  {
   "cell_type": "markdown",
   "metadata": {},
   "source": [
    "Prevalência:"
   ]
  },
  {
   "cell_type": "code",
   "execution_count": 13,
   "metadata": {},
   "outputs": [
    {
     "name": "stdout",
     "output_type": "stream",
     "text": [
      "0.0043\n",
      "0.0096\n",
      "0.0108\n"
     ]
    }
   ],
   "source": [
    "print(*list(tabela2['Prevalencia']), sep= '\\n')"
   ]
  },
  {
   "cell_type": "code",
   "execution_count": 67,
   "metadata": {},
   "outputs": [
    {
     "name": "stdout",
     "output_type": "stream",
     "text": [
      " \n"
     ]
    }
   ],
   "source": [
    "print(' ')"
   ]
  },
  {
   "cell_type": "markdown",
   "metadata": {},
   "source": [
    "Taxa de mortalidade:"
   ]
  },
  {
   "cell_type": "code",
   "execution_count": 68,
   "metadata": {},
   "outputs": [
    {
     "name": "stdout",
     "output_type": "stream",
     "text": [
      "7e-05\n",
      "0.00016\n",
      "2e-05\n"
     ]
    }
   ],
   "source": [
    "print(*list(tabela2['Taxa de mortalidade']), sep= '\\n')"
   ]
  },
  {
   "cell_type": "code",
   "execution_count": 69,
   "metadata": {},
   "outputs": [
    {
     "name": "stdout",
     "output_type": "stream",
     "text": [
      " \n"
     ]
    }
   ],
   "source": [
    "print(' ')"
   ]
  },
  {
   "cell_type": "code",
   "execution_count": 70,
   "metadata": {},
   "outputs": [
    {
     "name": "stdout",
     "output_type": "stream",
     "text": [
      "0.016\n",
      "0.017\n",
      "0.002\n"
     ]
    }
   ],
   "source": [
    "print(*list(tabela2['Letalidade']), sep= '\\n')"
   ]
  },
  {
   "cell_type": "code",
   "execution_count": 71,
   "metadata": {},
   "outputs": [
    {
     "name": "stdout",
     "output_type": "stream",
     "text": [
      "\n"
     ]
    }
   ],
   "source": [
    "print('')"
   ]
  },
  {
   "cell_type": "markdown",
   "metadata": {},
   "source": [
    "6. GRAFICOS DE COMPORTAMENTO DO COVID-19"
   ]
  },
  {
   "cell_type": "code",
   "execution_count": 72,
   "metadata": {},
   "outputs": [
    {
     "data": {
      "text/html": [
       "<div>\n",
       "<style scoped>\n",
       "    .dataframe tbody tr th:only-of-type {\n",
       "        vertical-align: middle;\n",
       "    }\n",
       "\n",
       "    .dataframe tbody tr th {\n",
       "        vertical-align: top;\n",
       "    }\n",
       "\n",
       "    .dataframe thead th {\n",
       "        text-align: right;\n",
       "    }\n",
       "</style>\n",
       "<table border=\"1\" class=\"dataframe\">\n",
       "  <thead>\n",
       "    <tr style=\"text-align: right;\">\n",
       "      <th></th>\n",
       "      <th>data</th>\n",
       "      <th>Casos novos por dia</th>\n",
       "      <th>Óbitos por dia</th>\n",
       "      <th>Total de confirmados</th>\n",
       "      <th>Total de obitos</th>\n",
       "      <th>index_data</th>\n",
       "    </tr>\n",
       "  </thead>\n",
       "  <tbody>\n",
       "    <tr>\n",
       "      <td>87</td>\n",
       "      <td>2020-07-18</td>\n",
       "      <td>11.0</td>\n",
       "      <td>0.0</td>\n",
       "      <td>1447.0</td>\n",
       "      <td>16.0</td>\n",
       "      <td>120</td>\n",
       "    </tr>\n",
       "    <tr>\n",
       "      <td>88</td>\n",
       "      <td>2020-07-19</td>\n",
       "      <td>6.0</td>\n",
       "      <td>0.0</td>\n",
       "      <td>1453.0</td>\n",
       "      <td>16.0</td>\n",
       "      <td>121</td>\n",
       "    </tr>\n",
       "    <tr>\n",
       "      <td>89</td>\n",
       "      <td>2020-07-20</td>\n",
       "      <td>1.0</td>\n",
       "      <td>0.0</td>\n",
       "      <td>1454.0</td>\n",
       "      <td>16.0</td>\n",
       "      <td>122</td>\n",
       "    </tr>\n",
       "    <tr>\n",
       "      <td>90</td>\n",
       "      <td>2020-07-21</td>\n",
       "      <td>1.0</td>\n",
       "      <td>0.0</td>\n",
       "      <td>1455.0</td>\n",
       "      <td>16.0</td>\n",
       "      <td>123</td>\n",
       "    </tr>\n",
       "    <tr>\n",
       "      <td>124</td>\n",
       "      <td>2020-07-22</td>\n",
       "      <td>0.0</td>\n",
       "      <td>0.0</td>\n",
       "      <td>1455.0</td>\n",
       "      <td>16.0</td>\n",
       "      <td>124</td>\n",
       "    </tr>\n",
       "  </tbody>\n",
       "</table>\n",
       "</div>"
      ],
      "text/plain": [
       "          data  Casos novos por dia  Óbitos por dia  Total de confirmados  \\\n",
       "87  2020-07-18                 11.0             0.0                1447.0   \n",
       "88  2020-07-19                  6.0             0.0                1453.0   \n",
       "89  2020-07-20                  1.0             0.0                1454.0   \n",
       "90  2020-07-21                  1.0             0.0                1455.0   \n",
       "124 2020-07-22                  0.0             0.0                1455.0   \n",
       "\n",
       "     Total de obitos  index_data  \n",
       "87              16.0         120  \n",
       "88              16.0         121  \n",
       "89              16.0         122  \n",
       "90              16.0         123  \n",
       "124             16.0         124  "
      ]
     },
     "execution_count": 72,
     "metadata": {},
     "output_type": "execute_result"
    }
   ],
   "source": [
    "confirmados_OP = Microregiao_OP.groupby(['DATA_NOTIFICACAO']).contador.sum()\n",
    "\n",
    "obitos_OP = Microregiao_OP.loc[Microregiao_OP['EVOLUCAO'] == 'OBITO']\n",
    "obitos_OP = obitos_OP.groupby(['DATA_NOTIFICACAO']).contador.sum()\n",
    "\n",
    "tabelac = pd.DataFrame({\"Casos novos por dia\": confirmados_OP}).reset_index()\n",
    "tabelao = pd.DataFrame({'Óbitos por dia': obitos_OP}).reset_index()\n",
    "tabela = tabelac.join(tabelao.set_index('DATA_NOTIFICACAO'), on = 'DATA_NOTIFICACAO')\n",
    "tabela = tabela.fillna(0)\n",
    "\n",
    "from datetime import datetime\n",
    "#transformar variavel str em date\n",
    "tabela['DATA_NOTIFICACAO'] = pd.to_datetime(tabela['DATA_NOTIFICACAO'], format='%Y-%m-%d')\n",
    "data = pd.date_range(start='20/03/2020', end='22/07/2020')\n",
    "data = data.astype('datetime64[ns]')\n",
    "data = pd.DataFrame(data)\n",
    "\n",
    "tabela['DATA_NOTIFICACAO'] = tabela['DATA_NOTIFICACAO'].astype('datetime64[ns]')\n",
    "tabela = tabela.merge(data, how = 'right', left_on='DATA_NOTIFICACAO', right_on=data[0])\n",
    "tabela = tabela.fillna(0)\n",
    "tabela.sort_values('DATA_NOTIFICACAO', inplace=True)\n",
    "\n",
    "tabela['Total de confirmados'] = np.cumsum(tabela['Casos novos por dia'])\n",
    "tabela['Total de obitos'] = np.cumsum(tabela['Óbitos por dia'])\n",
    "tabela = tabela.rename(columns={'DATA_NOTIFICACAO': 'data'})\n",
    "tabela.drop(tabela.columns[3], axis=1, inplace=True)\n",
    "\n",
    "tabela['index_data'] = [x for x in range(125)]\n",
    "tabela.tail()"
   ]
  },
  {
   "cell_type": "code",
   "execution_count": 57,
   "metadata": {},
   "outputs": [],
   "source": [
    "#dates = pd.date_range(start='2020/07/13', end='2020/12/07')\n",
    "#list(dates)\n",
    "#tabela = tabela[tabela['data'].isin(dates) == False]\n",
    "#tabela.tail()"
   ]
  },
  {
   "cell_type": "code",
   "execution_count": 74,
   "metadata": {},
   "outputs": [
    {
     "data": {
      "image/png": "[encoded data removed]",
      "text/plain": [
       "<Figure size 432x288 with 1 Axes>"
      ]
     },
     "metadata": {
      "needs_background": "light"
     },
     "output_type": "display_data"
    }
   ],
   "source": [
    "import matplotlib.pyplot as plt\n",
    "plt.bar(tabela.iloc[:,0].values, tabela.iloc[:,3].values)\n",
    "plt.xlabel('Dias ')\n",
    "plt.ylabel('Confirmados total')\n",
    "plt.xticks(rotation=60)\n",
    "plt.grid(True)"
   ]
  },
  {
   "cell_type": "markdown",
   "metadata": {},
   "source": [
    "Grafico mortes totais:\n"
   ]
  },
  {
   "cell_type": "code",
   "execution_count": 75,
   "metadata": {},
   "outputs": [
    {
     "data": {
      "image/png": "[encoded data removed]",
      "text/plain": [
       "<Figure size 432x288 with 1 Axes>"
      ]
     },
     "metadata": {
      "needs_background": "light"
     },
     "output_type": "display_data"
    }
   ],
   "source": [
    "import matplotlib.pyplot as plt\n",
    "plt.plot(tabela.iloc[:,0].values, tabela.iloc[:,4].values, color = \"red\")\n",
    "plt.xlabel('Dias ')\n",
    "plt.ylabel('Óbitos totais')\n",
    "plt.xticks(rotation=60)\n",
    "plt.grid(True)\n"
   ]
  },
  {
   "cell_type": "markdown",
   "metadata": {},
   "source": [
    "Grafico confirmados diarios Micro OP:"
   ]
  },
  {
   "cell_type": "code",
   "execution_count": 76,
   "metadata": {},
   "outputs": [
    {
     "data": {
      "image/png": "[encoded data removed]",
      "text/plain": [
       "<Figure size 432x288 with 1 Axes>"
      ]
     },
     "metadata": {
      "needs_background": "light"
     },
     "output_type": "display_data"
    }
   ],
   "source": [
    "import matplotlib.pyplot as plt\n",
    "plt.bar(tabela.iloc[:,0].values, tabela.iloc[:,1].values)\n",
    "plt.xlabel('Dias ')\n",
    "plt.ylabel('Contaminados Diariamente')\n",
    "plt.xticks(rotation=60)\n",
    "plt.grid(True)"
   ]
  },
  {
   "cell_type": "markdown",
   "metadata": {},
   "source": [
    "Grafico mortes diarias Micro OP:"
   ]
  },
  {
   "cell_type": "code",
   "execution_count": 77,
   "metadata": {},
   "outputs": [
    {
     "data": {
      "image/png": "[encoded data removed]",
      "text/plain": [
       "<Figure size 432x288 with 1 Axes>"
      ]
     },
     "metadata": {
      "needs_background": "light"
     },
     "output_type": "display_data"
    }
   ],
   "source": [
    "import matplotlib.pyplot as plt\n",
    "plt.bar(tabela.iloc[:,0].values, tabela.iloc[:,2].values, color = \"red\")\n",
    "plt.xlabel('Dias ')\n",
    "plt.ylabel('Óbitos diarios')\n",
    "plt.xticks(rotation=60)\n",
    "plt.grid(True)"
   ]
  },
  {
   "cell_type": "code",
   "execution_count": 78,
   "metadata": {},
   "outputs": [
    {
     "data": {
      "image/png": "[encoded data removed]",
      "text/plain": [
       "<Figure size 432x288 with 1 Axes>"
      ]
     },
     "metadata": {
      "needs_background": "light"
     },
     "output_type": "display_data"
    }
   ],
   "source": [
    "import matplotlib.pyplot as plt\n",
    "plt.bar(grafico_faixa_etaria_mortos.iloc[:,0].values, grafico_faixa_etaria_mortos.iloc[:,1].values)\n",
    "plt.ylabel('Obitos')\n",
    "plt.xticks(np.arange(0, 7), rotation=70)\n",
    "plt.grid(True)"
   ]
  },
  {
   "cell_type": "code",
   "execution_count": 79,
   "metadata": {},
   "outputs": [
    {
     "data": {
      "image/png": "[encoded data removed]",
      "text/plain": [
       "<Figure size 432x288 with 1 Axes>"
      ]
     },
     "metadata": {
      "needs_background": "light"
     },
     "output_type": "display_data"
    }
   ],
   "source": [
    "import matplotlib.pyplot as plt\n",
    "plt.bar(grafico_faixa_etaria.iloc[:,0].values, grafico_faixa_etaria.iloc[:,1].values)\n",
    "plt.ylabel('confirmados')\n",
    "plt.xticks(np.arange(0, 7), rotation=70)\n",
    "plt.grid(True)"
   ]
  },
  {
   "cell_type": "code",
   "execution_count": 80,
   "metadata": {},
   "outputs": [
    {
     "data": {
      "image/png": "[encoded data removed]",
      "text/plain": [
       "<Figure size 432x288 with 1 Axes>"
      ]
     },
     "metadata": {},
     "output_type": "display_data"
    }
   ],
   "source": [
    "import matplotlib.pyplot as plt\n",
    "\n",
    "# Pie chart, where the slices will be ordered and plotted counter-clockwise:\n",
    "labels = 'AMARELA', 'BRANCA', 'INDIGENA', 'PARDA', 'PRETA'\n",
    "sizes = raca['Quantidade']\n",
    "explode = (0, 0.1, 0, 0, 0)  # only \"explode\" the 2nd slice (i.e. 'Hogs')\n",
    "\n",
    "fig1, ax1 = plt.subplots()\n",
    "ax1.pie(sizes, explode=explode, labels=labels, autopct='%1.1f%%',\n",
    "        shadow=True, startangle=90)\n",
    "ax1.axis('equal')  # Equal aspect ratio ensures that pie is drawn as a circle.\n",
    "\n",
    "plt.show()"
   ]
  },
  {
   "cell_type": "code",
   "execution_count": 81,
   "metadata": {},
   "outputs": [
    {
     "data": {
      "image/png": "[encoded data removed]",
      "text/plain": [
       "<Figure size 432x288 with 1 Axes>"
      ]
     },
     "metadata": {},
     "output_type": "display_data"
    }
   ],
   "source": [
    "import matplotlib.pyplot as plt\n",
    "\n",
    "# Pie chart, where the slices will be ordered and plotted counter-clockwise:\n",
    "labels = 'BRANCA', 'PARDA', 'PRETA'\n",
    "sizes = raca_obitos['Quantidade']\n",
    "explode = (0, 0.1, 0)  # only \"explode\" the 2nd slice (i.e. 'Hogs')\n",
    "\n",
    "fig1, ax1 = plt.subplots()\n",
    "ax1.pie(sizes, explode=explode, labels=labels, autopct='%1.1f%%',\n",
    "        shadow=True, startangle=90)\n",
    "ax1.axis('equal')  # Equal aspect ratio ensures that pie is drawn as a circle.\n",
    "\n",
    "plt.show()"
   ]
  },
  {
   "cell_type": "code",
   "execution_count": 77,
   "metadata": {},
   "outputs": [
    {
     "data": {
      "text/plain": [
       "<matplotlib.legend.Legend at 0x1e097f90048>"
      ]
     },
     "execution_count": 77,
     "metadata": {},
     "output_type": "execute_result"
    },
    {
     "data": {
      "image/png": "[encoded data removed]",
      "text/plain": [
       "<Figure size 432x288 with 1 Axes>"
      ]
     },
     "metadata": {
      "needs_background": "light"
     },
     "output_type": "display_data"
    }
   ],
   "source": [
    "import numpy as np\n",
    "import matplotlib.pyplot as plt\n",
    "\n",
    "N = 29\n",
    "hospitalizados_20 = X_20['Hospitalizados']\n",
    "width = 0.35\n",
    "\n",
    "ind = np.arange(N)  # the x locations for the groups\n",
    "\n",
    "fig, ax = plt.subplots()\n",
    "rects1 = ax.bar(ind, hospitalizados_20, width, color='r')\n",
    "\n",
    "hospitalizados_19 = X_19['Hospitalizados']\n",
    "rects2 = ax.bar(ind + width, hospitalizados_19, width, color='b')\n",
    "\n",
    "# add some text for labels, title and axes ticks\n",
    "ax.set_ylabel('Hospitalizados')\n",
    "plt.xlabel('Semanas epidemiológicas')\n",
    "plt.grid(True)\n",
    "\n",
    "ax.legend((rects1[0], rects2[0]), ('2020', '2019'))"
   ]
  },
  {
   "cell_type": "code",
   "execution_count": 65,
   "metadata": {},
   "outputs": [],
   "source": [
    "tabela.to_csv(\"tabela_micro_OP.csv\", index = False)"
   ]
  },
  {
   "cell_type": "code",
   "execution_count": null,
   "metadata": {},
   "outputs": [],
   "source": []
  }
 ],
 "metadata": {
  "celltoolbar": "Raw Cell Format",
  "kernelspec": {
   "display_name": "Python 3",
   "language": "python",
   "name": "python3"
  },
  "language_info": {
   "codemirror_mode": {
    "name": "ipython",
    "version": 3
   },
   "file_extension": ".py",
   "mimetype": "text/x-python",
   "name": "python",
   "nbconvert_exporter": "python",
   "pygments_lexer": "ipython3",
   "version": "3.7.4"
  }
 },
 "nbformat": 4,
 "nbformat_minor": 2
}
