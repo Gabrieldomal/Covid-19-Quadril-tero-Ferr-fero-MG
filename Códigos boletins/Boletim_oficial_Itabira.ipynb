{
 "cells": [
  {
   "cell_type": "code",
   "execution_count": 1,
   "metadata": {},
   "outputs": [
    {
     "data": {
      "text/html": [
       "<script>\n",
       "code_show=true; \n",
       "function code_toggle() {\n",
       " if (code_show){\n",
       " $('div.input').hide();\n",
       " } else {\n",
       " $('div.input').show();\n",
       " }\n",
       " code_show = !code_show\n",
       "} \n",
       "$( document ).ready(code_toggle);\n",
       "</script>\n",
       "<form action=\"javascript:code_toggle()\"><input type=\"submit\" value=\"Mostrar código.\"></form>"
      ],
      "text/plain": [
       "<IPython.core.display.HTML object>"
      ]
     },
     "execution_count": 1,
     "metadata": {},
     "output_type": "execute_result"
    }
   ],
   "source": [
    "from IPython.display import HTML\n",
    "\n",
    "HTML('''<script>\n",
    "code_show=true; \n",
    "function code_toggle() {\n",
    " if (code_show){\n",
    " $('div.input').hide();\n",
    " } else {\n",
    " $('div.input').show();\n",
    " }\n",
    " code_show = !code_show\n",
    "} \n",
    "$( document ).ready(code_toggle);\n",
    "</script>\n",
    "<form action=\"javascript:code_toggle()\"><input type=\"submit\" value=\"Mostrar código.\"></form>''')"
   ]
  },
  {
   "cell_type": "markdown",
   "metadata": {},
   "source": [
    "BOLETIM EPIDEMIOLóGICO DA MICRORREGIÂO DE ITABIRA"
   ]
  },
  {
   "cell_type": "code",
   "execution_count": 1,
   "metadata": {},
   "outputs": [],
   "source": [
    "import pandas as pd\n",
    "import numpy as np\n",
    "\n",
    "base = pd.read_csv('notificacoes-covid19-mg(45).csv',sep=';', encoding='latin-1')\n",
    "base['contador'] = 1"
   ]
  },
  {
   "cell_type": "code",
   "execution_count": 7,
   "metadata": {},
   "outputs": [],
   "source": [
    "#MICRORREGIÃO DE ITBIRA\n",
    "select1 = base.loc[base['MUNICIPIO_RESIDENCIA'] == 'ALVINÓPOLIS']\n",
    "select2 = base.loc[base['MUNICIPIO_RESIDENCIA'] == 'BARÃO DE COCAIS']\n",
    "select3 = base.loc[base['MUNICIPIO_RESIDENCIA'] == 'BELA VISTA DE MINAS']\n",
    "select4 = base.loc[base['MUNICIPIO_RESIDENCIA'] == 'BOM JESUS DO AMPARO']\n",
    "select5 = base.loc[base['MUNICIPIO_RESIDENCIA'] == 'CATAS ALTAS']\n",
    "select6 = base.loc[base['MUNICIPIO_RESIDENCIA'] == 'DIONÍSIO']\n",
    "select7 = base.loc[base['MUNICIPIO_RESIDENCIA'] == 'FERROS']\n",
    "select8 = base.loc[base['MUNICIPIO_RESIDENCIA'] == 'ITABIRA']\n",
    "select9 = base.loc[base['MUNICIPIO_RESIDENCIA'] == 'JOÃO MONLEVADE']\n",
    "select10 = base.loc[base['MUNICIPIO_RESIDENCIA'] == 'NOVA ERA']\n",
    "select11 = base.loc[base['MUNICIPIO_RESIDENCIA'] == 'NOVA UNIÃO']\n",
    "select12 = base.loc[base['MUNICIPIO_RESIDENCIA'] == 'RIO PIRACICAPBA']\n",
    "select13 = base.loc[base['MUNICIPIO_RESIDENCIA'] == 'SANTA BÁRBARA']\n",
    "select14 = base.loc[base['MUNICIPIO_RESIDENCIA'] == 'SANTA MARIA DE ITABIRA']\n",
    "select15 = base.loc[base['MUNICIPIO_RESIDENCIA'] == 'SÃO DOMINGOS DO PRATA']\n",
    "select16 = base.loc[base['MUNICIPIO_RESIDENCIA'] == 'SÃO GONÇALO DO RIO ABAIXO']\n",
    "select17 = base.loc[base['MUNICIPIO_RESIDENCIA'] == 'SÃO JOSÉ DO GOIABAL']\n",
    "select18 = base.loc[base['MUNICIPIO_RESIDENCIA'] == 'TAQUARAÇU DE MINAS']\n",
    "\n",
    "microrregiao_itabira = pd.concat([select1,select2,select3,select4,select5,select6,select7,select8,select9,select10,select11,select12,select13,select14,select15,select16,select17,select18])\n",
    "\n",
    "Casos_confirmados = microrregiao_itabira.contador.sum()\n",
    "print('Casos confirmados: ', Casos_confirmados)"
   ]
  },
  {
   "cell_type": "code",
   "execution_count": 19,
   "metadata": {},
   "outputs": [
    {
     "name": "stdout",
     "output_type": "stream",
     "text": [
      "Casos confirmados:  1097\n"
     ]
    }
   ],
   "source": [
    "Casos_confirmados = microrregiao_itabira.contador.sum()\n",
    "print('Casos confirmados: ', Casos_confirmados)"
   ]
  },
  {
   "cell_type": "code",
   "execution_count": 9,
   "metadata": {},
   "outputs": [
    {
     "name": "stdout",
     "output_type": "stream",
     "text": [
      "Casos em acompanhamento:  294\n"
     ]
    }
   ],
   "source": [
    "em_acompanhamento = microrregiao_itabira.loc[microrregiao_itabira['EVOLUCAO'] == 'EM ACOMPANHAMENTO']\n",
    "Casos_acompanhamento = em_acompanhamento['contador'].sum()\n",
    "print('Casos em acompanhamento: ', Casos_acompanhamento)"
   ]
  },
  {
   "cell_type": "code",
   "execution_count": 10,
   "metadata": {},
   "outputs": [
    {
     "name": "stdout",
     "output_type": "stream",
     "text": [
      "Casos recuperados:  801\n"
     ]
    }
   ],
   "source": [
    "recuperados = microrregiao_itabira.loc[microrregiao_itabira['EVOLUCAO'] == 'RECUPERADO']\n",
    "Casos_recuperados = recuperados['contador'].sum()\n",
    "print('Casos recuperados: ', Casos_recuperados)"
   ]
  },
  {
   "cell_type": "code",
   "execution_count": 11,
   "metadata": {},
   "outputs": [
    {
     "name": "stdout",
     "output_type": "stream",
     "text": [
      "Óbitos:  2\n"
     ]
    }
   ],
   "source": [
    "obitos = microrregiao_itabira.loc[microrregiao_itabira['EVOLUCAO'] == 'OBITO']\n",
    "obitos_OP = obitos['contador'].sum()\n",
    "print('Óbitos: ', obitos_OP)"
   ]
  },
  {
   "cell_type": "code",
   "execution_count": 12,
   "metadata": {},
   "outputs": [
    {
     "name": "stdout",
     "output_type": "stream",
     "text": [
      "\n"
     ]
    }
   ],
   "source": [
    "print('')"
   ]
  },
  {
   "cell_type": "markdown",
   "metadata": {},
   "source": [
    "1_ PERFIL EPIDEMIOLOGICO DOS CONFIRMADOS:"
   ]
  },
  {
   "cell_type": "markdown",
   "metadata": {},
   "source": [
    "POR SEXO:"
   ]
  },
  {
   "cell_type": "code",
   "execution_count": 13,
   "metadata": {},
   "outputs": [
    {
     "name": "stdout",
     "output_type": "stream",
     "text": [
      "Homens confirmados:  750\n"
     ]
    }
   ],
   "source": [
    "Homens_confirmados = microrregiao_itabira.loc[microrregiao_itabira['SEXO'] == 'Masculino']\n",
    "Homens_confirmados_vivos = Homens_confirmados[Homens_confirmados.EVOLUCAO != 'OBITO']\n",
    "Homens_confirmados_vivos = Homens_confirmados_vivos['contador'].sum()\n",
    "print('Homens confirmados: ', Homens_confirmados_vivos)"
   ]
  },
  {
   "cell_type": "code",
   "execution_count": 14,
   "metadata": {},
   "outputs": [
    {
     "name": "stdout",
     "output_type": "stream",
     "text": [
      "Mulheres confirmadas:  345\n"
     ]
    }
   ],
   "source": [
    "Mulheres_confirmadas = microrregiao_itabira.loc[microrregiao_itabira['SEXO'] == 'Feminino']\n",
    "Mulheres_confirmadas_vivas = Mulheres_confirmadas[Mulheres_confirmadas.EVOLUCAO != 'OBITO']\n",
    "Mulheres_confirmadas_vivas = Mulheres_confirmadas_vivas['contador'].sum()\n",
    "print('Mulheres confirmadas: ', Mulheres_confirmadas_vivas)"
   ]
  },
  {
   "cell_type": "code",
   "execution_count": 15,
   "metadata": {},
   "outputs": [
    {
     "name": "stdout",
     "output_type": "stream",
     "text": [
      "Porcentagem homens:  68%\n"
     ]
    }
   ],
   "source": [
    "perct_por_sexo_H_vivos = Homens_confirmados_vivos/(Homens_confirmados_vivos+Mulheres_confirmadas_vivas)\n",
    "print(\"Porcentagem homens: \",\"{:.0%}\".format(perct_por_sexo_H_vivos));"
   ]
  },
  {
   "cell_type": "code",
   "execution_count": 16,
   "metadata": {},
   "outputs": [
    {
     "name": "stdout",
     "output_type": "stream",
     "text": [
      "Porcentagem mulheres:  32%\n"
     ]
    }
   ],
   "source": [
    "perct_por_sexo_M_vivos = Mulheres_confirmadas_vivas/(Homens_confirmados_vivos+Mulheres_confirmadas_vivas)\n",
    "print(\"Porcentagem mulheres: \",\"{:.0%}\".format(perct_por_sexo_M_vivos));"
   ]
  },
  {
   "cell_type": "code",
   "execution_count": 17,
   "metadata": {},
   "outputs": [
    {
     "name": "stdout",
     "output_type": "stream",
     "text": [
      "N total:  1095\n"
     ]
    }
   ],
   "source": [
    "N_vivo = Mulheres_confirmadas_vivas + Homens_confirmados_vivos\n",
    "print(\"N total: \",N_vivo)"
   ]
  },
  {
   "cell_type": "code",
   "execution_count": 14,
   "metadata": {},
   "outputs": [
    {
     "name": "stdout",
     "output_type": "stream",
     "text": [
      "\n"
     ]
    }
   ],
   "source": [
    "print('')"
   ]
  },
  {
   "cell_type": "markdown",
   "metadata": {},
   "source": [
    "COMORBIDADE:"
   ]
  },
  {
   "cell_type": "code",
   "execution_count": 15,
   "metadata": {},
   "outputs": [
    {
     "name": "stdout",
     "output_type": "stream",
     "text": [
      "Com comorbidade:  59\n"
     ]
    }
   ],
   "source": [
    "com_comorbidade = microrregiao_itabira.loc[microrregiao_itabira['COMORBIDADE'] == 'SIM']\n",
    "Com_comorbidade_vivos = com_comorbidade[com_comorbidade.EVOLUCAO != 'OBITO']\n",
    "Com_comorbidade_vivos = Com_comorbidade_vivos['contador'].sum()\n",
    "print(\"Com comorbidade: \", Com_comorbidade_vivos)"
   ]
  },
  {
   "cell_type": "code",
   "execution_count": 16,
   "metadata": {},
   "outputs": [
    {
     "name": "stdout",
     "output_type": "stream",
     "text": [
      "Sem comorbidade:  753\n"
     ]
    }
   ],
   "source": [
    "sem_comorbidade = microrregiao_itabira.loc[microrregiao_itabira['COMORBIDADE'] == 'NÃO']\n",
    "Sem_comorbidade_vivos = sem_comorbidade[sem_comorbidade.EVOLUCAO != 'OBITO']\n",
    "Sem_comorbidade_vivos = Sem_comorbidade_vivos['contador'].sum() \n",
    "print (\"Sem comorbidade: \", Sem_comorbidade_vivos)"
   ]
  },
  {
   "cell_type": "code",
   "execution_count": 17,
   "metadata": {},
   "outputs": [
    {
     "name": "stdout",
     "output_type": "stream",
     "text": [
      "Comorbidade não informada:  283\n"
     ]
    }
   ],
   "source": [
    "comorbidade_nao_informada = microrregiao_itabira.loc[microrregiao_itabira['COMORBIDADE'] == 'Não Informado']\n",
    "Comorbidade_nao_informada = comorbidade_nao_informada['contador'].sum()\n",
    "print(\"Comorbidade não informada: \",Comorbidade_nao_informada)"
   ]
  },
  {
   "cell_type": "code",
   "execution_count": 18,
   "metadata": {},
   "outputs": [
    {
     "name": "stdout",
     "output_type": "stream",
     "text": [
      "\n"
     ]
    }
   ],
   "source": [
    "print('')"
   ]
  },
  {
   "cell_type": "code",
   "execution_count": 19,
   "metadata": {},
   "outputs": [
    {
     "name": "stdout",
     "output_type": "stream",
     "text": [
      "Média de idade entre os vivos:  39\n"
     ]
    }
   ],
   "source": [
    "Media_idade_confirmados = microrregiao_itabira.loc[microrregiao_itabira['EVOLUCAO'] != 'OBITO']\n",
    "Media_idade_confirmados = Media_idade_confirmados['IDADE'].mean()\n",
    "print (\"Média de idade entre os vivos: \", round(Media_idade_confirmados))"
   ]
  },
  {
   "cell_type": "code",
   "execution_count": 20,
   "metadata": {},
   "outputs": [
    {
     "data": {
      "text/html": [
       "<div>\n",
       "<style scoped>\n",
       "    .dataframe tbody tr th:only-of-type {\n",
       "        vertical-align: middle;\n",
       "    }\n",
       "\n",
       "    .dataframe tbody tr th {\n",
       "        vertical-align: top;\n",
       "    }\n",
       "\n",
       "    .dataframe thead th {\n",
       "        text-align: right;\n",
       "    }\n",
       "</style>\n",
       "<table border=\"1\" class=\"dataframe\">\n",
       "  <thead>\n",
       "    <tr style=\"text-align: right;\">\n",
       "      <th></th>\n",
       "      <th>FAIXA_ETARIA</th>\n",
       "      <th>quantidade</th>\n",
       "    </tr>\n",
       "  </thead>\n",
       "  <tbody>\n",
       "    <tr>\n",
       "      <td>0</td>\n",
       "      <td>0 a 9 anos</td>\n",
       "      <td>19</td>\n",
       "    </tr>\n",
       "    <tr>\n",
       "      <td>1</td>\n",
       "      <td>10 a 19 anos</td>\n",
       "      <td>9</td>\n",
       "    </tr>\n",
       "    <tr>\n",
       "      <td>2</td>\n",
       "      <td>20 a 29 anos</td>\n",
       "      <td>139</td>\n",
       "    </tr>\n",
       "    <tr>\n",
       "      <td>3</td>\n",
       "      <td>30 a 39 anos</td>\n",
       "      <td>427</td>\n",
       "    </tr>\n",
       "    <tr>\n",
       "      <td>4</td>\n",
       "      <td>40 a 49 anos</td>\n",
       "      <td>310</td>\n",
       "    </tr>\n",
       "    <tr>\n",
       "      <td>5</td>\n",
       "      <td>50 a 59 anos</td>\n",
       "      <td>148</td>\n",
       "    </tr>\n",
       "    <tr>\n",
       "      <td>6</td>\n",
       "      <td>&gt;= 60 anos</td>\n",
       "      <td>35</td>\n",
       "    </tr>\n",
       "  </tbody>\n",
       "</table>\n",
       "</div>"
      ],
      "text/plain": [
       "   FAIXA_ETARIA  quantidade\n",
       "0    0 a 9 anos          19\n",
       "1  10 a 19 anos           9\n",
       "2  20 a 29 anos         139\n",
       "3  30 a 39 anos         427\n",
       "4  40 a 49 anos         310\n",
       "5  50 a 59 anos         148\n",
       "6    >= 60 anos          35"
      ]
     },
     "execution_count": 20,
     "metadata": {},
     "output_type": "execute_result"
    }
   ],
   "source": [
    "microrregiao_itabira['FAIXA_ETARIA'] = microrregiao_itabira['FAIXA_ETARIA'].replace(['60 a 69 anos', '70 a 79 anos', '80 a 89 anos', '90 ou mais'], '>= 60 anos')\n",
    "\n",
    "grafico_faixa_etaria = microrregiao_itabira.groupby(['FAIXA_ETARIA']).contador.sum()\n",
    "grafico_faixa_etaria = pd.DataFrame({'quantidade': grafico_faixa_etaria}).reset_index()\n",
    "grafico_faixa_etaria"
   ]
  },
  {
   "cell_type": "code",
   "execution_count": 21,
   "metadata": {},
   "outputs": [
    {
     "name": "stdout",
     "output_type": "stream",
     "text": [
      "Porcentagem de confirmados entre 20 e 59 anos:  94%\n"
     ]
    }
   ],
   "source": [
    "denominador_20_59 = grafico_faixa_etaria['quantidade'].sum()\n",
    "numerador_20_59 = grafico_faixa_etaria.iloc[[2,3,4,5],1].sum(axis=0)\n",
    "\n",
    "percent_entre_20_59 = (numerador_20_59/denominador_20_59)\n",
    "print(\"Porcentagem de confirmados entre 20 e 59 anos: \",\"{:.0%}\".format(percent_entre_20_59));"
   ]
  },
  {
   "cell_type": "code",
   "execution_count": 22,
   "metadata": {},
   "outputs": [
    {
     "name": "stdout",
     "output_type": "stream",
     "text": [
      "\n"
     ]
    }
   ],
   "source": [
    "print('')"
   ]
  },
  {
   "cell_type": "markdown",
   "metadata": {},
   "source": [
    "2_ PERFIL EPIDEMIOLOGICO DOS OBITOS"
   ]
  },
  {
   "cell_type": "markdown",
   "metadata": {},
   "source": [
    "POR SEXO:"
   ]
  },
  {
   "cell_type": "code",
   "execution_count": 23,
   "metadata": {},
   "outputs": [
    {
     "name": "stdout",
     "output_type": "stream",
     "text": [
      "Homens mortos:  2\n"
     ]
    }
   ],
   "source": [
    "Homens_mortos = microrregiao_itabira.loc[microrregiao_itabira['SEXO'] == 'Masculino']\n",
    "Homens_mortos = Homens_mortos.loc[Homens_mortos['EVOLUCAO'] == 'OBITO']\n",
    "Homens_mortos = Homens_mortos['contador'].sum()\n",
    "print(\"Homens mortos: \", Homens_mortos)"
   ]
  },
  {
   "cell_type": "code",
   "execution_count": 24,
   "metadata": {},
   "outputs": [
    {
     "name": "stdout",
     "output_type": "stream",
     "text": [
      "Mulheres mortas:  0\n"
     ]
    }
   ],
   "source": [
    "Mulheres_mortas = microrregiao_itabira.loc[microrregiao_itabira['SEXO'] == 'Feminino']\n",
    "Mulheres_mortas = Mulheres_mortas.loc[Mulheres_mortas['EVOLUCAO'] == 'OBITO']\n",
    "Mulheres_mortas = Mulheres_mortas['contador'].sum()\n",
    "print(\"Mulheres mortas: \", Mulheres_mortas)"
   ]
  },
  {
   "cell_type": "code",
   "execution_count": 25,
   "metadata": {},
   "outputs": [
    {
     "name": "stdout",
     "output_type": "stream",
     "text": [
      "Procentagem de homens mortos:  100%\n"
     ]
    }
   ],
   "source": [
    "perct_por_sexo_H_mortos = Homens_mortos/(Homens_mortos+Mulheres_mortas)\n",
    "print(\"Procentagem de homens mortos: \",\"{:.0%}\".format(perct_por_sexo_H_mortos));"
   ]
  },
  {
   "cell_type": "code",
   "execution_count": 26,
   "metadata": {},
   "outputs": [
    {
     "name": "stdout",
     "output_type": "stream",
     "text": [
      "Porcentagem de mulheres mortas:  0%\n"
     ]
    }
   ],
   "source": [
    "perct_por_sexo_M_mortos = Mulheres_mortas/(Homens_mortos+Mulheres_mortas)\n",
    "print(\"Porcentagem de mulheres mortas: \",\"{:.0%}\".format(perct_por_sexo_M_mortos));"
   ]
  },
  {
   "cell_type": "code",
   "execution_count": 27,
   "metadata": {},
   "outputs": [
    {
     "name": "stdout",
     "output_type": "stream",
     "text": [
      "N total:  2\n"
     ]
    }
   ],
   "source": [
    "print(\"N total: \",Homens_mortos+Mulheres_mortas)"
   ]
  },
  {
   "cell_type": "code",
   "execution_count": 28,
   "metadata": {},
   "outputs": [
    {
     "name": "stdout",
     "output_type": "stream",
     "text": [
      "Letalidade:  0.18%\n"
     ]
    }
   ],
   "source": [
    "Letalidade = obitos_OP/Casos_confirmados\n",
    "print(\"Letalidade: \",\"{:.2%}\".format(Letalidade));"
   ]
  },
  {
   "cell_type": "code",
   "execution_count": 29,
   "metadata": {},
   "outputs": [
    {
     "name": "stdout",
     "output_type": "stream",
     "text": [
      "Media de idade dos óbitos:  47\n"
     ]
    }
   ],
   "source": [
    "Media_idade_obitos = obitos['IDADE'].mean()\n",
    "print(\"Media de idade dos óbitos: \",round(Media_idade_obitos))"
   ]
  },
  {
   "cell_type": "code",
   "execution_count": 30,
   "metadata": {},
   "outputs": [
    {
     "name": "stdout",
     "output_type": "stream",
     "text": [
      "\n"
     ]
    }
   ],
   "source": [
    "print('')"
   ]
  },
  {
   "cell_type": "markdown",
   "metadata": {},
   "source": [
    "Tabela Obitos por idade:"
   ]
  },
  {
   "cell_type": "code",
   "execution_count": 31,
   "metadata": {},
   "outputs": [
    {
     "data": {
      "text/html": [
       "<div>\n",
       "<style scoped>\n",
       "    .dataframe tbody tr th:only-of-type {\n",
       "        vertical-align: middle;\n",
       "    }\n",
       "\n",
       "    .dataframe tbody tr th {\n",
       "        vertical-align: top;\n",
       "    }\n",
       "\n",
       "    .dataframe thead th {\n",
       "        text-align: right;\n",
       "    }\n",
       "</style>\n",
       "<table border=\"1\" class=\"dataframe\">\n",
       "  <thead>\n",
       "    <tr style=\"text-align: right;\">\n",
       "      <th></th>\n",
       "      <th>FAIXA_ETARIA</th>\n",
       "      <th>Óbitos</th>\n",
       "    </tr>\n",
       "  </thead>\n",
       "  <tbody>\n",
       "    <tr>\n",
       "      <td>0</td>\n",
       "      <td>20 a 29 anos</td>\n",
       "      <td>0</td>\n",
       "    </tr>\n",
       "    <tr>\n",
       "      <td>1</td>\n",
       "      <td>20 a 29 anos</td>\n",
       "      <td>1</td>\n",
       "    </tr>\n",
       "    <tr>\n",
       "      <td>2</td>\n",
       "      <td>70 a 79 anos</td>\n",
       "      <td>1</td>\n",
       "    </tr>\n",
       "  </tbody>\n",
       "</table>\n",
       "</div>"
      ],
      "text/plain": [
       "   FAIXA_ETARIA  Óbitos\n",
       "0  20 a 29 anos       0\n",
       "1  20 a 29 anos       1\n",
       "2  70 a 79 anos       1"
      ]
     },
     "execution_count": 31,
     "metadata": {},
     "output_type": "execute_result"
    }
   ],
   "source": [
    "grafico_faixa_etaria_mortos = obitos.groupby(['FAIXA_ETARIA']).contador.sum()\n",
    "grafico_faixa_etaria_mortos = pd.DataFrame({'Óbitos': grafico_faixa_etaria_mortos}).reset_index()\n",
    "df = pd.DataFrame({\"FAIXA_ETARIA\":[\"20 a 29 anos\"],\"Óbitos\":[0]})\n",
    "grafico_faixa_etaria_mortos = df.append(grafico_faixa_etaria_mortos, ignore_index = True) \n",
    "grafico_faixa_etaria_mortos"
   ]
  },
  {
   "cell_type": "code",
   "execution_count": 36,
   "metadata": {},
   "outputs": [
    {
     "name": "stdout",
     "output_type": "stream",
     "text": [
      "Obitos acima de 60 anos:  50%\n"
     ]
    }
   ],
   "source": [
    "obitos60 = grafico_faixa_etaria_mortos.iloc[[2],1].sum(axis=0)\n",
    "percent_obitos_60 = (obitos60/obitos_OP)\n",
    "print(\"Obitos acima de 60 anos: \",\"{:.0%}\".format(percent_obitos_60));"
   ]
  },
  {
   "cell_type": "code",
   "execution_count": 37,
   "metadata": {},
   "outputs": [
    {
     "name": "stdout",
     "output_type": "stream",
     "text": [
      "\n"
     ]
    }
   ],
   "source": [
    "print('')"
   ]
  },
  {
   "cell_type": "markdown",
   "metadata": {},
   "source": [
    "3_ DADOS HOSPITALARES:"
   ]
  },
  {
   "cell_type": "code",
   "execution_count": 38,
   "metadata": {},
   "outputs": [
    {
     "name": "stdout",
     "output_type": "stream",
     "text": [
      "Internados:  21\n"
     ]
    }
   ],
   "source": [
    "internados = microrregiao_itabira.loc[microrregiao_itabira['INTERNACAO'] == 'SIM']\n",
    "internados = internados['contador'].sum()\n",
    "print(\"Internados: \", internados)"
   ]
  },
  {
   "cell_type": "code",
   "execution_count": 39,
   "metadata": {},
   "outputs": [
    {
     "name": "stdout",
     "output_type": "stream",
     "text": [
      "\n"
     ]
    }
   ],
   "source": [
    "print('')"
   ]
  },
  {
   "cell_type": "markdown",
   "metadata": {},
   "source": [
    "5_ DISTRIBUIÇÃO DOS CASOS"
   ]
  },
  {
   "cell_type": "code",
   "execution_count": 40,
   "metadata": {},
   "outputs": [
    {
     "name": "stdout",
     "output_type": "stream",
     "text": [
      "Casos sem obito: 1095\n"
     ]
    }
   ],
   "source": [
    "confirmados_sem_obito = microrregiao_itabira.loc[microrregiao_itabira['EVOLUCAO'] != 'OBITO']\n",
    "confirmados_sem_obito = confirmados_sem_obito['contador'].sum()\n",
    "print(\"Casos sem obito:\", confirmados_sem_obito)"
   ]
  },
  {
   "cell_type": "code",
   "execution_count": 41,
   "metadata": {},
   "outputs": [
    {
     "name": "stdout",
     "output_type": "stream",
     "text": [
      "Obitos:  2\n"
     ]
    }
   ],
   "source": [
    "print(\"Obitos: \",obitos['contador'].sum())"
   ]
  },
  {
   "cell_type": "code",
   "execution_count": 42,
   "metadata": {},
   "outputs": [
    {
     "name": "stdout",
     "output_type": "stream",
     "text": [
      "Casos confirmados totais:  1097\n"
     ]
    }
   ],
   "source": [
    "print(\"Casos confirmados totais: \",Casos_confirmados)"
   ]
  },
  {
   "cell_type": "code",
   "execution_count": 43,
   "metadata": {
    "scrolled": true
   },
   "outputs": [],
   "source": [
    "pd.set_option('display.max_rows', None)\n",
    "lista_confirmados = microrregiao_itabira.groupby(['MUNICIPIO_RESIDENCIA']).contador.sum()\n",
    "\n",
    "obitos_OP = microrregiao_itabira.loc[base['EVOLUCAO'] == 'OBITO']\n",
    "obitos_OP = obitos_OP.groupby(['MUNICIPIO_RESIDENCIA']).contador.sum()\n",
    "\n",
    "lista_confirmados = pd.DataFrame({\"confirmados\": lista_confirmados}).reset_index()\n",
    "obitos_OP = pd.DataFrame({'obitos': obitos_OP}).reset_index()\n",
    "tabela2 = lista_confirmados.join(obitos_OP.set_index('MUNICIPIO_RESIDENCIA'), on = 'MUNICIPIO_RESIDENCIA')\n",
    "tabela2 = tabela2.fillna(0)"
   ]
  },
  {
   "cell_type": "code",
   "execution_count": 44,
   "metadata": {},
   "outputs": [
    {
     "name": "stdout",
     "output_type": "stream",
     "text": [
      "\n"
     ]
    }
   ],
   "source": [
    "print('')"
   ]
  },
  {
   "cell_type": "markdown",
   "metadata": {},
   "source": [
    "Cidades:"
   ]
  },
  {
   "cell_type": "code",
   "execution_count": 45,
   "metadata": {
    "scrolled": true
   },
   "outputs": [
    {
     "name": "stdout",
     "output_type": "stream",
     "text": [
      "ALVINÓPOLIS\n",
      "BARÃO DE COCAIS\n",
      "BELA VISTA DE MINAS\n",
      "BOM JESUS DO AMPARO\n",
      "CATAS ALTAS\n",
      "DIONÍSIO\n",
      "FERROS\n",
      "ITABIRA\n",
      "JOÃO MONLEVADE\n",
      "NOVA ERA\n",
      "NOVA UNIÃO\n",
      "SANTA BÁRBARA\n",
      "SANTA MARIA DE ITABIRA\n",
      "SÃO DOMINGOS DO PRATA\n",
      "SÃO GONÇALO DO RIO ABAIXO\n"
     ]
    }
   ],
   "source": [
    "print(*list(tabela2['MUNICIPIO_RESIDENCIA']), sep= '\\n')"
   ]
  },
  {
   "cell_type": "code",
   "execution_count": 46,
   "metadata": {},
   "outputs": [
    {
     "name": "stdout",
     "output_type": "stream",
     "text": [
      " \n"
     ]
    }
   ],
   "source": [
    "print(' ')"
   ]
  },
  {
   "cell_type": "markdown",
   "metadata": {},
   "source": [
    "Numero de confirmados por cidade:"
   ]
  },
  {
   "cell_type": "code",
   "execution_count": 47,
   "metadata": {},
   "outputs": [
    {
     "name": "stdout",
     "output_type": "stream",
     "text": [
      "7\n",
      "73\n",
      "6\n",
      "4\n",
      "18\n",
      "6\n",
      "7\n",
      "524\n",
      "265\n",
      "18\n",
      "1\n",
      "116\n",
      "8\n",
      "5\n",
      "39\n"
     ]
    }
   ],
   "source": [
    "print(*list(tabela2['confirmados']), sep='\\n')"
   ]
  },
  {
   "cell_type": "code",
   "execution_count": 48,
   "metadata": {},
   "outputs": [
    {
     "name": "stdout",
     "output_type": "stream",
     "text": [
      " \n"
     ]
    }
   ],
   "source": [
    "print(' ')"
   ]
  },
  {
   "cell_type": "markdown",
   "metadata": {},
   "source": [
    "Número de óbitos por cidade:"
   ]
  },
  {
   "cell_type": "code",
   "execution_count": 49,
   "metadata": {},
   "outputs": [
    {
     "name": "stdout",
     "output_type": "stream",
     "text": [
      "0\n",
      "0\n",
      "0\n",
      "0\n",
      "0\n",
      "0\n",
      "0\n",
      "1\n",
      "0\n",
      "0\n",
      "0\n",
      "0\n",
      "0\n",
      "0\n",
      "1\n"
     ]
    },
    {
     "data": {
      "text/plain": [
       "[None,\n",
       " None,\n",
       " None,\n",
       " None,\n",
       " None,\n",
       " None,\n",
       " None,\n",
       " None,\n",
       " None,\n",
       " None,\n",
       " None,\n",
       " None,\n",
       " None,\n",
       " None,\n",
       " None]"
      ]
     },
     "execution_count": 49,
     "metadata": {},
     "output_type": "execute_result"
    }
   ],
   "source": [
    "[print(int(tabela2['obitos'].values[i])) for i in range(len(tabela2['obitos'].values))]\n",
    "#print(*list(tabela2['obitos']), sep='\\n')"
   ]
  },
  {
   "cell_type": "markdown",
   "metadata": {},
   "source": [
    "6. GRAFICOS DE COMPORTAMENTO DO COVID-19"
   ]
  },
  {
   "cell_type": "markdown",
   "metadata": {},
   "source": [
    "Geração da Tabela de confirmados diarios e eacumulados:"
   ]
  },
  {
   "cell_type": "code",
   "execution_count": 51,
   "metadata": {},
   "outputs": [],
   "source": [
    "confirmados_OP = microrregiao_itabira.groupby(['DATA_NOTIFICACAO']).contador.sum()\n",
    "\n",
    "obitos_OP = microrregiao_itabira.loc[base['EVOLUCAO'] == 'OBITO']\n",
    "obitos_OP = obitos_OP.groupby(['DATA_NOTIFICACAO']).contador.sum()\n",
    "\n",
    "tabelac = pd.DataFrame({\"confirmados_diarios\": confirmados_OP}).reset_index()\n",
    "tabelao = pd.DataFrame({'obitos_diarios': obitos_OP}).reset_index()\n",
    "tabela = tabelac.join(tabelao.set_index('DATA_NOTIFICACAO'), on = 'DATA_NOTIFICACAO')\n",
    "tabela = tabela.fillna(0)\n",
    "\n",
    "from datetime import datetime\n",
    "#transformar variavel str em date\n",
    "tabela['DATA_NOTIFICACAO'] = [datetime.strptime(i, '%d/%m/%Y').date() for i in list(tabela['DATA_NOTIFICACAO'])]\n",
    "\n",
    "data = pd.date_range(start='3/20/2020', end='6/25/2020')\n",
    "data = data.astype('datetime64[ns]')\n",
    "data = pd.DataFrame(data)\n",
    "\n",
    "tabela['DATA_NOTIFICACAO'] = tabela['DATA_NOTIFICACAO'].astype('datetime64[ns]')\n",
    "tabela = tabela.merge(data, how = 'right', left_on='DATA_NOTIFICACAO', right_on=data[0])\n",
    "tabela = tabela.fillna(0)\n",
    "tabela.sort_values('DATA_NOTIFICACAO', inplace=True)\n",
    "\n",
    "tabela['confirmados_totais'] = np.cumsum(tabela['confirmados_diarios'])\n",
    "tabela['obitos_totais'] = np.cumsum(tabela['obitos_diarios'])\n",
    "tabela = tabela.rename(columns={'DATA_NOTIFICACAO': 'data'})\n",
    "tabela.drop(tabela.columns[3], axis=1, inplace=True)\n",
    "tabela['letalidade'] = tabela['obitos_totais']/tabela['confirmados_totais']\n",
    "tabela['index_data'] = [x for x in range(98)]"
   ]
  },
  {
   "cell_type": "code",
   "execution_count": 53,
   "metadata": {},
   "outputs": [
    {
     "data": {
      "image/png": "[encoded data removed]",
      "text/plain": [
       "<Figure size 432x288 with 1 Axes>"
      ]
     },
     "metadata": {
      "needs_background": "light"
     },
     "output_type": "display_data"
    }
   ],
   "source": [
    "import matplotlib.pyplot as plt\n",
    "plt.bar(tabela.iloc[:,6].values, tabela.iloc[:,3].values)\n",
    "plt.xlabel('Dias ')\n",
    "plt.ylabel('Confirmados total')\n",
    "plt.grid(True)"
   ]
  },
  {
   "cell_type": "markdown",
   "metadata": {},
   "source": [
    "Grafico mortes totais:\n"
   ]
  },
  {
   "cell_type": "code",
   "execution_count": 55,
   "metadata": {},
   "outputs": [],
   "source": [
    "#import matplotlib.pyplot as plt\n",
    "#plt.plot(tabela.iloc[:,6].values, tabela.iloc[:,4].values, color = \"red\")\n",
    "#plt.xlabel('Dias ')\n",
    "#plt.ylabel('Óbitos totais')\n",
    "#plt.grid(True)"
   ]
  },
  {
   "cell_type": "markdown",
   "metadata": {},
   "source": [
    "Grafico confirmados diarios Micro OP:"
   ]
  },
  {
   "cell_type": "code",
   "execution_count": 58,
   "metadata": {},
   "outputs": [
    {
     "data": {
      "image/png": "[encoded data removed]",
      "text/plain": [
       "<Figure size 432x288 with 1 Axes>"
      ]
     },
     "metadata": {
      "needs_background": "light"
     },
     "output_type": "display_data"
    }
   ],
   "source": [
    "import matplotlib.pyplot as plt\n",
    "plt.bar(tabela.iloc[:,6].values, tabela.iloc[:,1].values)\n",
    "plt.xlabel('Dias ')\n",
    "plt.ylabel('Contaminados Diariamente')\n",
    "plt.grid(True)"
   ]
  },
  {
   "cell_type": "markdown",
   "metadata": {},
   "source": [
    "Grafico mortes diarias Micro OP:"
   ]
  },
  {
   "cell_type": "code",
   "execution_count": 59,
   "metadata": {},
   "outputs": [
    {
     "data": {
      "image/png": "[encoded data removed]",
      "text/plain": [
       "<Figure size 432x288 with 1 Axes>"
      ]
     },
     "metadata": {
      "needs_background": "light"
     },
     "output_type": "display_data"
    }
   ],
   "source": [
    "#import matplotlib.pyplot as plt\n",
    "#plt.bar(tabela.iloc[:,6].values, tabela.iloc[:,2].values, color = \"red\")\n",
    "#plt.xlabel('Dias ')\n",
    "#plt.ylabel('Óbitos diarios')\n",
    "#plt.grid(True)"
   ]
  },
  {
   "cell_type": "code",
   "execution_count": 56,
   "metadata": {},
   "outputs": [
    {
     "data": {
      "image/png": "[encoded data removed]",
      "text/plain": [
       "<Figure size 432x288 with 1 Axes>"
      ]
     },
     "metadata": {
      "needs_background": "light"
     },
     "output_type": "display_data"
    }
   ],
   "source": [
    "#import matplotlib.pyplot as plt\n",
    "#plt.bar(grafico_faixa_etaria_mortos.iloc[:,0].values, grafico_faixa_etaria_mortos.iloc[:,1].values)\n",
    "#plt.ylabel('Obitos')\n",
    "#plt.xticks(np.arange(0, 7), rotation=70)\n",
    "#plt.grid(True)"
   ]
  },
  {
   "cell_type": "code",
   "execution_count": 57,
   "metadata": {},
   "outputs": [
    {
     "data": {
      "image/png": "[encoded data removed]",
      "text/plain": [
       "<Figure size 432x288 with 1 Axes>"
      ]
     },
     "metadata": {
      "needs_background": "light"
     },
     "output_type": "display_data"
    }
   ],
   "source": [
    "import matplotlib.pyplot as plt\n",
    "plt.bar(grafico_faixa_etaria.iloc[:,0].values, grafico_faixa_etaria.iloc[:,1].values)\n",
    "plt.ylabel('confirmados')\n",
    "plt.xticks(np.arange(0, 7), rotation=70)\n",
    "plt.grid(True)"
   ]
  },
  {
   "cell_type": "code",
   "execution_count": 58,
   "metadata": {},
   "outputs": [],
   "source": [
    "tabela.to_csv(\"tabela_micro_itabira.csv\", index = False)"
   ]
  },
  {
   "cell_type": "code",
   "execution_count": null,
   "metadata": {},
   "outputs": [],
   "source": []
  }
 ],
 "metadata": {
  "celltoolbar": "Raw Cell Format",
  "kernelspec": {
   "display_name": "Python 3",
   "language": "python",
   "name": "python3"
  },
  "language_info": {
   "codemirror_mode": {
    "name": "ipython",
    "version": 3
   },
   "file_extension": ".py",
   "mimetype": "text/x-python",
   "name": "python",
   "nbconvert_exporter": "python",
   "pygments_lexer": "ipython3",
   "version": "3.7.4"
  }
 },
 "nbformat": 4,
 "nbformat_minor": 2
}
