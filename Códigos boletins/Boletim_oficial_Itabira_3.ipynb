{
 "cells": [
  {
   "cell_type": "code",
   "execution_count": 64,
   "metadata": {},
   "outputs": [
    {
     "data": {
      "text/html": [
       "<script>\n",
       "code_show=true; \n",
       "function code_toggle() {\n",
       " if (code_show){\n",
       " $('div.input').hide();\n",
       " } else {\n",
       " $('div.input').show();\n",
       " }\n",
       " code_show = !code_show\n",
       "} \n",
       "$( document ).ready(code_toggle);\n",
       "</script>\n",
       "<form action=\"javascript:code_toggle()\"><input type=\"submit\" value=\"Mostrar código.\"></form>"
      ],
      "text/plain": [
       "<IPython.core.display.HTML object>"
      ]
     },
     "execution_count": 64,
     "metadata": {},
     "output_type": "execute_result"
    }
   ],
   "source": [
    "from IPython.display import HTML\n",
    "\n",
    "HTML('''<script>\n",
    "code_show=true; \n",
    "function code_toggle() {\n",
    " if (code_show){\n",
    " $('div.input').hide();\n",
    " } else {\n",
    " $('div.input').show();\n",
    " }\n",
    " code_show = !code_show\n",
    "} \n",
    "$( document ).ready(code_toggle);\n",
    "</script>\n",
    "<form action=\"javascript:code_toggle()\"><input type=\"submit\" value=\"Mostrar código.\"></form>''')"
   ]
  },
  {
   "cell_type": "markdown",
   "metadata": {},
   "source": [
    "BOLETIM EPIDEMIOLóGICO DA MICRORREGIÃO DE ITABIRA."
   ]
  },
  {
   "cell_type": "code",
   "execution_count": 1,
   "metadata": {
    "scrolled": true
   },
   "outputs": [],
   "source": [
    "import pandas as pd\n",
    "import numpy as np\n",
    "import warnings\n",
    "warnings.filterwarnings('ignore')\n",
    "\n",
    "#importamos o banco de dado\n",
    "base_out = pd.read_csv('csv_sistemas(47).csv',sep=',', encoding='latin-1')\n",
    "base_out['contador'] = 1\n",
    "\n",
    "#segundo banco de dado com o restante dos confirmados.\n",
    "base_lab = pd.read_csv('csv_laboratorios(9).csv',sep=',', encoding='latin-1')\n",
    "base_lab['contador'] = 1\n",
    "\n",
    "base = pd.concat([base_lab, base_out], ignore_index=False)\n",
    "\n",
    "#Limpeza e oredanção dos dados\n",
    "from datetime import datetime\n",
    "base['DATA_NOTIFICACAO'] = pd.to_datetime(base['DATA_NOTIFICACAO'], format='%m/%d/%Y')\n",
    "\n",
    "base.sort_values('DATA_NOTIFICACAO', inplace=True)"
   ]
  },
  {
   "cell_type": "code",
   "execution_count": 2,
   "metadata": {
    "scrolled": false
   },
   "outputs": [],
   "source": [
    "#seleciono a regiao com a qual vou trabalhar e extrair os dados.\n",
    "microrregiao_itabira = base.loc[base['MICRO'] == 'ITABIRA']"
   ]
  },
  {
   "cell_type": "code",
   "execution_count": 4,
   "metadata": {},
   "outputs": [
    {
     "name": "stdout",
     "output_type": "stream",
     "text": [
      "Confirmados nas ultimas 24hrs:  0\n"
     ]
    }
   ],
   "source": [
    "confirmados_24h = microrregiao_itabira.loc[microrregiao_itabira['DATA_NOTIFICACAO'] == '2020-07-22']\n",
    "print(\"Confirmados nas ultimas 24hrs: \",int(confirmados_24h.contador.sum()))"
   ]
  },
  {
   "cell_type": "code",
   "execution_count": 5,
   "metadata": {
    "scrolled": true
   },
   "outputs": [
    {
     "name": "stdout",
     "output_type": "stream",
     "text": [
      "Casos confirmados:  967\n"
     ]
    }
   ],
   "source": [
    "Casos_confirmados = microrregiao_itabira.contador.sum()\n",
    "print('Casos confirmados: ', int(Casos_confirmados))"
   ]
  },
  {
   "cell_type": "code",
   "execution_count": 7,
   "metadata": {},
   "outputs": [
    {
     "name": "stdout",
     "output_type": "stream",
     "text": [
      "Casos em acompanhamento:  Não Informado\n"
     ]
    }
   ],
   "source": [
    "em_acompanhamento = microrregiao_itabira.loc[microrregiao_itabira['EVOLUCAO'] == 'EM ACOMPANHAMENTO']\n",
    "em_acompanhamento = em_acompanhamento['contador'].sum()\n",
    "print('Casos em acompanhamento: ', 'Não Informado')"
   ]
  },
  {
   "cell_type": "code",
   "execution_count": 8,
   "metadata": {},
   "outputs": [
    {
     "name": "stdout",
     "output_type": "stream",
     "text": [
      "Casos recuperados:  751\n"
     ]
    }
   ],
   "source": [
    "recuperados = microrregiao_itabira.loc[microrregiao_itabira['EVOLUCAO'] == 'RECUPERADO']\n",
    "Casos_recuperados = recuperados['contador'].sum()\n",
    "print('Casos recuperados: ', int(Casos_recuperados))"
   ]
  },
  {
   "cell_type": "code",
   "execution_count": 9,
   "metadata": {
    "scrolled": true
   },
   "outputs": [
    {
     "name": "stdout",
     "output_type": "stream",
     "text": [
      "Óbitos:  7\n"
     ]
    }
   ],
   "source": [
    "obitos = microrregiao_itabira.loc[microrregiao_itabira['EVOLUCAO'] == 'OBITO']\n",
    "obitos_OP = obitos['contador'].sum()\n",
    "print('Óbitos: ', int(obitos_OP))"
   ]
  },
  {
   "cell_type": "code",
   "execution_count": 10,
   "metadata": {},
   "outputs": [
    {
     "name": "stdout",
     "output_type": "stream",
     "text": [
      "\n"
     ]
    }
   ],
   "source": [
    "print('')"
   ]
  },
  {
   "cell_type": "markdown",
   "metadata": {},
   "source": [
    "1_ PERFIL EPIDEMIOLOGICO DOS CONFIRMADOS:"
   ]
  },
  {
   "cell_type": "markdown",
   "metadata": {},
   "source": [
    "POR SEXO:"
   ]
  },
  {
   "cell_type": "code",
   "execution_count": 11,
   "metadata": {},
   "outputs": [],
   "source": [
    "#microrregiao_itabira.groupby(['SEXO']).contador.sum()"
   ]
  },
  {
   "cell_type": "code",
   "execution_count": 12,
   "metadata": {},
   "outputs": [
    {
     "name": "stdout",
     "output_type": "stream",
     "text": [
      "Homens confirmados:  710\n"
     ]
    }
   ],
   "source": [
    "Homens_confirmados = microrregiao_itabira.loc[(microrregiao_itabira['SEXO'] == 'MASCULINO')]\n",
    "Homens_confirmados_vivos = Homens_confirmados[(Homens_confirmados.EVOLUCAO != 'OBITO')]\n",
    "Homens_confirmados_vivos = Homens_confirmados_vivos['contador'].sum()\n",
    "print('Homens confirmados: ', int(Homens_confirmados_vivos))"
   ]
  },
  {
   "cell_type": "code",
   "execution_count": 13,
   "metadata": {},
   "outputs": [
    {
     "name": "stdout",
     "output_type": "stream",
     "text": [
      "Mulheres confirmadas:  250\n"
     ]
    }
   ],
   "source": [
    "Mulheres_confirmadas = microrregiao_itabira.loc[(microrregiao_itabira['SEXO'] == 'FEMININO')]\n",
    "Mulheres_confirmadas_vivas = Mulheres_confirmadas[(Mulheres_confirmadas.EVOLUCAO != 'OBITO')]\n",
    "Mulheres_confirmadas_vivas = Mulheres_confirmadas_vivas['contador'].sum()\n",
    "print('Mulheres confirmadas: ', int(Mulheres_confirmadas_vivas))"
   ]
  },
  {
   "cell_type": "code",
   "execution_count": 14,
   "metadata": {},
   "outputs": [
    {
     "name": "stdout",
     "output_type": "stream",
     "text": [
      "Sem informação do sexo:  0\n"
     ]
    }
   ],
   "source": [
    "sem_informacao_sexo = microrregiao_itabira.loc[microrregiao_itabira['SEXO'] == 'NAO INFORMADO']\n",
    "print('Sem informação do sexo: ', int(sem_informacao_sexo.contador.sum()))"
   ]
  },
  {
   "cell_type": "code",
   "execution_count": 15,
   "metadata": {},
   "outputs": [
    {
     "name": "stdout",
     "output_type": "stream",
     "text": [
      "Porcentagem homens:  74%\n"
     ]
    }
   ],
   "source": [
    "perct_por_sexo_H_vivos = Homens_confirmados_vivos/(Homens_confirmados_vivos+Mulheres_confirmadas_vivas)\n",
    "print(\"Porcentagem homens: \",\"{:.0%}\".format(perct_por_sexo_H_vivos));"
   ]
  },
  {
   "cell_type": "code",
   "execution_count": 16,
   "metadata": {},
   "outputs": [
    {
     "name": "stdout",
     "output_type": "stream",
     "text": [
      "Porcentagem mulheres:  26%\n"
     ]
    }
   ],
   "source": [
    "perct_por_sexo_M_vivos = Mulheres_confirmadas_vivas/(Homens_confirmados_vivos+Mulheres_confirmadas_vivas)\n",
    "print(\"Porcentagem mulheres: \",\"{:.0%}\".format(perct_por_sexo_M_vivos));"
   ]
  },
  {
   "cell_type": "code",
   "execution_count": 17,
   "metadata": {},
   "outputs": [
    {
     "name": "stdout",
     "output_type": "stream",
     "text": [
      "N total:  960\n"
     ]
    }
   ],
   "source": [
    "N_vivo = Mulheres_confirmadas_vivas + Homens_confirmados_vivos\n",
    "print(\"N total: \",int(N_vivo))"
   ]
  },
  {
   "cell_type": "code",
   "execution_count": 18,
   "metadata": {},
   "outputs": [
    {
     "name": "stdout",
     "output_type": "stream",
     "text": [
      "\n"
     ]
    }
   ],
   "source": [
    "print('')"
   ]
  },
  {
   "cell_type": "markdown",
   "metadata": {},
   "source": [
    "COMORBIDADE:"
   ]
  },
  {
   "cell_type": "code",
   "execution_count": 19,
   "metadata": {},
   "outputs": [
    {
     "name": "stdout",
     "output_type": "stream",
     "text": [
      "Com comorbidade:  46\n"
     ]
    }
   ],
   "source": [
    "com_comorbidade = microrregiao_itabira.loc[(microrregiao_itabira['COMORBIDADE'] == 'SIM')]\n",
    "Com_comorbidade_vivos = com_comorbidade[(com_comorbidade.EVOLUCAO != 'OBITO')]\n",
    "Com_comorbidade_vivos = Com_comorbidade_vivos['contador'].sum()\n",
    "print(\"Com comorbidade: \", int(Com_comorbidade_vivos))"
   ]
  },
  {
   "cell_type": "code",
   "execution_count": 20,
   "metadata": {},
   "outputs": [
    {
     "name": "stdout",
     "output_type": "stream",
     "text": [
      "Sem comorbidade:  511\n"
     ]
    }
   ],
   "source": [
    "sem_comorbidade = microrregiao_itabira.loc[(microrregiao_itabira['COMORBIDADE'] == 'NAO')]\n",
    "Sem_comorbidade_vivos = sem_comorbidade[(sem_comorbidade.EVOLUCAO != 'OBITO')]\n",
    "Sem_comorbidade_vivos = Sem_comorbidade_vivos['contador'].sum() \n",
    "print (\"Sem comorbidade: \", int(Sem_comorbidade_vivos))"
   ]
  },
  {
   "cell_type": "code",
   "execution_count": 21,
   "metadata": {},
   "outputs": [
    {
     "name": "stdout",
     "output_type": "stream",
     "text": [
      "Comorbidade não informada:  404\n"
     ]
    }
   ],
   "source": [
    "comorbidade_nao_informada = microrregiao_itabira.loc[(microrregiao_itabira['COMORBIDADE'] == 'NAO INFORMADO')]\n",
    "Comorbidade_nao_informada = comorbidade_nao_informada['contador'].sum()\n",
    "print(\"Comorbidade não informada: \", int(Comorbidade_nao_informada))"
   ]
  },
  {
   "cell_type": "code",
   "execution_count": 22,
   "metadata": {},
   "outputs": [
    {
     "name": "stdout",
     "output_type": "stream",
     "text": [
      "\n"
     ]
    }
   ],
   "source": [
    "print('')"
   ]
  },
  {
   "cell_type": "code",
   "execution_count": 23,
   "metadata": {},
   "outputs": [
    {
     "name": "stdout",
     "output_type": "stream",
     "text": [
      "Média de idade entre os vivos:  39\n",
      "Prevalência Micro Ouro Preto: 0.005\n"
     ]
    }
   ],
   "source": [
    "Media_idade_confirmados = microrregiao_itabira.loc[(microrregiao_itabira.EVOLUCAO != 'OBITO')]\n",
    "Media_idade_confirmados = Media_idade_confirmados['IDADE'].mean()\n",
    "print (\"Média de idade entre os vivos: \", round(Media_idade_confirmados))\n",
    "populacao_total = 51875+60724+74281\n",
    "print(\"Prevalência Micro Ouro Preto:\", \"{:.0}\".format(Casos_confirmados/populacao_total))"
   ]
  },
  {
   "cell_type": "code",
   "execution_count": 24,
   "metadata": {},
   "outputs": [
    {
     "name": "stdout",
     "output_type": "stream",
     "text": [
      "\n"
     ]
    }
   ],
   "source": [
    "print('')"
   ]
  },
  {
   "cell_type": "code",
   "execution_count": 25,
   "metadata": {
    "scrolled": false
   },
   "outputs": [
    {
     "data": {
      "text/html": [
       "<div>\n",
       "<style scoped>\n",
       "    .dataframe tbody tr th:only-of-type {\n",
       "        vertical-align: middle;\n",
       "    }\n",
       "\n",
       "    .dataframe tbody tr th {\n",
       "        vertical-align: top;\n",
       "    }\n",
       "\n",
       "    .dataframe thead th {\n",
       "        text-align: right;\n",
       "    }\n",
       "</style>\n",
       "<table border=\"1\" class=\"dataframe\">\n",
       "  <thead>\n",
       "    <tr style=\"text-align: right;\">\n",
       "      <th></th>\n",
       "      <th>FAIXA_ETARIA</th>\n",
       "      <th>Confirmados</th>\n",
       "    </tr>\n",
       "  </thead>\n",
       "  <tbody>\n",
       "    <tr>\n",
       "      <td>1</td>\n",
       "      <td>10 A 19 ANOS</td>\n",
       "      <td>10</td>\n",
       "    </tr>\n",
       "    <tr>\n",
       "      <td>2</td>\n",
       "      <td>20 A 29 ANOS</td>\n",
       "      <td>123</td>\n",
       "    </tr>\n",
       "    <tr>\n",
       "      <td>3</td>\n",
       "      <td>30 A 39 ANOS</td>\n",
       "      <td>396</td>\n",
       "    </tr>\n",
       "    <tr>\n",
       "      <td>4</td>\n",
       "      <td>40 A 49 ANOS</td>\n",
       "      <td>257</td>\n",
       "    </tr>\n",
       "    <tr>\n",
       "      <td>5</td>\n",
       "      <td>50 A 59 ANOS</td>\n",
       "      <td>114</td>\n",
       "    </tr>\n",
       "    <tr>\n",
       "      <td>7</td>\n",
       "      <td>&gt;= 60 ANOS</td>\n",
       "      <td>35</td>\n",
       "    </tr>\n",
       "  </tbody>\n",
       "</table>\n",
       "</div>"
      ],
      "text/plain": [
       "   FAIXA_ETARIA  Confirmados\n",
       "1  10 A 19 ANOS           10\n",
       "2  20 A 29 ANOS          123\n",
       "3  30 A 39 ANOS          396\n",
       "4  40 A 49 ANOS          257\n",
       "5  50 A 59 ANOS          114\n",
       "7    >= 60 ANOS           35"
      ]
     },
     "execution_count": 25,
     "metadata": {},
     "output_type": "execute_result"
    }
   ],
   "source": [
    "microrregiao_itabira['FAIXA_ETARIA'] = microrregiao_itabira['FAIXA_ETARIA'].replace(['60 A 69 ANOS', '70 A 79 ANOS', '80 A 89 ANOS', '90 OU MAIS'], '>= 60 ANOS')\n",
    "microrregiao_itabira['FAIXA_ETARIA'] = microrregiao_itabira['FAIXA_ETARIA'].replace(['0'], 'Nao informado')\n",
    "\n",
    "grafico_faixa_etaria = microrregiao_itabira.groupby(['FAIXA_ETARIA']).contador.sum()\n",
    "grafico_faixa_etaria = pd.DataFrame({'Confirmados': grafico_faixa_etaria}).reset_index()\n",
    "grafico_faixa_etaria = (grafico_faixa_etaria.drop([0,6]))\n",
    "grafico_faixa_etaria"
   ]
  },
  {
   "cell_type": "code",
   "execution_count": 26,
   "metadata": {},
   "outputs": [
    {
     "name": "stdout",
     "output_type": "stream",
     "text": [
      "Porcentagem de confirmados entre 20 e 59 anos:  86%\n"
     ]
    }
   ],
   "source": [
    "denominador_20_59 = grafico_faixa_etaria['Confirmados'].sum()\n",
    "numerador_20_59 = grafico_faixa_etaria.iloc[[2,3,4,5],1].sum(axis=0)\n",
    "\n",
    "percent_entre_20_59 = (numerador_20_59/denominador_20_59)\n",
    "print(\"Porcentagem de confirmados entre 20 e 59 anos: \",\"{:.0%}\".format(percent_entre_20_59));"
   ]
  },
  {
   "cell_type": "code",
   "execution_count": 27,
   "metadata": {},
   "outputs": [
    {
     "name": "stdout",
     "output_type": "stream",
     "text": [
      "\n"
     ]
    }
   ],
   "source": [
    "print('')"
   ]
  },
  {
   "cell_type": "markdown",
   "metadata": {},
   "source": [
    "Por Raça:"
   ]
  },
  {
   "cell_type": "code",
   "execution_count": 30,
   "metadata": {},
   "outputs": [
    {
     "name": "stdout",
     "output_type": "stream",
     "text": [
      "Não informado:  281\n"
     ]
    },
    {
     "data": {
      "text/html": [
       "<div>\n",
       "<style scoped>\n",
       "    .dataframe tbody tr th:only-of-type {\n",
       "        vertical-align: middle;\n",
       "    }\n",
       "\n",
       "    .dataframe tbody tr th {\n",
       "        vertical-align: top;\n",
       "    }\n",
       "\n",
       "    .dataframe thead th {\n",
       "        text-align: right;\n",
       "    }\n",
       "</style>\n",
       "<table border=\"1\" class=\"dataframe\">\n",
       "  <thead>\n",
       "    <tr style=\"text-align: right;\">\n",
       "      <th></th>\n",
       "      <th>RACA</th>\n",
       "      <th>Quantidade</th>\n",
       "    </tr>\n",
       "  </thead>\n",
       "  <tbody>\n",
       "    <tr>\n",
       "      <td>0</td>\n",
       "      <td>AMARELA</td>\n",
       "      <td>124</td>\n",
       "    </tr>\n",
       "    <tr>\n",
       "      <td>1</td>\n",
       "      <td>BRANCA</td>\n",
       "      <td>106</td>\n",
       "    </tr>\n",
       "    <tr>\n",
       "      <td>3</td>\n",
       "      <td>PARDA</td>\n",
       "      <td>281</td>\n",
       "    </tr>\n",
       "    <tr>\n",
       "      <td>4</td>\n",
       "      <td>PRETA</td>\n",
       "      <td>46</td>\n",
       "    </tr>\n",
       "  </tbody>\n",
       "</table>\n",
       "</div>"
      ],
      "text/plain": [
       "      RACA  Quantidade\n",
       "0  AMARELA         124\n",
       "1   BRANCA         106\n",
       "3    PARDA         281\n",
       "4    PRETA          46"
      ]
     },
     "execution_count": 30,
     "metadata": {},
     "output_type": "execute_result"
    }
   ],
   "source": [
    "raca = microrregiao_itabira.groupby(['RACA']).contador.sum()\n",
    "raca = pd.DataFrame({'Quantidade': raca}).reset_index()\n",
    "print('Não informado: ', int(raca.iloc[3,1]))\n",
    "raca = raca.drop([2])\n",
    "raca"
   ]
  },
  {
   "cell_type": "code",
   "execution_count": 31,
   "metadata": {},
   "outputs": [
    {
     "name": "stdout",
     "output_type": "stream",
     "text": [
      "\n"
     ]
    }
   ],
   "source": [
    "print('')"
   ]
  },
  {
   "cell_type": "markdown",
   "metadata": {},
   "source": [
    "2_ PERFIL EPIDEMIOLOGICO DOS OBITOS"
   ]
  },
  {
   "cell_type": "markdown",
   "metadata": {},
   "source": [
    "POR SEXO:"
   ]
  },
  {
   "cell_type": "code",
   "execution_count": 32,
   "metadata": {},
   "outputs": [
    {
     "name": "stdout",
     "output_type": "stream",
     "text": [
      "Homens mortos:  4\n"
     ]
    }
   ],
   "source": [
    "Homens_mortos = microrregiao_itabira.loc[(microrregiao_itabira['SEXO'] == 'MASCULINO')]\n",
    "Homens_mortos = Homens_mortos.loc[Homens_mortos['EVOLUCAO'] == 'OBITO']\n",
    "Homens_mortos = Homens_mortos['contador'].sum()\n",
    "print(\"Homens mortos: \", int(Homens_mortos))"
   ]
  },
  {
   "cell_type": "code",
   "execution_count": 33,
   "metadata": {},
   "outputs": [
    {
     "name": "stdout",
     "output_type": "stream",
     "text": [
      "Mulheres mortas:  3\n"
     ]
    }
   ],
   "source": [
    "Mulheres_mortas = microrregiao_itabira.loc[(microrregiao_itabira['SEXO'] == 'FEMININO')]\n",
    "Mulheres_mortas = Mulheres_mortas.loc[Mulheres_mortas['EVOLUCAO'] == 'OBITO']\n",
    "Mulheres_mortas = Mulheres_mortas['contador'].sum()\n",
    "print(\"Mulheres mortas: \", int(Mulheres_mortas))"
   ]
  },
  {
   "cell_type": "code",
   "execution_count": 34,
   "metadata": {},
   "outputs": [
    {
     "name": "stdout",
     "output_type": "stream",
     "text": [
      "Procentagem de homens mortos:  57%\n"
     ]
    }
   ],
   "source": [
    "perct_por_sexo_H_mortos = Homens_mortos/(Homens_mortos+Mulheres_mortas)\n",
    "print(\"Procentagem de homens mortos: \",\"{:.0%}\".format(perct_por_sexo_H_mortos));"
   ]
  },
  {
   "cell_type": "code",
   "execution_count": 35,
   "metadata": {},
   "outputs": [
    {
     "name": "stdout",
     "output_type": "stream",
     "text": [
      "Porcentagem de mulheres mortas:  43%\n"
     ]
    }
   ],
   "source": [
    "perct_por_sexo_M_mortos = Mulheres_mortas/(Homens_mortos+Mulheres_mortas)\n",
    "print(\"Porcentagem de mulheres mortas: \",\"{:.0%}\".format(perct_por_sexo_M_mortos));"
   ]
  },
  {
   "cell_type": "code",
   "execution_count": 36,
   "metadata": {},
   "outputs": [
    {
     "name": "stdout",
     "output_type": "stream",
     "text": [
      "N total:  7\n"
     ]
    }
   ],
   "source": [
    "print(\"N total: \",int(Homens_mortos+Mulheres_mortas))"
   ]
  },
  {
   "cell_type": "code",
   "execution_count": 37,
   "metadata": {},
   "outputs": [
    {
     "name": "stdout",
     "output_type": "stream",
     "text": [
      "Letalidade:  0.72%\n"
     ]
    }
   ],
   "source": [
    "Letalidade = obitos_OP/Casos_confirmados\n",
    "print(\"Letalidade: \",\"{:.2%}\".format(Letalidade));"
   ]
  },
  {
   "cell_type": "code",
   "execution_count": 38,
   "metadata": {},
   "outputs": [
    {
     "name": "stdout",
     "output_type": "stream",
     "text": [
      "Media de idade dos óbitos:  57\n"
     ]
    }
   ],
   "source": [
    "Media_idade_obitos = obitos['IDADE'].mean()\n",
    "print(\"Media de idade dos óbitos: \",round(Media_idade_obitos))"
   ]
  },
  {
   "cell_type": "code",
   "execution_count": 39,
   "metadata": {},
   "outputs": [
    {
     "name": "stdout",
     "output_type": "stream",
     "text": [
      "\n"
     ]
    }
   ],
   "source": [
    "print('')"
   ]
  },
  {
   "cell_type": "markdown",
   "metadata": {},
   "source": [
    "Tabela Obitos por idade:"
   ]
  },
  {
   "cell_type": "code",
   "execution_count": 42,
   "metadata": {},
   "outputs": [
    {
     "data": {
      "text/html": [
       "<div>\n",
       "<style scoped>\n",
       "    .dataframe tbody tr th:only-of-type {\n",
       "        vertical-align: middle;\n",
       "    }\n",
       "\n",
       "    .dataframe tbody tr th {\n",
       "        vertical-align: top;\n",
       "    }\n",
       "\n",
       "    .dataframe thead th {\n",
       "        text-align: right;\n",
       "    }\n",
       "</style>\n",
       "<table border=\"1\" class=\"dataframe\">\n",
       "  <thead>\n",
       "    <tr style=\"text-align: right;\">\n",
       "      <th></th>\n",
       "      <th>FAIXA_ETARIA</th>\n",
       "      <th>Obitos</th>\n",
       "    </tr>\n",
       "  </thead>\n",
       "  <tbody>\n",
       "    <tr>\n",
       "      <td>0</td>\n",
       "      <td>20 A 29 ANOS</td>\n",
       "      <td>1</td>\n",
       "    </tr>\n",
       "    <tr>\n",
       "      <td>1</td>\n",
       "      <td>60 A 69 ANOS</td>\n",
       "      <td>2</td>\n",
       "    </tr>\n",
       "    <tr>\n",
       "      <td>2</td>\n",
       "      <td>70 A 79 ANOS</td>\n",
       "      <td>2</td>\n",
       "    </tr>\n",
       "    <tr>\n",
       "      <td>3</td>\n",
       "      <td>80 A 89 ANOS</td>\n",
       "      <td>1</td>\n",
       "    </tr>\n",
       "  </tbody>\n",
       "</table>\n",
       "</div>"
      ],
      "text/plain": [
       "   FAIXA_ETARIA  Obitos\n",
       "0  20 A 29 ANOS       1\n",
       "1  60 A 69 ANOS       2\n",
       "2  70 A 79 ANOS       2\n",
       "3  80 A 89 ANOS       1"
      ]
     },
     "execution_count": 42,
     "metadata": {},
     "output_type": "execute_result"
    }
   ],
   "source": [
    "grafico_faixa_etaria_mortos = obitos.groupby(['FAIXA_ETARIA']).contador.sum()\n",
    "grafico_faixa_etaria_mortos = pd.DataFrame({'Obitos': grafico_faixa_etaria_mortos}).reset_index()\n",
    "grafico_faixa_etaria_mortos = grafico_faixa_etaria_mortos.drop([4])\n",
    "grafico_faixa_etaria_mortos"
   ]
  },
  {
   "cell_type": "code",
   "execution_count": 43,
   "metadata": {},
   "outputs": [
    {
     "name": "stdout",
     "output_type": "stream",
     "text": [
      "Obitos acima de 60 anos:  71%\n"
     ]
    }
   ],
   "source": [
    "obitos60 = grafico_faixa_etaria_mortos.iloc[[1,2,3],1].sum(axis=0)\n",
    "percent_obitos_60 = obitos60/obitos_OP\n",
    "print(\"Obitos acima de 60 anos: \",\"{:.0%}\".format(percent_obitos_60))"
   ]
  },
  {
   "cell_type": "code",
   "execution_count": 44,
   "metadata": {},
   "outputs": [
    {
     "name": "stdout",
     "output_type": "stream",
     "text": [
      "\n"
     ]
    }
   ],
   "source": [
    "print('')"
   ]
  },
  {
   "cell_type": "markdown",
   "metadata": {},
   "source": [
    "RACA Obitos:"
   ]
  },
  {
   "cell_type": "code",
   "execution_count": 47,
   "metadata": {},
   "outputs": [
    {
     "data": {
      "text/html": [
       "<div>\n",
       "<style scoped>\n",
       "    .dataframe tbody tr th:only-of-type {\n",
       "        vertical-align: middle;\n",
       "    }\n",
       "\n",
       "    .dataframe tbody tr th {\n",
       "        vertical-align: top;\n",
       "    }\n",
       "\n",
       "    .dataframe thead th {\n",
       "        text-align: right;\n",
       "    }\n",
       "</style>\n",
       "<table border=\"1\" class=\"dataframe\">\n",
       "  <thead>\n",
       "    <tr style=\"text-align: right;\">\n",
       "      <th></th>\n",
       "      <th>RACA</th>\n",
       "      <th>Quantidade</th>\n",
       "    </tr>\n",
       "  </thead>\n",
       "  <tbody>\n",
       "    <tr>\n",
       "      <td>0</td>\n",
       "      <td>AMARELA</td>\n",
       "      <td>1</td>\n",
       "    </tr>\n",
       "    <tr>\n",
       "      <td>1</td>\n",
       "      <td>BRANCA</td>\n",
       "      <td>1</td>\n",
       "    </tr>\n",
       "    <tr>\n",
       "      <td>2</td>\n",
       "      <td>PARDA</td>\n",
       "      <td>2</td>\n",
       "    </tr>\n",
       "    <tr>\n",
       "      <td>3</td>\n",
       "      <td>PRETA</td>\n",
       "      <td>1</td>\n",
       "    </tr>\n",
       "  </tbody>\n",
       "</table>\n",
       "</div>"
      ],
      "text/plain": [
       "      RACA  Quantidade\n",
       "0  AMARELA           1\n",
       "1   BRANCA           1\n",
       "2    PARDA           2\n",
       "3    PRETA           1"
      ]
     },
     "execution_count": 47,
     "metadata": {},
     "output_type": "execute_result"
    }
   ],
   "source": [
    "raca_obitos = microrregiao_itabira.loc[microrregiao_itabira['EVOLUCAO'] == 'OBITO']\n",
    "raca_obitos = raca_obitos.groupby(['RACA']).contador.sum()\n",
    "raca_obitos = pd.DataFrame({'Quantidade': raca_obitos}).reset_index()\n",
    "#print('Não informado: ', raca_obitos.iloc[1,1])\n",
    "#raca_obitos = raca_obitos.drop([2])\n",
    "raca_obitos"
   ]
  },
  {
   "cell_type": "markdown",
   "metadata": {},
   "source": [
    "3_ DADOS HOSPITALARES:"
   ]
  },
  {
   "cell_type": "code",
   "execution_count": 40,
   "metadata": {},
   "outputs": [],
   "source": [
    "#microrregiao_itabira['INTERNACAO'].fillna('NAO', inplace = True)"
   ]
  },
  {
   "cell_type": "code",
   "execution_count": 48,
   "metadata": {},
   "outputs": [
    {
     "name": "stdout",
     "output_type": "stream",
     "text": [
      "Internados:  17\n"
     ]
    }
   ],
   "source": [
    "internados = microrregiao_itabira.loc[microrregiao_itabira['INTERNACAO'] == 'SIM']\n",
    "internados = internados['contador'].sum()\n",
    "print(\"Internados: \", int(internados))"
   ]
  },
  {
   "cell_type": "code",
   "execution_count": 49,
   "metadata": {},
   "outputs": [
    {
     "name": "stdout",
     "output_type": "stream",
     "text": [
      "Em isolamento_domiciliar:  9\n"
     ]
    }
   ],
   "source": [
    "isolamento_domiciliar = microrregiao_itabira.loc[microrregiao_itabira['EVOLUCAO'] == 'EM TRATAMENTO DOMICILIAR']\n",
    "print(\"Em isolamento_domiciliar: \", isolamento_domiciliar.contador.sum())"
   ]
  },
  {
   "cell_type": "code",
   "execution_count": 43,
   "metadata": {},
   "outputs": [
    {
     "name": "stdout",
     "output_type": "stream",
     "text": [
      "\n"
     ]
    }
   ],
   "source": [
    "print('')"
   ]
  },
  {
   "cell_type": "markdown",
   "metadata": {},
   "source": [
    "4_ PAINEL DA SRAG"
   ]
  },
  {
   "cell_type": "code",
   "execution_count": 44,
   "metadata": {},
   "outputs": [],
   "source": [
    "#importando os bancos de dados sobre SRAG.\n",
    "SRAG_base_20 = pd.read_csv('SRAG_data_20.csv',sep=';', encoding='latin-1')\n",
    "SRAG_base_19 = pd.read_csv('SRAG_data_19.csv',sep=';', encoding='latin-1')"
   ]
  },
  {
   "cell_type": "code",
   "execution_count": 47,
   "metadata": {},
   "outputs": [],
   "source": [
    "#limpando e organizando os dados sobre SRAG em 2020\n",
    "SRAG_base_20['contador'] = 1\n",
    "a = range(0,29)\n",
    "select1 = SRAG_base_20.loc[SRAG_base_20['ID_MUNICIP'] == 'BARAO DE COCAIS']\n",
    "select2 = SRAG_base_20.loc[SRAG_base_20['ID_MUNICIP'] == 'BOM JESUS DO AMPARO']\n",
    "select3 = SRAG_base_20.loc[SRAG_base_20['ID_MUNICIP'] == 'CATAS ALTAS']\n",
    "select4 = SRAG_base_20.loc[SRAG_base_20['ID_MUNICIP'] == 'FERROS']\n",
    "select5 = SRAG_base_20.loc[SRAG_base_20['ID_MUNICIP'] == 'NAO INFORMADO']\n",
    "select6 = SRAG_base_20.loc[SRAG_base_20['ID_MUNICIP'] == 'SANTA BARBARA']\n",
    "select7 = SRAG_base_20.loc[SRAG_base_20['ID_MUNICIP'] == 'SANTA MARIA DE ITABIRA']\n",
    "select8 = SRAG_base_20.loc[SRAG_base_20['ID_MUNICIP'] == 'SAO GONCALO DO RIO ABAIXO']\n",
    "select9 = SRAG_base_20.loc[SRAG_base_20['ID_MUNICIP'] == 'SAO SEBASTIAO DO RIO PRETO']\n",
    "select10 = SRAG_base_20.loc[SRAG_base_20['ID_MUNICIP'] == 'ITABIRA']\n",
    "SRAG_20 = pd.concat([select1,select2,select3,select4,select5,select6,select7,select8,select9,select10])\n",
    "SRAG_20\n",
    "X_20 = SRAG_20.groupby(['SEM_PRI']).contador.sum()\n",
    "X_20 = pd.DataFrame({\"Hospitalizados\": X_20}).reset_index()\n",
    "df = pd.DataFrame({\"SEM_PRI\":a})\n",
    "X_20 = pd.merge(X_20, df, how = 'right', on='SEM_PRI')\n",
    "X_20 = X_20.fillna('0')\n",
    "X_20 = X_20.set_index('SEM_PRI')\n",
    "X_20 = X_20.sort_index()\n",
    "X_20['index'] = X_20.index\n",
    "X_20['Hospitalizados'] = X_20['Hospitalizados'].astype('int')"
   ]
  },
  {
   "cell_type": "code",
   "execution_count": 48,
   "metadata": {
    "scrolled": true
   },
   "outputs": [],
   "source": [
    "#limpando e organizando os dados sobre SRAG 2019\n",
    "SRAG_base_19['contador'] = 1\n",
    "select1 = SRAG_base_19.loc[SRAG_base_19['ID_MUNICIP'] == 'BARAO DE COCAIS']\n",
    "select2 = SRAG_base_19.loc[SRAG_base_19['ID_MUNICIP'] == 'BOM JESUS DO AMPARO']\n",
    "select3 = SRAG_base_19.loc[SRAG_base_19['ID_MUNICIP'] == 'CATAS ALTAS']\n",
    "select4 = SRAG_base_19.loc[SRAG_base_19['ID_MUNICIP'] == 'FERROS']\n",
    "select5 = SRAG_base_19.loc[SRAG_base_19['ID_MUNICIP'] == 'NAO INFORMADO']\n",
    "select6 = SRAG_base_19.loc[SRAG_base_19['ID_MUNICIP'] == 'SANTA BARBARA']\n",
    "select7 = SRAG_base_19.loc[SRAG_base_19['ID_MUNICIP'] == 'SANTA MARIA DE ITABIRA']\n",
    "select8 = SRAG_base_19.loc[SRAG_base_19['ID_MUNICIP'] == 'SAO GONCALO DO RIO ABAIXO']\n",
    "select9 = SRAG_base_19.loc[SRAG_base_19['ID_MUNICIP'] == 'SAO SEBASTIAO DO RIO PRETO']\n",
    "select10 = SRAG_base_19.loc[SRAG_base_19['ID_MUNICIP'] == 'ITABIRA']\n",
    "SRAG_19 = pd.concat([select1,select2,select3,select4,select5,select6,select7,select8,select9,select10])\n",
    "SRAG_19\n",
    "\n",
    "X_19 = SRAG_19.groupby(['SEM_PRI']).contador.sum()\n",
    "X_19 = pd.DataFrame({\"Hospitalizados\": X_19}).reset_index()\n",
    "df = pd.DataFrame({\"SEM_PRI\":a})\n",
    "X_19 = pd.merge(X_19, df, how = 'right', on='SEM_PRI')\n",
    "X_19 = X_19.fillna('0')\n",
    "X_19 = X_19.set_index('SEM_PRI')\n",
    "X_19 = X_19.sort_index()\n",
    "X_19['index'] = X_19.index\n",
    "X_19['Hospitalizados'] = X_19['Hospitalizados'].astype('int')"
   ]
  },
  {
   "cell_type": "code",
   "execution_count": 49,
   "metadata": {},
   "outputs": [
    {
     "name": "stdout",
     "output_type": "stream",
     "text": [
      "2020 N =  82\n",
      "2019 N =  4\n"
     ]
    }
   ],
   "source": [
    "print(\"2020 N = \", SRAG_20.contador.sum())\n",
    "print(\"2019 N = \", SRAG_19.contador.sum())"
   ]
  },
  {
   "cell_type": "markdown",
   "metadata": {},
   "source": [
    "5_ DISTRIBUIÇÃO DOS CASOS"
   ]
  },
  {
   "cell_type": "code",
   "execution_count": 50,
   "metadata": {},
   "outputs": [
    {
     "name": "stdout",
     "output_type": "stream",
     "text": [
      "Casos sem obito: 960\n"
     ]
    }
   ],
   "source": [
    "confirmados_sem_obito = microrregiao_itabira.loc[(microrregiao_itabira['EVOLUCAO'] != 'OBITO')]\n",
    "confirmados_sem_obito = confirmados_sem_obito['contador'].sum()\n",
    "print(\"Casos sem obito:\", int(confirmados_sem_obito))"
   ]
  },
  {
   "cell_type": "code",
   "execution_count": 51,
   "metadata": {},
   "outputs": [
    {
     "name": "stdout",
     "output_type": "stream",
     "text": [
      "Obitos:  7\n"
     ]
    }
   ],
   "source": [
    "print(\"Obitos: \",int(obitos['contador'].sum()))"
   ]
  },
  {
   "cell_type": "code",
   "execution_count": 52,
   "metadata": {},
   "outputs": [
    {
     "name": "stdout",
     "output_type": "stream",
     "text": [
      "Casos confirmados totais:  967\n"
     ]
    }
   ],
   "source": [
    "print(\"Casos confirmados totais: \",int(Casos_confirmados))"
   ]
  },
  {
   "cell_type": "code",
   "execution_count": 49,
   "metadata": {},
   "outputs": [
    {
     "name": "stdout",
     "output_type": "stream",
     "text": [
      "\n"
     ]
    }
   ],
   "source": [
    "print('')"
   ]
  },
  {
   "cell_type": "code",
   "execution_count": 54,
   "metadata": {},
   "outputs": [],
   "source": [
    "brasil = pd.read_excel('HIST_PAINEL_COVIDBR_17jul2020.xlsx',sep=';', encoding='latin-1')"
   ]
  },
  {
   "cell_type": "code",
   "execution_count": 60,
   "metadata": {},
   "outputs": [
    {
     "data": {
      "text/plain": [
       "municipio\n",
       "Barão de Cocais                32485.0\n",
       "Bom Jesus do Amparo             6083.0\n",
       "Catas Altas                     5376.0\n",
       "Ferros                          9820.0\n",
       "Itabira                       120060.0\n",
       "Santa Bárbara                  26057.5\n",
       "Santa Maria de Itabira         10847.0\n",
       "São Gonçalo do Rio Abaixo      10920.0\n",
       "São Sebastião do Rio Preto      1506.0\n",
       "Name: populacaoTCU2019, dtype: float64"
      ]
     },
     "execution_count": 60,
     "metadata": {},
     "output_type": "execute_result"
    }
   ],
   "source": [
    "select1 = brasil.loc[brasil['municipio'] == 'Barão de Cocais']\n",
    "select2 = brasil.loc[brasil['municipio'] == 'Bom Jesus do Amparo']\n",
    "select3 = brasil.loc[brasil['municipio'] == 'Catas Altas']\n",
    "select4 = brasil.loc[brasil['municipio'] == 'Ferros']\n",
    "select5 = brasil.loc[brasil['municipio'] == 'Nao Informado']\n",
    "select6 = brasil.loc[brasil['municipio'] == 'Santa Bárbara']\n",
    "select7 = brasil.loc[brasil['municipio'] == 'Santa Maria de Itabira']\n",
    "select8 = brasil.loc[brasil['municipio'] == 'São Gonçalo do Rio Abaixo']\n",
    "select9 = brasil.loc[brasil['municipio'] == 'São Sebastião do Rio Preto']\n",
    "select10 = brasil.loc[brasil['municipio'] == 'Itabira']\n",
    "\n",
    "pdList = [select1,select2,select3,select4,select5,select6,select7,select8,select9,select10]\n",
    "pop_cidade = pd.concat(pdList)\n",
    "pop_cidade['populacaoTCU2019'] = pop_cidade['populacaoTCU2019'].astype('int')\n",
    "pop_cidade = pop_cidade.groupby(['municipio']).mean()['populacaoTCU2019']\n",
    "#pop_cidade.loc['NÃO INFORMADO'] = '-'\n",
    "pop_cidade\n",
    "#pop_cidade = pd.DataFrame({'População': pop_cidade}).reset_index\n",
    "#pop_cidade['População']"
   ]
  },
  {
   "cell_type": "code",
   "execution_count": 54,
   "metadata": {},
   "outputs": [],
   "source": [
    "#pd.set_option('display.max_rows', None)\n",
    "lista_confirmados = microrregiao_itabira.groupby(['MUNICIPIO_RESIDENCIA']).contador.sum()\n",
    "lista_confirmados = pd.DataFrame({\"Total de confirmados\": lista_confirmados}).reset_index()\n",
    "\n",
    "obitos_OP = microrregiao_itabira.loc[microrregiao_itabira['EVOLUCAO'] == 'OBITO']\n",
    "obitos_OP = obitos_OP.groupby(['MUNICIPIO_RESIDENCIA']).contador.sum()\n",
    "obitos_OP = pd.DataFrame({'Total de obitos': obitos_OP}).reset_index()\n",
    "\n",
    "tabela2 = lista_confirmados.join(obitos_OP.set_index('MUNICIPIO_RESIDENCIA'), on = 'MUNICIPIO_RESIDENCIA')\n",
    "tabela2 = tabela2.assign(Populaçao=[32485, 6083, 5376, 9820, 120060, 26057, 10847,10920,1506])\n",
    "tabela2['Prevalencia'] = round((tabela2['Total de confirmados']/tabela2['Populaçao']),4)\n",
    "tabela2['Taxa de mortalidade'] = round((tabela2['Total de obitos']/tabela2['Populaçao']),5)\n",
    "tabela2['Letalidade'] =  round((tabela2['Total de obitos']/tabela2['Total de confirmados']),3)\n",
    "#tabela2 = tabela2.reindex([3,1,0,2])\n",
    "#tabela2.iloc[5,4] = 'NaN'\n",
    "tabela2 = tabela2.drop(['Populaçao'], axis=1)\n",
    "tabela2 = tabela2.reset_index()\n",
    "tabela2 = tabela2.drop(['index'], axis=1)\n",
    "#tabela2"
   ]
  },
  {
   "cell_type": "markdown",
   "metadata": {},
   "source": [
    "Prevalência Micro Ouro Preto:"
   ]
  },
  {
   "cell_type": "code",
   "execution_count": 55,
   "metadata": {
    "scrolled": true
   },
   "outputs": [
    {
     "name": "stdout",
     "output_type": "stream",
     "text": [
      "BARAO DE COCAIS\n",
      "BOM JESUS DO AMPARO\n",
      "CATAS ALTAS\n",
      "FERROS\n",
      "ITABIRA\n",
      "SANTA BARBARA\n",
      "SANTA MARIA DE ITABIRA\n",
      "SAO GONCALO DO RIO ABAIXO\n",
      "SAO SEBASTIAO DO RIO PRETO\n"
     ]
    }
   ],
   "source": [
    "print(*list(tabela2['MUNICIPIO_RESIDENCIA']), sep= '\\n')"
   ]
  },
  {
   "cell_type": "code",
   "execution_count": 56,
   "metadata": {},
   "outputs": [
    {
     "name": "stdout",
     "output_type": "stream",
     "text": [
      " \n"
     ]
    }
   ],
   "source": [
    "print(' ')"
   ]
  },
  {
   "cell_type": "markdown",
   "metadata": {},
   "source": [
    "Numero de confirmados por cidade:"
   ]
  },
  {
   "cell_type": "code",
   "execution_count": 57,
   "metadata": {},
   "outputs": [
    {
     "name": "stdout",
     "output_type": "stream",
     "text": [
      "91\n",
      "4\n",
      "18\n",
      "9\n",
      "664\n",
      "128\n",
      "9\n",
      "42\n",
      "2\n"
     ]
    }
   ],
   "source": [
    "print(*list(tabela2['Total de confirmados']), sep='\\n')"
   ]
  },
  {
   "cell_type": "code",
   "execution_count": 58,
   "metadata": {},
   "outputs": [
    {
     "name": "stdout",
     "output_type": "stream",
     "text": [
      " \n"
     ]
    }
   ],
   "source": [
    "print(' ')"
   ]
  },
  {
   "cell_type": "markdown",
   "metadata": {},
   "source": [
    "Óbitos:"
   ]
  },
  {
   "cell_type": "code",
   "execution_count": 59,
   "metadata": {},
   "outputs": [
    {
     "name": "stdout",
     "output_type": "stream",
     "text": [
      "nan\n",
      "nan\n",
      "nan\n",
      "nan\n",
      "3.0\n",
      "1.0\n",
      "1.0\n",
      "2.0\n",
      "nan\n"
     ]
    }
   ],
   "source": [
    "print(*list(tabela2['Total de obitos']), sep='\\n')"
   ]
  },
  {
   "cell_type": "markdown",
   "metadata": {},
   "source": [
    "Prevalência:"
   ]
  },
  {
   "cell_type": "code",
   "execution_count": 60,
   "metadata": {},
   "outputs": [
    {
     "name": "stdout",
     "output_type": "stream",
     "text": [
      "0.0028\n",
      "0.0007\n",
      "0.0033\n",
      "0.0009\n",
      "0.0055\n",
      "0.0049\n",
      "0.0008\n",
      "0.0038\n",
      "0.0013\n"
     ]
    }
   ],
   "source": [
    "print(*list(tabela2['Prevalencia']), sep= '\\n')"
   ]
  },
  {
   "cell_type": "code",
   "execution_count": 61,
   "metadata": {},
   "outputs": [
    {
     "name": "stdout",
     "output_type": "stream",
     "text": [
      " \n"
     ]
    }
   ],
   "source": [
    "print(' ')"
   ]
  },
  {
   "cell_type": "markdown",
   "metadata": {},
   "source": [
    "Taxa de mortalidade:"
   ]
  },
  {
   "cell_type": "code",
   "execution_count": 62,
   "metadata": {},
   "outputs": [
    {
     "name": "stdout",
     "output_type": "stream",
     "text": [
      "nan\n",
      "nan\n",
      "nan\n",
      "nan\n",
      "2e-05\n",
      "4e-05\n",
      "9e-05\n",
      "0.00018\n",
      "nan\n"
     ]
    }
   ],
   "source": [
    "print(*list(tabela2['Taxa de mortalidade']), sep= '\\n')"
   ]
  },
  {
   "cell_type": "code",
   "execution_count": 63,
   "metadata": {},
   "outputs": [
    {
     "name": "stdout",
     "output_type": "stream",
     "text": [
      " \n"
     ]
    }
   ],
   "source": [
    "print(' ')"
   ]
  },
  {
   "cell_type": "markdown",
   "metadata": {},
   "source": [
    "Letalidade"
   ]
  },
  {
   "cell_type": "code",
   "execution_count": 64,
   "metadata": {},
   "outputs": [
    {
     "name": "stdout",
     "output_type": "stream",
     "text": [
      "nan\n",
      "nan\n",
      "nan\n",
      "nan\n",
      "0.005\n",
      "0.008\n",
      "0.111\n",
      "0.048\n",
      "nan\n"
     ]
    }
   ],
   "source": [
    "print(*list(tabela2['Letalidade']), sep= '\\n')"
   ]
  },
  {
   "cell_type": "code",
   "execution_count": 65,
   "metadata": {},
   "outputs": [
    {
     "name": "stdout",
     "output_type": "stream",
     "text": [
      "\n"
     ]
    }
   ],
   "source": [
    "print('')"
   ]
  },
  {
   "cell_type": "markdown",
   "metadata": {},
   "source": [
    "6. GRAFICOS DE COMPORTAMENTO DO COVID-19"
   ]
  },
  {
   "cell_type": "code",
   "execution_count": 66,
   "metadata": {},
   "outputs": [
    {
     "data": {
      "text/html": [
       "<div>\n",
       "<style scoped>\n",
       "    .dataframe tbody tr th:only-of-type {\n",
       "        vertical-align: middle;\n",
       "    }\n",
       "\n",
       "    .dataframe tbody tr th {\n",
       "        vertical-align: top;\n",
       "    }\n",
       "\n",
       "    .dataframe thead th {\n",
       "        text-align: right;\n",
       "    }\n",
       "</style>\n",
       "<table border=\"1\" class=\"dataframe\">\n",
       "  <thead>\n",
       "    <tr style=\"text-align: right;\">\n",
       "      <th></th>\n",
       "      <th>data</th>\n",
       "      <th>Casos novos por dia</th>\n",
       "      <th>Óbitos por dia</th>\n",
       "      <th>Total de confirmados</th>\n",
       "      <th>Total de obitos</th>\n",
       "      <th>index_data</th>\n",
       "    </tr>\n",
       "  </thead>\n",
       "  <tbody>\n",
       "    <tr>\n",
       "      <td>122</td>\n",
       "      <td>2020-07-18</td>\n",
       "      <td>0.0</td>\n",
       "      <td>0.0</td>\n",
       "      <td>956.0</td>\n",
       "      <td>7.0</td>\n",
       "      <td>120</td>\n",
       "    </tr>\n",
       "    <tr>\n",
       "      <td>123</td>\n",
       "      <td>2020-07-19</td>\n",
       "      <td>0.0</td>\n",
       "      <td>0.0</td>\n",
       "      <td>956.0</td>\n",
       "      <td>7.0</td>\n",
       "      <td>121</td>\n",
       "    </tr>\n",
       "    <tr>\n",
       "      <td>79</td>\n",
       "      <td>2020-07-20</td>\n",
       "      <td>5.0</td>\n",
       "      <td>0.0</td>\n",
       "      <td>961.0</td>\n",
       "      <td>7.0</td>\n",
       "      <td>122</td>\n",
       "    </tr>\n",
       "    <tr>\n",
       "      <td>80</td>\n",
       "      <td>2020-07-21</td>\n",
       "      <td>6.0</td>\n",
       "      <td>0.0</td>\n",
       "      <td>967.0</td>\n",
       "      <td>7.0</td>\n",
       "      <td>123</td>\n",
       "    </tr>\n",
       "    <tr>\n",
       "      <td>124</td>\n",
       "      <td>2020-07-22</td>\n",
       "      <td>0.0</td>\n",
       "      <td>0.0</td>\n",
       "      <td>967.0</td>\n",
       "      <td>7.0</td>\n",
       "      <td>124</td>\n",
       "    </tr>\n",
       "  </tbody>\n",
       "</table>\n",
       "</div>"
      ],
      "text/plain": [
       "          data  Casos novos por dia  Óbitos por dia  Total de confirmados  \\\n",
       "122 2020-07-18                  0.0             0.0                 956.0   \n",
       "123 2020-07-19                  0.0             0.0                 956.0   \n",
       "79  2020-07-20                  5.0             0.0                 961.0   \n",
       "80  2020-07-21                  6.0             0.0                 967.0   \n",
       "124 2020-07-22                  0.0             0.0                 967.0   \n",
       "\n",
       "     Total de obitos  index_data  \n",
       "122              7.0         120  \n",
       "123              7.0         121  \n",
       "79               7.0         122  \n",
       "80               7.0         123  \n",
       "124              7.0         124  "
      ]
     },
     "execution_count": 66,
     "metadata": {},
     "output_type": "execute_result"
    }
   ],
   "source": [
    "confirmados_OP = microrregiao_itabira.groupby(['DATA_NOTIFICACAO']).contador.sum()\n",
    "\n",
    "obitos_OP = microrregiao_itabira.loc[microrregiao_itabira['EVOLUCAO'] == 'OBITO']\n",
    "obitos_OP = obitos_OP.groupby(['DATA_NOTIFICACAO']).contador.sum()\n",
    "\n",
    "tabelac = pd.DataFrame({\"Casos novos por dia\": confirmados_OP}).reset_index()\n",
    "tabelao = pd.DataFrame({'Óbitos por dia': obitos_OP}).reset_index()\n",
    "tabela = tabelac.join(tabelao.set_index('DATA_NOTIFICACAO'), on = 'DATA_NOTIFICACAO')\n",
    "tabela = tabela.fillna(0)\n",
    "\n",
    "from datetime import datetime\n",
    "#transformar variavel str em date\n",
    "tabela['DATA_NOTIFICACAO'] = pd.to_datetime(tabela['DATA_NOTIFICACAO'], format='%Y-%m-%d')\n",
    "data = pd.date_range(start='20/03/2020', end='22/07/2020')\n",
    "data = data.astype('datetime64[ns]')\n",
    "data = pd.DataFrame(data)\n",
    "\n",
    "tabela['DATA_NOTIFICACAO'] = tabela['DATA_NOTIFICACAO'].astype('datetime64[ns]')\n",
    "tabela = tabela.merge(data, how = 'right', left_on='DATA_NOTIFICACAO', right_on=data[0])\n",
    "tabela = tabela.fillna(0)\n",
    "tabela.sort_values('DATA_NOTIFICACAO', inplace=True)\n",
    "\n",
    "tabela['Total de confirmados'] = np.cumsum(tabela['Casos novos por dia'])\n",
    "tabela['Total de obitos'] = np.cumsum(tabela['Óbitos por dia'])\n",
    "tabela = tabela.rename(columns={'DATA_NOTIFICACAO': 'data'})\n",
    "tabela.drop(tabela.columns[3], axis=1, inplace=True)\n",
    "\n",
    "tabela['index_data'] = [x for x in range(125)]\n",
    "tabela.tail()"
   ]
  },
  {
   "cell_type": "code",
   "execution_count": 57,
   "metadata": {},
   "outputs": [],
   "source": [
    "#dates = pd.date_range(start='2020/07/13', end='2020/12/07')\n",
    "#list(dates)\n",
    "#tabela = tabela[tabela['data'].isin(dates) == False]\n",
    "#tabela.tail()"
   ]
  },
  {
   "cell_type": "code",
   "execution_count": 68,
   "metadata": {},
   "outputs": [
    {
     "data": {
      "image/png": "[encoded data removed]",
      "text/plain": [
       "<Figure size 432x288 with 1 Axes>"
      ]
     },
     "metadata": {
      "needs_background": "light"
     },
     "output_type": "display_data"
    }
   ],
   "source": [
    "import matplotlib.pyplot as plt\n",
    "plt.bar(tabela.iloc[:,0].values, tabela.iloc[:,3].values)\n",
    "plt.xlabel('Dias ')\n",
    "plt.ylabel('Confirmados total')\n",
    "plt.xticks(rotation=60)\n",
    "plt.grid(True)"
   ]
  },
  {
   "cell_type": "code",
   "execution_count": 61,
   "metadata": {},
   "outputs": [],
   "source": [
    "#import matplotlib.pyplot as plt\n",
    "#plt.plot(tabela.iloc[:,0].values, tabela.iloc[:,4].values, color = \"red\")\n",
    "#plt.xlabel('Dias ')\n",
    "#plt.ylabel('Óbitos totais')\n",
    "#plt.xticks(rotation=60)\n",
    "#plt.grid(True)\n"
   ]
  },
  {
   "cell_type": "markdown",
   "metadata": {},
   "source": [
    "Grafico confirmados diarios Micro OP:"
   ]
  },
  {
   "cell_type": "code",
   "execution_count": 69,
   "metadata": {},
   "outputs": [
    {
     "data": {
      "image/png": "[encoded data removed]",
      "text/plain": [
       "<Figure size 432x288 with 1 Axes>"
      ]
     },
     "metadata": {
      "needs_background": "light"
     },
     "output_type": "display_data"
    }
   ],
   "source": [
    "import matplotlib.pyplot as plt\n",
    "plt.bar(tabela.iloc[:,0].values, tabela.iloc[:,1].values)\n",
    "plt.xlabel('Dias ')\n",
    "plt.ylabel('Contaminados Diariamente')\n",
    "plt.xticks(rotation=60)\n",
    "plt.grid(True)"
   ]
  },
  {
   "cell_type": "markdown",
   "metadata": {},
   "source": [
    "Grafico mortes diarias Micro OP:"
   ]
  },
  {
   "cell_type": "code",
   "execution_count": 63,
   "metadata": {},
   "outputs": [],
   "source": [
    "#import matplotlib.pyplot as plt\n",
    "#plt.bar(tabela.iloc[:,0].values, tabela.iloc[:,2].values, color = \"red\")\n",
    "#plt.xlabel('Dias ')\n",
    "#plt.ylabel('Óbitos diarios')\n",
    "#plt.xticks(rotation=60)\n",
    "#plt.grid(True)"
   ]
  },
  {
   "cell_type": "code",
   "execution_count": 70,
   "metadata": {},
   "outputs": [
    {
     "data": {
      "image/png": "[encoded data removed]",
      "text/plain": [
       "<Figure size 432x288 with 1 Axes>"
      ]
     },
     "metadata": {
      "needs_background": "light"
     },
     "output_type": "display_data"
    }
   ],
   "source": [
    "import matplotlib.pyplot as plt\n",
    "plt.bar(grafico_faixa_etaria.iloc[:,0].values, grafico_faixa_etaria.iloc[:,1].values)\n",
    "plt.ylabel('confirmados')\n",
    "plt.xticks(np.arange(0, 6), rotation=70)\n",
    "plt.grid(True)"
   ]
  },
  {
   "cell_type": "code",
   "execution_count": 65,
   "metadata": {},
   "outputs": [],
   "source": [
    "#microrregiao_itabira.groupby(['RACA']).contador.sum()"
   ]
  },
  {
   "cell_type": "code",
   "execution_count": 66,
   "metadata": {},
   "outputs": [
    {
     "data": {
      "image/png": "[encoded data removed]",
      "text/plain": [
       "<Figure size 432x288 with 1 Axes>"
      ]
     },
     "metadata": {},
     "output_type": "display_data"
    }
   ],
   "source": [
    "import matplotlib.pyplot as plt\n",
    "\n",
    "# Pie chart, where the slices will be ordered and plotted counter-clockwise:\n",
    "labels = 'AMARELA', 'BRANCA', 'PARDA', 'PRETA'\n",
    "sizes = raca['Quantidade']\n",
    "explode = (0, 0.1, 0, 0)  # only \"explode\" the 2nd slice (i.e. 'Hogs')\n",
    "\n",
    "fig1, ax1 = plt.subplots()\n",
    "ax1.pie(sizes, explode=explode, labels=labels, autopct='%1.1f%%',\n",
    "        shadow=True, startangle=90)\n",
    "ax1.axis('equal')  # Equal aspect ratio ensures that pie is drawn as a circle.\n",
    "\n",
    "plt.show()"
   ]
  },
  {
   "cell_type": "code",
   "execution_count": 67,
   "metadata": {},
   "outputs": [
    {
     "data": {
      "image/png": "[encoded data removed]",
      "text/plain": [
       "<Figure size 432x288 with 1 Axes>"
      ]
     },
     "metadata": {},
     "output_type": "display_data"
    }
   ],
   "source": [
    "import matplotlib.pyplot as plt\n",
    "\n",
    "# Pie chart, where the slices will be ordered and plotted counter-clockwise:\n",
    "labels = 'AMARELA','BRANCA', 'PARDA', 'PRETA'\n",
    "sizes = raca_obitos['Quantidade']\n",
    "explode = (0, 0.1, 0,0)  # only \"explode\" the 2nd slice (i.e. 'Hogs')\n",
    "\n",
    "fig1, ax1 = plt.subplots()\n",
    "ax1.pie(sizes, explode=explode, labels=labels, autopct='%1.1f%%',\n",
    "        shadow=True, startangle=90)\n",
    "ax1.axis('equal')  # Equal aspect ratio ensures that pie is drawn as a circle.\n",
    "\n",
    "plt.show()"
   ]
  },
  {
   "cell_type": "code",
   "execution_count": 86,
   "metadata": {},
   "outputs": [
    {
     "data": {
      "text/plain": [
       "<matplotlib.legend.Legend at 0x1edce0e1e88>"
      ]
     },
     "execution_count": 86,
     "metadata": {},
     "output_type": "execute_result"
    },
    {
     "data": {
      "image/png": "[encoded data removed]",
      "text/plain": [
       "<Figure size 432x288 with 1 Axes>"
      ]
     },
     "metadata": {
      "needs_background": "light"
     },
     "output_type": "display_data"
    }
   ],
   "source": [
    "import numpy as np\n",
    "import matplotlib.pyplot as plt\n",
    "\n",
    "N = 29\n",
    "hospitalizados_20 = X_20['Hospitalizados']\n",
    "width = 0.35\n",
    "\n",
    "ind = np.arange(N)  # the x locations for the groups\n",
    "\n",
    "fig, ax = plt.subplots()\n",
    "rects1 = ax.bar(ind, hospitalizados_20, width, color='r')\n",
    "\n",
    "hospitalizados_19 = X_19['Hospitalizados']\n",
    "rects2 = ax.bar(ind + width, hospitalizados_19, width, color='b')\n",
    "\n",
    "# add some text for labels, title and axes ticks\n",
    "ax.set_ylabel('Hospitalizados')\n",
    "plt.xlabel('Semanas epidemiológicas')\n",
    "plt.grid(True)\n",
    "\n",
    "ax.legend((rects1[0], rects2[0]), ('2020', '2019'))"
   ]
  },
  {
   "cell_type": "code",
   "execution_count": 65,
   "metadata": {},
   "outputs": [],
   "source": [
    "tabela.to_csv(\"tabela_micro_OP.csv\", index = False)"
   ]
  },
  {
   "cell_type": "code",
   "execution_count": null,
   "metadata": {},
   "outputs": [],
   "source": []
  }
 ],
 "metadata": {
  "celltoolbar": "Raw Cell Format",
  "kernelspec": {
   "display_name": "Python 3",
   "language": "python",
   "name": "python3"
  },
  "language_info": {
   "codemirror_mode": {
    "name": "ipython",
    "version": 3
   },
   "file_extension": ".py",
   "mimetype": "text/x-python",
   "name": "python",
   "nbconvert_exporter": "python",
   "pygments_lexer": "ipython3",
   "version": "3.7.4"
  }
 },
 "nbformat": 4,
 "nbformat_minor": 2
}
