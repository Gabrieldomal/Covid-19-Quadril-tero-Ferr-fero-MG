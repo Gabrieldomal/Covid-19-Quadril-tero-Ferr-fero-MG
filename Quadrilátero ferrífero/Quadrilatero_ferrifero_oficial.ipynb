{
 "cells": [
  {
   "cell_type": "code",
   "execution_count": 30,
   "metadata": {},
   "outputs": [
    {
     "data": {
      "text/html": [
       "<script>\n",
       "code_show=true; \n",
       "function code_toggle() {\n",
       " if (code_show){\n",
       " $('div.input').hide();\n",
       " } else {\n",
       " $('div.input').show();\n",
       " }\n",
       " code_show = !code_show\n",
       "} \n",
       "$( document ).ready(code_toggle);\n",
       "</script>\n",
       "<form action=\"javascript:code_toggle()\"><input type=\"submit\" value=\"Mostrar código.\"></form>"
      ],
      "text/plain": [
       "<IPython.core.display.HTML object>"
      ]
     },
     "execution_count": 30,
     "metadata": {},
     "output_type": "execute_result"
    }
   ],
   "source": [
    "from IPython.display import HTML\n",
    "\n",
    "HTML('''<script>\n",
    "code_show=true; \n",
    "function code_toggle() {\n",
    " if (code_show){\n",
    " $('div.input').hide();\n",
    " } else {\n",
    " $('div.input').show();\n",
    " }\n",
    " code_show = !code_show\n",
    "} \n",
    "$( document ).ready(code_toggle);\n",
    "</script>\n",
    "<form action=\"javascript:code_toggle()\"><input type=\"submit\" value=\"Mostrar código.\"></form>''')"
   ]
  },
  {
   "cell_type": "markdown",
   "metadata": {},
   "source": [
    "INFORMAÇÔES PARA A DISTRIBUIÇÂO BINOMIAL"
   ]
  },
  {
   "cell_type": "code",
   "execution_count": 1,
   "metadata": {},
   "outputs": [
    {
     "name": "stdout",
     "output_type": "stream",
     "text": [
      "Contaminados no quadrilátero ferrifero:  4255\n"
     ]
    }
   ],
   "source": [
    "import pandas as pd\n",
    "base = pd.read_csv('notificacoes-covid19-mg(45).csv',sep=';', encoding='latin-1')\n",
    "base['contador'] = 1\n",
    "\n",
    "select1 = base.loc[base['MUNICIPIO_RESIDENCIA'] == 'NOVA LIMA']\n",
    "select2 = base.loc[base['MUNICIPIO_RESIDENCIA'] == 'BELO VALE']\n",
    "select3 = base.loc[base['MUNICIPIO_RESIDENCIA'] == 'BETIM']\n",
    "select30 = base.loc[base['MUNICIPIO_RESIDENCIA'] == 'BRUMADINHO']\n",
    "select31 = base.loc[base['MUNICIPIO_RESIDENCIA'] == 'CONSELHEIRO LAFAIETE']\n",
    "select33 = base.loc[base['MUNICIPIO_RESIDENCIA'] == 'CATAS ALTAS']\n",
    "select4 = base.loc[base['MUNICIPIO_RESIDENCIA'] == 'ALVINÓPOLIS']\n",
    "select5 = base.loc[base['MUNICIPIO_RESIDENCIA'] == 'BARÃO DE COCAIS']\n",
    "select6 = base.loc[base['MUNICIPIO_RESIDENCIA'] == 'CAETÉ']\n",
    "select7 = base.loc[base['MUNICIPIO_RESIDENCIA'] == 'CONGONHAS']\n",
    "select32 = base.loc[base['MUNICIPIO_RESIDENCIA'] == 'IBIRITE']\n",
    "select8 = base.loc[base['MUNICIPIO_RESIDENCIA'] == 'IGARAPÉ']\n",
    "select9 = base.loc[base['MUNICIPIO_RESIDENCIA'] == 'ITABIRA']\n",
    "select10 = base.loc[base['MUNICIPIO_RESIDENCIA'] == 'ITABIRITO']\n",
    "select11 = base.loc[base['MUNICIPIO_RESIDENCIA'] == 'ITATIAIUÇU']\n",
    "select12 = base.loc[base['MUNICIPIO_RESIDENCIA'] == 'ITAÚNA']\n",
    "select13 = base.loc[base['MUNICIPIO_RESIDENCIA'] == 'JECEABA']\n",
    "select14 = base.loc[base['MUNICIPIO_RESIDENCIA'] == 'JOÃO MONLEVADE']\n",
    "select15 = base.loc[base['MUNICIPIO_RESIDENCIA'] == 'MARIANA']\n",
    "select16 = base.loc[base['MUNICIPIO_RESIDENCIA'] == 'MATEUS LEME']\n",
    "select17 = base.loc[base['MUNICIPIO_RESIDENCIA'] == 'MOEDA']\n",
    "select18 = base.loc[base['MUNICIPIO_RESIDENCIA'] == 'OURO PRETO']\n",
    "select19 = base.loc[base['MUNICIPIO_RESIDENCIA'] == 'OURO BRANCO']\n",
    "select20 = base.loc[base['MUNICIPIO_RESIDENCIA'] == 'RAPOSOS']\n",
    "select21 = base.loc[base['MUNICIPIO_RESIDENCIA'] == 'SÃO GONÇALO DO RIO ABAIXO']\n",
    "select22 = base.loc[base['MUNICIPIO_RESIDENCIA'] == 'RIO ACIMA']\n",
    "select23 = base.loc[base['MUNICIPIO_RESIDENCIA'] == 'RIO MANSO']\n",
    "select24 = base.loc[base['MUNICIPIO_RESIDENCIA'] == 'RIO PIRACICABA']\n",
    "select25 = base.loc[base['MUNICIPIO_RESIDENCIA'] == 'SABARÁ']\n",
    "select26 = base.loc[base['MUNICIPIO_RESIDENCIA'] == 'SANTA BÁRBARA']\n",
    "select27 = base.loc[base['MUNICIPIO_RESIDENCIA'] == 'SANTA LUZIA']\n",
    "select28 = base.loc[base['MUNICIPIO_RESIDENCIA'] == 'SÃO JOAQUIM DE BICAS']\n",
    "select29 = base.loc[base['MUNICIPIO_RESIDENCIA'] == 'SARZEDO']\n",
    "\n",
    "quadrilátero_ferrifero = pd.concat([select1,select2,select3,select4,select5,select6,select7,select8,select9,select10,select11,select12,select13,select14,select15,select16,select17,select18,select19,select20,select21,select22,select23,select24,select25,select26,select27,select28,select29,select30,select31,select32,select33])\n",
    "\n",
    "contaminados_quad = quadrilátero_ferrifero.contador.sum()\n",
    "print('Contaminados no quadrilátero ferrifero: ', contaminados_quad)"
   ]
  },
  {
   "cell_type": "code",
   "execution_count": 5,
   "metadata": {},
   "outputs": [],
   "source": [
    "#MICRORREGIÃO DE ITBIRA\n",
    "select1 = base.loc[base['MUNICIPIO_RESIDENCIA'] == 'ALVINÓPOLIS']\n",
    "select2 = base.loc[base['MUNICIPIO_RESIDENCIA'] == 'BARÃO DE COCAIS']\n",
    "select3 = base.loc[base['MUNICIPIO_RESIDENCIA'] == 'BELA VISTA DE MINAS']\n",
    "select4 = base.loc[base['MUNICIPIO_RESIDENCIA'] == 'BOM JESUS DO AMPARO']\n",
    "select5 = base.loc[base['MUNICIPIO_RESIDENCIA'] == 'CATAS ALTAS']\n",
    "select6 = base.loc[base['MUNICIPIO_RESIDENCIA'] == 'DIONÍSIO']\n",
    "select7 = base.loc[base['MUNICIPIO_RESIDENCIA'] == 'FERROS']\n",
    "select8 = base.loc[base['MUNICIPIO_RESIDENCIA'] == 'ITABIRA']\n",
    "select9 = base.loc[base['MUNICIPIO_RESIDENCIA'] == 'JOÃO MONLEVADE']\n",
    "select10 = base.loc[base['MUNICIPIO_RESIDENCIA'] == 'NOVA ERA']\n",
    "select11 = base.loc[base['MUNICIPIO_RESIDENCIA'] == 'NOVA UNIÃO']\n",
    "select12 = base.loc[base['MUNICIPIO_RESIDENCIA'] == 'RIO PIRACICAPBA']\n",
    "select13 = base.loc[base['MUNICIPIO_RESIDENCIA'] == 'SANTA BÁRBARA']\n",
    "select14 = base.loc[base['MUNICIPIO_RESIDENCIA'] == 'SANTA MARIA DE ITABIRA']\n",
    "select15 = base.loc[base['MUNICIPIO_RESIDENCIA'] == 'SÃO DOMINGOS DO PRATA']\n",
    "select16 = base.loc[base['MUNICIPIO_RESIDENCIA'] == 'SÃO GONÇALO DO RIO ABAIXO']\n",
    "select17 = base.loc[base['MUNICIPIO_RESIDENCIA'] == 'SÃO JOSÉ DO GOIABAL']\n",
    "select18 = base.loc[base['MUNICIPIO_RESIDENCIA'] == 'TAQUARAÇU DE MINAS']\n",
    "\n",
    "microrregiao_itabira = pd.concat([select1,select2,select3,select4,select5,select6,select7,select8,select9,select10,select11,select12,select13,select14,select15,select16,select17,select18])\n",
    "\n",
    "Casos_confirmados_itabira = microrregiao_itabira.contador.sum()\n",
    "casos_fora_itabira = contaminados_quad - Casos_confirmados_itabira"
   ]
  },
  {
   "cell_type": "code",
   "execution_count": 13,
   "metadata": {},
   "outputs": [],
   "source": [
    "obitos_itabira = microrregiao_itabira.loc[microrregiao_itabira['EVOLUCAO'] == 'OBITO']\n",
    "obitos_itabira = obitos_itabira.contador.sum()\n",
    "obitos_quad_ferrifero = quadrilátero_ferrifero.loc[quadrilátero_ferrifero['EVOLUCAO'] == 'OBITO']\n",
    "obitos_quad_ferrifero = obitos_quad_ferrifero.contador.sum()\n",
    "obitos_fora_itabira = obitos_quad_ferrifero - obitos_itabira"
   ]
  },
  {
   "cell_type": "code",
   "execution_count": 2,
   "metadata": {
    "scrolled": true
   },
   "outputs": [
    {
     "name": "stdout",
     "output_type": "stream",
     "text": [
      "População quadrilatero:  1456854\n"
     ]
    }
   ],
   "source": [
    "pop_qf = pd.read_csv('pop_qf.csv',sep=';', encoding='latin-1')\n",
    "pop1 = pop_qf.POPULACAO_ESTIMADA_2019.sum()\n",
    "print('População quadrilatero: ', pop1)"
   ]
  },
  {
   "cell_type": "code",
   "execution_count": 33,
   "metadata": {},
   "outputs": [
    {
     "name": "stdout",
     "output_type": "stream",
     "text": [
      "Taxa de contaminação no quadrilátero: 0.0029206770204838646\n"
     ]
    }
   ],
   "source": [
    "tx1 = contaminados_quad/pop1\n",
    "print('Taxa de contaminação no quadrilátero:', tx1)"
   ]
  },
  {
   "cell_type": "code",
   "execution_count": 34,
   "metadata": {},
   "outputs": [
    {
     "name": "stdout",
     "output_type": "stream",
     "text": [
      "População fora do quadrilátero: 17199867\n"
     ]
    }
   ],
   "source": [
    "pop_nqf = pd.read_csv('pop_nqf.csv',sep=';', encoding='latin-1')\n",
    "pop2 = pop_nqf.POPULACAO_ESTIMADA_2019.sum()\n",
    "print('População fora do quadrilátero:', pop2)"
   ]
  },
  {
   "cell_type": "code",
   "execution_count": 35,
   "metadata": {},
   "outputs": [],
   "source": [
    "#pop_total = pop1+pop2\n",
    "#pop_total"
   ]
  },
  {
   "cell_type": "code",
   "execution_count": 36,
   "metadata": {},
   "outputs": [
    {
     "name": "stdout",
     "output_type": "stream",
     "text": [
      "Numero de contaminados fora do quadrilátero:  28514\n"
     ]
    }
   ],
   "source": [
    "nqf = contaminados_MG-contaminados_quad\n",
    "print('Numero de contaminados fora do quadrilátero: ', nqf)"
   ]
  },
  {
   "cell_type": "code",
   "execution_count": 37,
   "metadata": {},
   "outputs": [
    {
     "name": "stdout",
     "output_type": "stream",
     "text": [
      "Taxa de contaminação em MINAS fora do quadrilátero: 0.0016578035167364956\n"
     ]
    }
   ],
   "source": [
    "tx2 = nqf/pop2\n",
    "print('Taxa de contaminação em MINAS fora do quadrilátero:', tx2)"
   ]
  },
  {
   "cell_type": "code",
   "execution_count": 16,
   "metadata": {},
   "outputs": [
    {
     "name": "stdout",
     "output_type": "stream",
     "text": [
      "Letalidade fora de Itabira:  0.02121595946801773\n"
     ]
    }
   ],
   "source": [
    "#dentro do quadrilátero\n",
    "letalidade_fora_Itabira = obitos_fora_itabira/casos_fora_itabira\n",
    "print('Letalidade fora de Itabira: ', letalidade_fora_Itabira)"
   ]
  },
  {
   "cell_type": "code",
   "execution_count": null,
   "metadata": {},
   "outputs": [],
   "source": []
  }
 ],
 "metadata": {
  "kernelspec": {
   "display_name": "Python 3",
   "language": "python",
   "name": "python3"
  },
  "language_info": {
   "codemirror_mode": {
    "name": "ipython",
    "version": 3
   },
   "file_extension": ".py",
   "mimetype": "text/x-python",
   "name": "python",
   "nbconvert_exporter": "python",
   "pygments_lexer": "ipython3",
   "version": "3.7.4"
  }
 },
 "nbformat": 4,
 "nbformat_minor": 2
}
